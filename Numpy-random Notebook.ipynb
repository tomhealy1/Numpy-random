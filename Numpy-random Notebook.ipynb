{
 "cells": [
  {
   "cell_type": "markdown",
   "metadata": {},
   "source": [
    "# The numpy-random Package"
   ]
  },
  {
   "cell_type": "markdown",
   "metadata": {},
   "source": [
    "The purpose of this assignment is to explore and investigate the numpy.random package and its use in Python Data Analysis. The assignment is broken down into 4 separate tasks in the notebook. They are:\n",
    "\n",
    "* Explain the overall purpose of the package\n",
    "* Explain the use of the \"Simple random data\" and \"Permutations\" functions\n",
    "* Explain the use and purpose of at least five \" Distributions\" functions\n",
    "* Explain the use of seeds in generatinf pseudorandom numbers"
   ]
  },
  {
   "cell_type": "markdown",
   "metadata": {},
   "source": [
    "### Section 1 Explain the overall purpose of the package"
   ]
  },
  {
   "cell_type": "markdown",
   "metadata": {},
   "source": [
    "**Numpy** is a library for conducting numerical computing in Python. Numpy is a portmanteau formed from **Num**-eric and **py**-thon. The library contains numerous features that are of great utility in data analysis/science. Examples of these are:\n",
    "\n",
    "* Data structures\n",
    "* Algorithms\n",
    "* Ability to carry out task such as indexing, slicing and iterating \n",
    "\n",
    "Numpy and pandas are the two most important packages we interact with when working with datasets.\n",
    "\n",
    "The numpy.random module allows us to generate many quantities(a few integers to massive amounts of random items) and types such as floats, integers and even strings.\n",
    "\n",
    "We can use the generated objects to validate ML models, \n",
    "\n"
   ]
  },
  {
   "cell_type": "markdown",
   "metadata": {},
   "source": [
    "### Section 2 Explain the use of the \"Simple random data\" and \"Permutations\" functions"
   ]
  },
  {
   "cell_type": "markdown",
   "metadata": {},
   "source": [
    "First we will import the packages we will need for the assignment. Once Numpy is imported we will run through simple randon data genereatio using the commanads outlined in the Numpy documentation found at https://docs.scipy.org/doc/numpy-1.14.0/reference/routines.random.html . We will begin with the random package which is called by using ```np.random.rand()``` command."
   ]
  },
  {
   "cell_type": "code",
   "execution_count": 28,
   "metadata": {},
   "outputs": [],
   "source": [
    "import pandas as pd\n",
    "import numpy as np\n",
    "import matplotlib.pyplot as plt\n",
    "import scipy.stats as stats\n",
    "import seaborn as sns\n",
    "%matplotlib inline\n"
   ]
  },
  {
   "cell_type": "code",
   "execution_count": 3,
   "metadata": {},
   "outputs": [
    {
     "data": {
      "text/plain": [
       "array([0.5158904 , 0.1214687 , 0.02524444, 0.17574812])"
      ]
     },
     "execution_count": 3,
     "metadata": {},
     "output_type": "execute_result"
    }
   ],
   "source": [
    "#The np.random.rand returns random values in a given shape.\n",
    "#We can generate a simple array (1 dimensional array) with random numbers with 4 items by calling:\n",
    "np.random.rand(4)"
   ]
  },
  {
   "cell_type": "code",
   "execution_count": 4,
   "metadata": {},
   "outputs": [
    {
     "data": {
      "text/plain": [
       "array([[0.64140867, 0.99201116, 0.33283102, 0.33550594],\n",
       "       [0.9509765 , 0.29800443, 0.43855161, 0.70447715]])"
      ]
     },
     "execution_count": 4,
     "metadata": {},
     "output_type": "execute_result"
    }
   ],
   "source": [
    "#We can then generate more complex (2 dimensional array) arrays with randon numbers. Here are creating 2 x 2 shaped dataset.\n",
    "np.random.rand(2,4)"
   ]
  },
  {
   "cell_type": "code",
   "execution_count": 5,
   "metadata": {},
   "outputs": [
    {
     "data": {
      "text/plain": [
       "array([[[0.68875731, 0.91143805, 0.0686446 , 0.45899637],\n",
       "        [0.18319924, 0.53664028, 0.80580404, 0.08646901],\n",
       "        [0.78041256, 0.19588532, 0.24004476, 0.04850135],\n",
       "        [0.25035667, 0.27909252, 0.75110793, 0.43487542]],\n",
       "\n",
       "       [[0.94260792, 0.0042428 , 0.14875254, 0.03704472],\n",
       "        [0.38817441, 0.94145199, 0.3373417 , 0.38931974],\n",
       "        [0.16724203, 0.33196297, 0.91072957, 0.78859183],\n",
       "        [0.15174103, 0.91600793, 0.30224965, 0.22281478]],\n",
       "\n",
       "       [[0.05682798, 0.43767975, 0.86206319, 0.5780515 ],\n",
       "        [0.66923848, 0.94492928, 0.51800182, 0.5035598 ],\n",
       "        [0.34750668, 0.93740169, 0.93040296, 0.92799019],\n",
       "        [0.53867193, 0.28765767, 0.00413683, 0.90131328]]])"
      ]
     },
     "execution_count": 5,
     "metadata": {},
     "output_type": "execute_result"
    }
   ],
   "source": [
    "#Here we are creating a 3 dimensional array and assigning it to x\n",
    "\n",
    "x = np.random.rand(3,4,4)\n",
    "x"
   ]
  },
  {
   "cell_type": "code",
   "execution_count": 6,
   "metadata": {},
   "outputs": [
    {
     "data": {
      "text/plain": [
       "array([[[6.88757309, 9.11438045, 0.68644596, 4.58996367],\n",
       "        [1.83199237, 5.36640279, 8.0580404 , 0.86469009],\n",
       "        [7.8041256 , 1.95885323, 2.4004476 , 0.48501353],\n",
       "        [2.50356666, 2.79092521, 7.51107934, 4.34875416]],\n",
       "\n",
       "       [[9.4260792 , 0.04242803, 1.48752545, 0.37044724],\n",
       "        [3.88174409, 9.41451992, 3.37341697, 3.89319745],\n",
       "        [1.67242028, 3.31962969, 9.10729568, 7.88591834],\n",
       "        [1.51741028, 9.16007927, 3.02249653, 2.22814779]],\n",
       "\n",
       "       [[0.56827981, 4.37679746, 8.62063187, 5.780515  ],\n",
       "        [6.6923848 , 9.44929281, 5.18001817, 5.03559802],\n",
       "        [3.47506677, 9.37401694, 9.30402961, 9.27990192],\n",
       "        [5.38671935, 2.87657669, 0.04136833, 9.01313276]]])"
      ]
     },
     "execution_count": 6,
     "metadata": {},
     "output_type": "execute_result"
    }
   ],
   "source": [
    "#We can then manipulate this data by interacting with output by its assigned variable, in this case x:\n",
    "x * 10"
   ]
  },
  {
   "cell_type": "code",
   "execution_count": 7,
   "metadata": {},
   "outputs": [
    {
     "data": {
      "text/plain": [
       "array([[-0.42454783, -1.86893459, -0.16243411, -0.42266861],\n",
       "       [ 0.71759357,  0.83616772,  1.24821654, -1.26793756],\n",
       "       [ 0.34600134,  0.93134961, -0.59883117,  0.31756939],\n",
       "       [ 0.24968491,  2.07825241, -0.13668126, -0.36192542],\n",
       "       [ 0.02623084,  0.95688663, -0.0201936 ,  0.568534  ],\n",
       "       [ 0.25346409, -1.34641245, -0.30148282,  1.17134886],\n",
       "       [ 0.07015284,  0.05219331, -0.30778283,  1.01057056],\n",
       "       [-1.54095387, -0.66671692, -0.34537364, -0.71639336],\n",
       "       [ 2.18137628, -0.58915171,  1.24268043, -0.86628308],\n",
       "       [ 1.31579196,  0.22452928, -0.43257991, -1.25511735],\n",
       "       [-0.26725693, -0.12816223,  0.11929003, -0.54875485],\n",
       "       [-1.71758172, -1.13865815,  0.90547061,  0.74120746],\n",
       "       [ 0.05158203, -0.45014597,  0.8551131 ,  0.10731495],\n",
       "       [ 0.51590926,  2.02596878,  0.96827452, -0.01366004],\n",
       "       [ 0.10678808,  1.64412168, -0.43269226, -0.90797079],\n",
       "       [ 0.35649009, -0.68221372,  0.17257538, -2.47954935],\n",
       "       [-0.51638355,  0.68966736,  1.2114711 ,  0.29511933],\n",
       "       [ 0.71872722, -1.50820494,  0.20051555,  0.36954775],\n",
       "       [ 0.27510399,  2.12524754,  0.08602883, -0.2107148 ],\n",
       "       [-0.39514672, -0.80715472, -0.62225958,  1.55999544]])"
      ]
     },
     "execution_count": 7,
     "metadata": {},
     "output_type": "execute_result"
    }
   ],
   "source": [
    "#np.random.randn\n",
    "#The np.random.randn function returns samples from a normal distribution(Gaussian) with mean 0 and standard deviation of 1.\n",
    "np.random.randn(20,4)\n",
    "\n",
    "\n",
    "\n"
   ]
  },
  {
   "cell_type": "code",
   "execution_count": 8,
   "metadata": {},
   "outputs": [
    {
     "data": {
      "text/plain": [
       "array([ 8,  4,  9, 12,  2,  5])"
      ]
     },
     "execution_count": 8,
     "metadata": {},
     "output_type": "execute_result"
    }
   ],
   "source": [
    "#np.random.randint\n",
    "#Let's say we want some integers (generate 6 integers between 0 and 15 (not including 15)). Here we are using the\n",
    "#```randint``` or random interger function to create the ints.\n",
    "np.random.randint(0, 15, 6)\n"
   ]
  },
  {
   "cell_type": "code",
   "execution_count": 9,
   "metadata": {},
   "outputs": [],
   "source": [
    "#np.random.random_integers has been deprecated, the doc recommend using np.random.radint instead\n"
   ]
  },
  {
   "cell_type": "code",
   "execution_count": 10,
   "metadata": {},
   "outputs": [
    {
     "name": "stdout",
     "output_type": "stream",
     "text": [
      "\n",
      " Here we have a 1 Dimensional Array:\n",
      " [0.74511326 0.1143951  0.25918091 0.24941415 0.7496065 ]\n",
      "\n",
      " Here we have a 2 Dimensional Array:\n",
      " [[0.95938234 0.83375262]\n",
      " [0.93157016 0.35659589]\n",
      " [0.30028484 0.91923308]\n",
      " [0.54544375 0.00547844]\n",
      " [0.60187973 0.66162592]]\n",
      "\n",
      " Here we have a 3 Dimensional Array:\n",
      " [[[0.98977277 0.67468463 0.46255291]\n",
      "  [0.80468426 0.94095991 0.70098961]]\n",
      "\n",
      " [[0.23276103 0.42203366 0.55818248]\n",
      "  [0.73507836 0.08221183 0.85810516]]\n",
      "\n",
      " [[0.061388   0.08351514 0.45096379]\n",
      "  [0.58886724 0.38018532 0.50433885]]\n",
      "\n",
      " [[0.40726811 0.54486141 0.37532634]\n",
      "  [0.82081375 0.66062583 0.05293512]]\n",
      "\n",
      " [[0.07708856 0.95344339 0.95580216]\n",
      "  [0.83503023 0.56001923 0.81939449]]]\n"
     ]
    }
   ],
   "source": [
    "#np.random.random_sample. The functions returns a array populated with float based on the inputs. We can add more\n",
    "#dimensions by manipulating the function\n",
    "\n",
    "a = np.random.random_sample(5)\n",
    "print(\"\\n\",\"Here we have a 1 Dimensional Array:\\n\",a)\n",
    "\n",
    "b = np.random.random_sample((5,2))\n",
    "print(\"\\n\",\"Here we have a 2 Dimensional Array:\\n\",b)\n",
    "c = np.random.random_sample((5,2,3))\n",
    "print(\"\\n\",\"Here we have a 3 Dimensional Array:\\n\",c)\n"
   ]
  },
  {
   "cell_type": "code",
   "execution_count": 11,
   "metadata": {},
   "outputs": [
    {
     "data": {
      "text/plain": [
       "0.9204253820027898"
      ]
     },
     "execution_count": 11,
     "metadata": {},
     "output_type": "execute_result"
    }
   ],
   "source": [
    "#np.random.random\n",
    "#This functions returns a array populated with float based on the inputs. Can be manipulated as above.\n",
    "\n",
    "np.random.random()"
   ]
  },
  {
   "cell_type": "code",
   "execution_count": 12,
   "metadata": {},
   "outputs": [],
   "source": [
    "#np.random.ranf\n",
    "#This functions seems to carry the same action as the function before it."
   ]
  },
  {
   "cell_type": "code",
   "execution_count": 13,
   "metadata": {},
   "outputs": [],
   "source": [
    "#np.random.sample\n",
    "#np.random.random_sample\n",
    "#np.random.ranf\n",
    "#np.random.random\n",
    "\n",
    "#These functions all seem to carry out the same action as the function before it, i.e. random sampling. Within the numpy \n",
    "#packages there seems to be a few that are redundant as the exact or real word function can be accomplished by another. "
   ]
  },
  {
   "cell_type": "code",
   "execution_count": 14,
   "metadata": {},
   "outputs": [
    {
     "data": {
      "text/plain": [
       "array([3, 7, 0, 8])"
      ]
     },
     "execution_count": 14,
     "metadata": {},
     "output_type": "execute_result"
    }
   ],
   "source": [
    "#np.random.choice\n",
    "#We can even use the random module to make a choice for us, here it will give us an output of 4 number between 0 and 10.\n",
    "np.random.choice(10,4)"
   ]
  },
  {
   "cell_type": "code",
   "execution_count": 15,
   "metadata": {},
   "outputs": [
    {
     "name": "stdout",
     "output_type": "stream",
     "text": [
      "2\n"
     ]
    }
   ],
   "source": [
    "#np.random.choice\n",
    "#The np.function.choice function returns a random sample from an array (1D array)\n",
    "tom = [1,2,3,4,5]\n",
    "print(np.random.choice(tom))"
   ]
  },
  {
   "cell_type": "code",
   "execution_count": 16,
   "metadata": {},
   "outputs": [
    {
     "data": {
      "text/plain": [
       "array(['Tom'], dtype='<U5')"
      ]
     },
     "execution_count": 16,
     "metadata": {},
     "output_type": "execute_result"
    }
   ],
   "source": [
    "#We can do the same for non numbers, returns a random choice with the datatype a unicode 5 character string\n",
    "gMit = ['Tom', 'Brian', 'Ian']\n",
    "np.random.choice(gMit,1)"
   ]
  },
  {
   "cell_type": "code",
   "execution_count": 17,
   "metadata": {},
   "outputs": [
    {
     "data": {
      "text/plain": [
       "b't\\x8b'"
      ]
     },
     "execution_count": 17,
     "metadata": {},
     "output_type": "execute_result"
    }
   ],
   "source": [
    "np.random.bytes(2)"
   ]
  },
  {
   "cell_type": "markdown",
   "metadata": {},
   "source": [
    "### Permutations\n",
    "The permutations functions deals with items that are re-ordered when calling the function. There seems to be two functions, the shuffle function and permutations function.\n",
    "\n",
    "The Permutation function takes an array and returns a copy of the array with the item reordered. The shuffle functions does the reodering in place."
   ]
  },
  {
   "cell_type": "code",
   "execution_count": 18,
   "metadata": {},
   "outputs": [
    {
     "data": {
      "text/plain": [
       "array([2, 3, 4, 1, 0])"
      ]
     },
     "execution_count": 18,
     "metadata": {},
     "output_type": "execute_result"
    }
   ],
   "source": [
    "np.random.permutation(5)\n"
   ]
  },
  {
   "cell_type": "code",
   "execution_count": 19,
   "metadata": {},
   "outputs": [
    {
     "data": {
      "text/plain": [
       "array([0, 4, 3, 1, 2])"
      ]
     },
     "execution_count": 19,
     "metadata": {},
     "output_type": "execute_result"
    }
   ],
   "source": [
    "#Shuffle\n",
    "arr = np.arange(5)\n",
    "np.random.shuffle(arr)\n",
    "arr\n"
   ]
  },
  {
   "cell_type": "markdown",
   "metadata": {},
   "source": [
    "### Section 3 Explain the use and purpose of at least five <strong>\"Distributions\"</strong> functions"
   ]
  },
  {
   "cell_type": "markdown",
   "metadata": {},
   "source": [
    "Having conducted research on the most common distributions used in data science, I decided to select 8 distributions. What a distribution tells us spread of data over a given interval. With categorical data is will tell how frequetly data falls into a certain group. With numerical data, we can see the variation and spread of the values. The 8 distributions I have selected:\n",
    "\n",
    "* Bernoulli - ```df = bernoulli.rvs(size=1000,p=0.5)```\n",
    "* Uniform\n",
    "* Normal(Gaussian)\n",
    "* Binomial\n",
    "* Poisson\n",
    "* Exponential\n",
    "* Log Normal\n",
    "* Student-t"
   ]
  },
  {
   "cell_type": "markdown",
   "metadata": {},
   "source": [
    "### Bernoulli Distribution\n",
    "\n",
    "While not a specific distribution called from the random package ( it seems related to the geometric distribution), I think the distribution should be here as sometime\n",
    "we will be dealing with observations that only have two outcomes, i.e. heads or tails, pass or fail or in the case of\n",
    "HR (my principal area of of interest) if some will leave or stay within a certain date."
   ]
  },
  {
   "cell_type": "code",
   "execution_count": 50,
   "metadata": {},
   "outputs": [
    {
     "data": {
      "text/plain": [
       "[Text(0, 0.5, 'Frequency'),\n",
       " Text(0.5, 0, 'Bernoulli - Only two possible outcomes such as heads or tails')]"
      ]
     },
     "execution_count": 50,
     "metadata": {},
     "output_type": "execute_result"
    },
    {
     "data": {
      "image/png": "[encoded data removed]",
      "text/plain": [
       "<Figure size 432x288 with 1 Axes>"
      ]
     },
     "metadata": {
      "needs_background": "light"
     },
     "output_type": "display_data"
    }
   ],
   "source": [
    "#Here we are using the distribution applied to coin tosses. Calling ```df = bernoulli.rvs(size=1000,p=0.5)``` where \n",
    "#size is the number of observations or experienents and p is the bias, i.e. so here we have an unbiased coin.\n",
    "from scipy.stats import bernoulli\n",
    "df = bernoulli.rvs(size=1000,p=0.5)\n",
    "ax = sns.distplot(df,\n",
    "                  kde=True,\n",
    "                  color='black',\n",
    "                  hist_kws={\"linewidth\": 15,'alpha':0.1})\n",
    "ax.set(xlabel='Bernoulli - Only two possible outcomes such as heads or tails', ylabel='Frequency')"
   ]
  },
  {
   "cell_type": "markdown",
   "metadata": {},
   "source": [
    "### Uniform Distribution\n",
    "Continuing our tour on distributions for dummies, we will graduate from coin tosses to rolls of the dice. In the Bernoulli distribution we only have two outcomes possible, in the uniform distirbution we have a possibly unlimited number of outcomes (in our case 8) because we are using a 8 sided dice .\n",
    "\n",
    "\n",
    "\n",
    "The probability density function of the uniform distribution is\n",
    "\n",
    "                                            p(x) = \\frac{1}{b - a}\n",
    "\n",
    "anywhere within the interval [a, b), and zero elsewhere.\n",
    "\n",
    "When high == low, values of low will be returned. If high < low, the results are officially undefined and may eventually raise an error, i.e. do not rely on this function to behave when passed arguments satisfying that inequality condition. Taken from <emp>https://docs.scipy.org/doc/numpy-1.15.1/reference/generated/numpy.random.uniform.html#numpy.random.uniform</emp>"
   ]
  },
  {
   "cell_type": "code",
   "execution_count": 22,
   "metadata": {},
   "outputs": [],
   "source": [
    "#Let's draw some examples from a uniform distribution and plot them.\n",
    "t = np.random.uniform(-1,0,1000)"
   ]
  },
  {
   "cell_type": "code",
   "execution_count": 23,
   "metadata": {},
   "outputs": [
    {
     "data": {
      "text/plain": [
       "True"
      ]
     },
     "execution_count": 23,
     "metadata": {},
     "output_type": "execute_result"
    }
   ],
   "source": [
    "#This is a test to check all values are within our range\n",
    "np.all(t>=-1)"
   ]
  },
  {
   "cell_type": "code",
   "execution_count": 25,
   "metadata": {},
   "outputs": [
    {
     "data": {
      "text/plain": [
       "True"
      ]
     },
     "execution_count": 25,
     "metadata": {},
     "output_type": "execute_result"
    }
   ],
   "source": [
    "np.all(t < 0 )"
   ]
  },
  {
   "cell_type": "code",
   "execution_count": 26,
   "metadata": {},
   "outputs": [
    {
     "data": {
      "image/png": "[encoded data removed]",
      "text/plain": [
       "<Figure size 432x288 with 1 Axes>"
      ]
     },
     "metadata": {
      "needs_background": "light"
     },
     "output_type": "display_data"
    }
   ],
   "source": [
    "count, bins, ignored = plt.hist(t, 15, density=True)\n",
    "plt.plot(bins, np.ones_like(bins), linewidth=4, color='g')\n",
    "plt.show()"
   ]
  },
  {
   "cell_type": "markdown",
   "metadata": {},
   "source": [
    "Below we show theBernoulli distribution applied to the outcome of a 8 sided dice being tossed."
   ]
  },
  {
   "cell_type": "code",
   "execution_count": 35,
   "metadata": {},
   "outputs": [
    {
     "data": {
      "text/plain": [
       "(0, 1)"
      ]
     },
     "execution_count": 35,
     "metadata": {},
     "output_type": "execute_result"
    },
    {
     "data": {
      "image/png": "[encoded data removed]",
      "text/plain": [
       "<Figure size 432x288 with 1 Axes>"
      ]
     },
     "metadata": {
      "needs_background": "light"
     },
     "output_type": "display_data"
    }
   ],
   "source": [
    "prob = np.full((8), 1/8)\n",
    "face = [1,2,3,4,5,6,7,8]\n",
    "plt.bar(face, prob)\n",
    "plt.ylabel('Probability', fontsize=24)\n",
    "plt.xlabel('8 sided Dice Roll Outcome', fontsize=24)\n",
    "plt.title('Fair 8 sided Dice Uniform Distribution', fontsize=24)\n",
    "axes = plt.gca()\n",
    "axes.set_ylim([0,1])"
   ]
  },
  {
   "cell_type": "markdown",
   "metadata": {},
   "source": [
    "### Normal Distribution\n",
    "\n",
    "The normal distribution is the classic bell shaped curve, it is also known as the gaussian distribution. It is the most well known distribution and has been used to describe the distribution of incomes in an economy, weight in poulations, perfromance review scores. \n",
    "\n",
    "The normal distribution has a few fundamental characteristics. We can recognise a normal distribution due to its shape. The curve is <strong>symmetrical</strong>, the mode, median and mean are all the same value, clustering the values symetrically around the mean.\n",
    "\n",
    "It is also <strong>unimodal</strong>, it is highest in the middle and curves downwards. \n",
    "\n",
    "It is also decribed as <strong>asymptoptic</strong> , meaning the upper and lower tails of the distribution never meets the \n",
    "baseline/x-axis.\n",
    "\n",
    "The central limit theorem says (approximately) that a random variable definied as the average of a large number of independant and identically distributed random variables is itself normally distributed.\n",
    "\n",
    "If we know the values of the mean and the standard deviation in a normally distributed popultion we can predict the probability of exact values by looking at the distribution. If we look at below, we can see that 99.7% of values fall with 3 standard deviations of the mean, 95% ish fall with 2 standard deviations and 68% fall with one standard deviation."
   ]
  },
  {
   "cell_type": "markdown",
   "metadata": {},
   "source": [
    "![title](bell-shaped.png)"
   ]
  },
  {
   "cell_type": "code",
   "execution_count": 37,
   "metadata": {},
   "outputs": [
    {
     "data": {
      "image/png": "[encoded data removed]",
      "text/plain": [
       "<Figure size 432x288 with 1 Axes>"
      ]
     },
     "metadata": {
      "needs_background": "light"
     },
     "output_type": "display_data"
    }
   ],
   "source": [
    "mu, sigma = 0, 0.1 # mean and standard deviation\n",
    "s = np.random.normal(mu, sigma, 1000)\n",
    "count, bins, ignored = plt.hist(s, 30, density=True)\n",
    "plt.plot(bins, 1/(sigma * np.sqrt(2 * np.pi)) *\n",
    "               np.exp( - (bins - mu)**2 / (2 * sigma**2) ),\n",
    "         linewidth=2, color='black')\n",
    "plt.show()"
   ]
  },
  {
   "cell_type": "code",
   "execution_count": 38,
   "metadata": {},
   "outputs": [
    {
     "data": {
      "text/plain": [
       "Text(0.5, 1.0, 'Normal Distribution')"
      ]
     },
     "execution_count": 38,
     "metadata": {},
     "output_type": "execute_result"
    },
    {
     "data": {
      "image/png": "[encoded data removed]",
      "text/plain": [
       "<Figure size 432x288 with 1 Axes>"
      ]
     },
     "metadata": {
      "needs_background": "light"
     },
     "output_type": "display_data"
    }
   ],
   "source": [
    "#Here we have the more traditional plot of the bell shaped curve.\n",
    "n = np.arange(-1000, 1000)\n",
    "mean = 0\n",
    "normal = stats.norm.pdf(n, mean, 300)\n",
    "plt.plot(n, normal)\n",
    "plt.xlabel('Distribution', fontsize=12)\n",
    "plt.ylabel('Probability', fontsize=12)\n",
    "plt.title(\"Normal Distribution\")"
   ]
  },
  {
   "cell_type": "markdown",
   "metadata": {},
   "source": [
    "### Student-t Distribution"
   ]
  },
  {
   "cell_type": "markdown",
   "metadata": {},
   "source": [
    "The student-t distribution can be any of many probability distributions that arise from estimating the mean of a normally/gaussian distributed population in scenarios where the sample size (degree of freedom refers to the number of independant obvs in a data set)is low and the population's standard deviation (how spread out the values are) is unknown."
   ]
  },
  {
   "cell_type": "markdown",
   "metadata": {},
   "source": [
    "Below we are showing the example used at https://docs.scipy.org/doc/numpy-1.15.1/reference/generated/numpy.random.standard_t.html?highlight=student . This example is showing how much does the energy intake for 11 women diviate from 95% of the recommeded calorific intake."
   ]
  },
  {
   "cell_type": "code",
   "execution_count": 70,
   "metadata": {},
   "outputs": [],
   "source": [
    "intake = np.array([5260., 5470, 5640, 6180, 6390, 6515, 6805, 7515, \\\n",
    "                   7515, 8230, 8770])"
   ]
  },
  {
   "cell_type": "code",
   "execution_count": 73,
   "metadata": {},
   "outputs": [
    {
     "data": {
      "text/plain": [
       "1142.1232221373727"
      ]
     },
     "execution_count": 73,
     "metadata": {},
     "output_type": "execute_result"
    }
   ],
   "source": [
    "s = np.random.standard_t(10, size=100000)\n",
    "np.mean(intake)\n",
    "\n",
    "intake.std(ddof=1)"
   ]
  },
  {
   "cell_type": "code",
   "execution_count": 74,
   "metadata": {},
   "outputs": [
    {
     "data": {
      "image/png": "[encoded data removed]",
      "text/plain": [
       "<Figure size 432x288 with 1 Axes>"
      ]
     },
     "metadata": {
      "needs_background": "light"
     },
     "output_type": "display_data"
    }
   ],
   "source": [
    "t = (np.mean(intake)-7725)/(intake.std(ddof=1)/np.sqrt(len(intake)))\n",
    "import matplotlib.pyplot as plt\n",
    "h = plt.hist(s, bins=100, density=True)"
   ]
  },
  {
   "cell_type": "code",
   "execution_count": 75,
   "metadata": {},
   "outputs": [
    {
     "data": {
      "text/plain": [
       "0.00924"
      ]
     },
     "execution_count": 75,
     "metadata": {},
     "output_type": "execute_result"
    }
   ],
   "source": [
    "#p value is equal to .009\n",
    "np.sum(s<t) / float(len(s))"
   ]
  },
  {
   "cell_type": "markdown",
   "metadata": {},
   "source": [
    "### Binomial Distribution\n",
    "The binomial distribution shows the distribution of possible outcomes for two outcomes in a series of experiments. Taking our coin toss as an example let's say we want to understand what is the outcome for a number of events say how many time heads will show up in 1000 experiement where we flip the coin 20 times. The chances of a heads or tails is even. The binomial distribution assumes that each trial or event is independant of each other and there can only be two outcomes.\n"
   ]
  },
  {
   "cell_type": "code",
   "execution_count": 40,
   "metadata": {},
   "outputs": [
    {
     "data": {
      "text/plain": [
       "[Text(0, 0.5, 'Frequency'), Text(0.5, 0, 'Binomial distribtuion')]"
      ]
     },
     "execution_count": 40,
     "metadata": {},
     "output_type": "execute_result"
    },
    {
     "data": {
      "image/png": "[encoded data removed]",
      "text/plain": [
       "<Figure size 432x288 with 1 Axes>"
      ]
     },
     "metadata": {
      "needs_background": "light"
     },
     "output_type": "display_data"
    }
   ],
   "source": [
    "#Here we are generating one thousand data pionts in which flip the coin twenty times with an unbiased coin. \n",
    "df1 = stats.binom.rvs(n=20,p=0.5,loc=0,size=1000)\n",
    "ax = sns.distplot(df1,\n",
    "                  kde=True,\n",
    "                  color='green',\n",
    "                  hist_kws={\"linewidth\": 30,'alpha':0.3})\n",
    "ax.set(xlabel='Binomial distribtuion', ylabel='Frequency')\n",
    "\n"
   ]
  },
  {
   "cell_type": "code",
   "execution_count": 42,
   "metadata": {},
   "outputs": [
    {
     "data": {
      "text/plain": [
       "0.6230468749999999"
      ]
     },
     "execution_count": 42,
     "metadata": {},
     "output_type": "execute_result"
    }
   ],
   "source": [
    "#Thought this was a nice bit of code (cdf = culmulative distribution function) that complements the distribution. \n",
    "#Here we are seeing what is the probability of seeing 5(k) heads in 10(n) trials and using an unbiased coin (p=.5).\n",
    "stats.binom.cdf(k=5,        \n",
    "                n=10,       \n",
    "                p=0.5)"
   ]
  },
  {
   "cell_type": "markdown",
   "metadata": {},
   "source": [
    "### Poisson \n",
    "The poisson is a useful distribution for understanding the occurence of event when we dont know how often it occurs. Good examples for poisson distributions are mechanical fault on an assembly line or call centre activity. \n",
    "\n",
    "The below image shows the formula for deriving the Poisson distribution.\n",
    "\n",
    "λ is the greek letter L and here it refers to the average rate of an event happening. "
   ]
  },
  {
   "cell_type": "markdown",
   "metadata": {},
   "source": [
    "![title](poisson.png)"
   ]
  },
  {
   "cell_type": "code",
   "execution_count": 90,
   "metadata": {},
   "outputs": [],
   "source": [
    "s = np.random.poisson(5, 100000)"
   ]
  },
  {
   "cell_type": "code",
   "execution_count": 91,
   "metadata": {},
   "outputs": [
    {
     "data": {
      "image/png": "[encoded data removed]",
      "text/plain": [
       "<Figure size 432x288 with 1 Axes>"
      ]
     },
     "metadata": {
      "needs_background": "light"
     },
     "output_type": "display_data"
    }
   ],
   "source": [
    "counts, bins, ignored = plt.hist(s, 14, density=True)\n",
    "plt.show()"
   ]
  },
  {
   "cell_type": "code",
   "execution_count": 83,
   "metadata": {},
   "outputs": [
    {
     "data": {
      "text/plain": [
       "array([[100, 500],\n",
       "       [ 92, 504],\n",
       "       [ 97, 521],\n",
       "       [ 99, 482],\n",
       "       [ 97, 517],\n",
       "       [ 96, 457],\n",
       "       [110, 537],\n",
       "       [ 94, 461],\n",
       "       [ 94, 488],\n",
       "       [ 89, 504],\n",
       "       [ 95, 481],\n",
       "       [118, 521],\n",
       "       [ 98, 481],\n",
       "       [ 91, 517],\n",
       "       [109, 510],\n",
       "       [ 98, 518],\n",
       "       [ 92, 536],\n",
       "       [107, 507],\n",
       "       [103, 500],\n",
       "       [ 98, 489],\n",
       "       [105, 504],\n",
       "       [118, 488],\n",
       "       [100, 501],\n",
       "       [109, 517],\n",
       "       [ 97, 493],\n",
       "       [ 91, 529],\n",
       "       [ 99, 497],\n",
       "       [ 81, 493],\n",
       "       [ 88, 467],\n",
       "       [103, 529],\n",
       "       [109, 486],\n",
       "       [102, 501],\n",
       "       [ 98, 505],\n",
       "       [ 92, 514],\n",
       "       [103, 535],\n",
       "       [ 92, 495],\n",
       "       [ 96, 489],\n",
       "       [115, 491],\n",
       "       [ 80, 471],\n",
       "       [100, 488],\n",
       "       [ 94, 499],\n",
       "       [ 90, 505],\n",
       "       [ 89, 479],\n",
       "       [ 96, 543],\n",
       "       [108, 509],\n",
       "       [109, 535],\n",
       "       [118, 517],\n",
       "       [ 83, 486],\n",
       "       [108, 494],\n",
       "       [ 91, 516]])"
      ]
     },
     "execution_count": 83,
     "metadata": {},
     "output_type": "execute_result"
    }
   ],
   "source": [
    "#How to draw 50 values for lambda 100 and 500\n",
    "z = np.random.poisson(lam=(100., 500.), size=(50, 2))\n",
    "z"
   ]
  },
  {
   "cell_type": "markdown",
   "metadata": {},
   "source": [
    "### Exponential \n",
    "The exponentail distribution is used to mdel the time taken between the occurance of different events. Again, in HR we can use the exponential curve to model the survival curve of employees. \n",
    "\n",
    "The model uses lambda λ to "
   ]
  },
  {
   "cell_type": "markdown",
   "metadata": {},
   "source": [
    "### Log Normal"
   ]
  },
  {
   "cell_type": "markdown",
   "metadata": {},
   "source": [
    "### Section 4 Explain the use of seeds in generating pseudorandom numbers"
   ]
  },
  {
   "cell_type": "code",
   "execution_count": null,
   "metadata": {},
   "outputs": [],
   "source": []
  },
  {
   "cell_type": "markdown",
   "metadata": {},
   "source": [
    "# References\n",
    "https://towardsdatascience.com/probability-distributions-in-data-science-cce6e64873a7\n",
    "\n",
    "https://docs.scipy.org/doc/numpy-1.15.0/reference/routines.random.html\n",
    "\n",
    "Kinney, W., Python for Data Analysis\n",
    "\n",
    "Grus, J.,Data Science From Scratch, First Principles with Python\n",
    "\n",
    "Albon, C,. Machine Learning with Python Cookbook\n",
    "\n",
    "Hastie, T. Tibshirani, R. Friedman,J .The Elements of Statistical Learning:Data Mining, Inference, and Prediction\n",
    "\n",
    "James, J.,  Witten, D., Hastie, T., Tibshirani R., An Introduction to Statistical Learning"
   ]
  },
  {
   "cell_type": "code",
   "execution_count": null,
   "metadata": {},
   "outputs": [],
   "source": []
  }
 ],
 "metadata": {
  "kernelspec": {
   "display_name": "Python 3",
   "language": "python",
   "name": "python3"
  },
  "language_info": {
   "codemirror_mode": {
    "name": "ipython",
    "version": 3
   },
   "file_extension": ".py",
   "mimetype": "text/x-python",
   "name": "python",
   "nbconvert_exporter": "python",
   "pygments_lexer": "ipython3",
   "version": "3.7.1"
  }
 },
 "nbformat": 4,
 "nbformat_minor": 2
}
