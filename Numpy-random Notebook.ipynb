{
 "cells": [
  {
   "cell_type": "markdown",
   "metadata": {},
   "source": [
    "# The numpy-random Package"
   ]
  },
  {
   "cell_type": "markdown",
   "metadata": {},
   "source": [
    "The purpose of this assignment is to explore and investigate the numpy.random package and its use in Python Data Analysis. The assignment is broken down into 4 separate tasks in the notebook. They are:\n",
    "\n",
    "* Explain the overall purpose of the package\n",
    "* Explain the use of the \"Simple random data\" and \"Permutations\" functions\n",
    "* Explain the use and purpose of at least five \" Distributions\" functions\n",
    "* Explain the use of seeds in generatinf pseudorandom numbers"
   ]
  },
  {
   "cell_type": "markdown",
   "metadata": {},
   "source": [
    "### Section 1 Explain the overall purpose of the package"
   ]
  },
  {
   "cell_type": "markdown",
   "metadata": {},
   "source": [
    "**Numpy** is a library for conducting numerical computing in Python. Numpy is a portmanteau formed from **Num**-eric and **py**-thon. The library contains numerous features that are of great utility in data analysis/science. Examples of these are:\n",
    "\n",
    "* Data structures\n",
    "* Algorithms\n",
    "* Ability to carry out task such as indexing, slicing and iterating \n",
    "\n",
    "Numpy and pandas are the two most important packages we interact with when working with datasets.\n",
    "\n",
    "The numpy.random module allows us to generate many quantities(a few integers to massive amounts of random items) and types such as floats, integers and even strings.\n",
    "\n",
    "We can use the generated objects to validate ML models, \n",
    "\n"
   ]
  },
  {
   "cell_type": "markdown",
   "metadata": {},
   "source": [
    "### Section 2 Explain the use of the \"Simple random data\" and \"Permutations\" functions"
   ]
  },
  {
   "cell_type": "markdown",
   "metadata": {},
   "source": [
    "We start numpy by importing it as np. We will generate some simple random data. We will explore random arrays, calling different random functions and the different items that can be contained within an arrray in the random package. The random package is called by using ```np.random.rand()``` command"
   ]
  },
  {
   "cell_type": "code",
   "execution_count": 2,
   "metadata": {},
   "outputs": [],
   "source": [
    "import numpy as np\n"
   ]
  },
  {
   "cell_type": "code",
   "execution_count": 3,
   "metadata": {},
   "outputs": [
    {
     "data": {
      "text/plain": [
       "array([0.60749485, 0.49830396, 0.01731522, 0.77589799])"
      ]
     },
     "execution_count": 3,
     "metadata": {},
     "output_type": "execute_result"
    }
   ],
   "source": [
    "#We can generate a simple array (1 dimensional array) with randon numbers with 4 items by calling:\n",
    "np.random.rand(4)"
   ]
  },
  {
   "cell_type": "code",
   "execution_count": 16,
   "metadata": {},
   "outputs": [
    {
     "data": {
      "text/plain": [
       "array([[0.21765203, 0.55862469],\n",
       "       [0.64520405, 0.05193673]])"
      ]
     },
     "execution_count": 16,
     "metadata": {},
     "output_type": "execute_result"
    }
   ],
   "source": [
    "#We can then generate more complex (2 dimensional array) arrays with randon numbers. Here are creating 2 x 2 shaped dataset.\n",
    "np.random.rand(2,2)"
   ]
  },
  {
   "cell_type": "code",
   "execution_count": 18,
   "metadata": {},
   "outputs": [
    {
     "data": {
      "text/plain": [
       "array([[[0.85540596, 0.58600647, 0.21200953, 0.27743741],\n",
       "        [0.22504978, 0.27940693, 0.69096936, 0.47433007],\n",
       "        [0.19847189, 0.87615572, 0.79834379, 0.33800481],\n",
       "        [0.84411966, 0.93889414, 0.0091362 , 0.86248172]],\n",
       "\n",
       "       [[0.67201678, 0.44940871, 0.60973254, 0.43653339],\n",
       "        [0.0615382 , 0.16951666, 0.1717281 , 0.16528858],\n",
       "        [0.31694038, 0.75236706, 0.61877074, 0.11570501],\n",
       "        [0.75499658, 0.83845807, 0.04645168, 0.15482887]],\n",
       "\n",
       "       [[0.23822711, 0.50485569, 0.1643776 , 0.87580451],\n",
       "        [0.99100575, 0.18088051, 0.40207351, 0.16653291],\n",
       "        [0.08028736, 0.64268357, 0.07743699, 0.70235067],\n",
       "        [0.57930233, 0.42151335, 0.70153876, 0.38365109]]])"
      ]
     },
     "execution_count": 18,
     "metadata": {},
     "output_type": "execute_result"
    }
   ],
   "source": [
    "#Here we are creating a 3 dimensional array.\n",
    "\n",
    "x = np.random.rand(3,4,4)\n",
    "x"
   ]
  },
  {
   "cell_type": "code",
   "execution_count": 9,
   "metadata": {},
   "outputs": [
    {
     "data": {
      "text/plain": [
       "array([[8.63499799, 7.02030818, 3.89032687, 8.23371771],\n",
       "       [2.31713609, 9.2137812 , 7.77437405, 5.36121143],\n",
       "       [5.1988979 , 6.7017292 , 6.43723503, 6.45641181],\n",
       "       [2.39397935, 6.19032028, 9.9000586 , 7.72017732]])"
      ]
     },
     "execution_count": 9,
     "metadata": {},
     "output_type": "execute_result"
    }
   ],
   "source": [
    "#We can then manipulate this data by interacting with output by its assigned variable, in this case x:\n",
    "x * 10"
   ]
  },
  {
   "cell_type": "code",
   "execution_count": 19,
   "metadata": {},
   "outputs": [
    {
     "data": {
      "text/plain": [
       "array([3, 7, 7, 5, 8, 8])"
      ]
     },
     "execution_count": 19,
     "metadata": {},
     "output_type": "execute_result"
    }
   ],
   "source": [
    "#Let's say we want some intergers (generate 6 ints between 0 and 15 (not including 15)). Here we are using the ```randint``` \n",
    "#or random interger function to create the ints.\n",
    "y = np.random.randint(0, 15, 6)\n",
    "y"
   ]
  },
  {
   "cell_type": "code",
   "execution_count": 20,
   "metadata": {},
   "outputs": [
    {
     "data": {
      "text/plain": [
       "array([8, 8, 7, 9])"
      ]
     },
     "execution_count": 20,
     "metadata": {},
     "output_type": "execute_result"
    }
   ],
   "source": [
    "#We can even use the random module to make a choice for us, here it will give us an output of 4 number between 0 and 10.\n",
    "np.random.choice(10,4)"
   ]
  },
  {
   "cell_type": "code",
   "execution_count": 21,
   "metadata": {},
   "outputs": [
    {
     "data": {
      "text/plain": [
       "array(['Brian'], dtype='<U5')"
      ]
     },
     "execution_count": 21,
     "metadata": {},
     "output_type": "execute_result"
    }
   ],
   "source": [
    "#We can do the same for non numbers, returns a random choice with the datatype a unicode 5 character string\n",
    "gMit = ['Tom', 'Brian', 'Ian']\n",
    "np.random.choice(gMit,1)"
   ]
  },
  {
   "cell_type": "markdown",
   "metadata": {},
   "source": [
    "### Permutations\n",
    "cal"
   ]
  },
  {
   "cell_type": "markdown",
   "metadata": {},
   "source": [
    "### Section 3 Explain the use and purpose of at least five <strong>\"Distributions\"</strong> functions"
   ]
  },
  {
   "cell_type": "markdown",
   "metadata": {},
   "source": [
    "### Section 4 Explain the use of seeds in generating pseudorandom numbers"
   ]
  },
  {
   "cell_type": "code",
   "execution_count": null,
   "metadata": {},
   "outputs": [],
   "source": []
  }
 ],
 "metadata": {
  "kernelspec": {
   "display_name": "Python 3",
   "language": "python",
   "name": "python3"
  },
  "language_info": {
   "codemirror_mode": {
    "name": "ipython",
    "version": 3
   },
   "file_extension": ".py",
   "mimetype": "text/x-python",
   "name": "python",
   "nbconvert_exporter": "python",
   "pygments_lexer": "ipython3",
   "version": "3.7.1"
  }
 },
 "nbformat": 4,
 "nbformat_minor": 2
}
