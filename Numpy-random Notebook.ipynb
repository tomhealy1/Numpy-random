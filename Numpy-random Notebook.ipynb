{
 "cells": [
  {
   "cell_type": "markdown",
   "metadata": {},
   "source": [
    "# The numpy-random Package\n",
    "-------"
   ]
  },
  {
   "cell_type": "markdown",
   "metadata": {},
   "source": [
    "The purpose of this assignment is to explore and investigate the numpy.random package and its use in Python Data Analysis. The assignment is broken down into 4 separate tasks in the notebook. They are:\n",
    "\n",
    "* Explain the overall purpose of the package\n",
    "* Explain the use of the \"Simple random data\" and \"Permutations\" functions\n",
    "* Explain the use and purpose of at least five \" Distributions\" functions\n",
    "* Explain the use of seeds in generating pseudorandom numbers\n"
   ]
  },
  {
   "cell_type": "markdown",
   "metadata": {},
   "source": [
    "### Section 1 Explain the overall purpose of the package\n",
    "______"
   ]
  },
  {
   "cell_type": "markdown",
   "metadata": {},
   "source": [
    "**Numpy** is a library for conducting numerical computing in Python. Numpy is a portmanteau formed from **Num**-eric and **py**-thon. The library contains numerous features that are of great utility in data analysis/science. Examples of these are:\n",
    "\n",
    "* Data structures\n",
    "* Algorithms\n",
    "* Ability to carry out task such as indexing, slicing and iterating \n",
    "\n",
    "Numpy and pandas are the two most important packages we interact with when working with datasets.\n",
    "\n",
    "The numpy.random module allows us to generate many quantities(from a few integers to massive amounts of random items) and types such as floats, integers and even strings.\n",
    "\n",
    "When conducting data science/analysis, we may need to generate a large number of values so we can plug a single random value in to a plot or generate an entire dataset of values.\n",
    "\n"
   ]
  },
  {
   "cell_type": "markdown",
   "metadata": {},
   "source": [
    "### Section 2 Explain the use of the \"Simple random data\" and \"Permutations\" functions\n",
    "________"
   ]
  },
  {
   "cell_type": "markdown",
   "metadata": {},
   "source": [
    "First we will import the packages we will need for the assignment. Once Numpy is imported we will run through simple randon data genereatio using the commanads outlined in the Numpy documentation found at https://docs.scipy.org/doc/numpy-1.14.0/reference/routines.random.html . We will begin with the random package which is called by using ```np.random.rand()``` command."
   ]
  },
  {
   "cell_type": "code",
   "execution_count": 172,
   "metadata": {},
   "outputs": [],
   "source": [
    "import pandas as pd\n",
    "import numpy as np\n",
    "import matplotlib.pyplot as plt\n",
    "import scipy.stats as stats\n",
    "import seaborn as sns\n",
    "%matplotlib inline\n"
   ]
  },
  {
   "cell_type": "code",
   "execution_count": 173,
   "metadata": {},
   "outputs": [
    {
     "data": {
      "text/plain": [
       "array([0.51082761, 0.89294695, 0.89629309, 0.12558531])"
      ]
     },
     "execution_count": 173,
     "metadata": {},
     "output_type": "execute_result"
    }
   ],
   "source": [
    "#The np.random.rand returns random values in a given shape.\n",
    "#We can generate a simple array (1 dimensional array) with random numbers with 4 items by calling:\n",
    "np.random.rand(4)"
   ]
  },
  {
   "cell_type": "code",
   "execution_count": 174,
   "metadata": {},
   "outputs": [
    {
     "data": {
      "text/plain": [
       "array([[0.20724288, 0.0514672 , 0.44080984, 0.02987621],\n",
       "       [0.45683322, 0.64914405, 0.27848728, 0.6762549 ]])"
      ]
     },
     "execution_count": 174,
     "metadata": {},
     "output_type": "execute_result"
    }
   ],
   "source": [
    "#We can then generate more complex (2 dimensional array) arrays with randon numbers. Here are creating 2 x 2 shaped dataset.\n",
    "np.random.rand(2,4)"
   ]
  },
  {
   "cell_type": "code",
   "execution_count": 175,
   "metadata": {},
   "outputs": [
    {
     "data": {
      "text/plain": [
       "array([[[0.59086282, 0.02398188, 0.55885409, 0.25925245],\n",
       "        [0.4151012 , 0.28352508, 0.69313792, 0.44045372],\n",
       "        [0.15686774, 0.54464902, 0.78031476, 0.30636353],\n",
       "        [0.22195788, 0.38797126, 0.93638365, 0.97599542]],\n",
       "\n",
       "       [[0.67238368, 0.90283411, 0.84575087, 0.37799404],\n",
       "        [0.09221701, 0.6534109 , 0.55784076, 0.36156476],\n",
       "        [0.2250545 , 0.40651992, 0.46894025, 0.26923558],\n",
       "        [0.29179277, 0.4576864 , 0.86053391, 0.5862529 ]],\n",
       "\n",
       "       [[0.28348786, 0.27797751, 0.45462208, 0.20541034],\n",
       "        [0.20137871, 0.51403506, 0.08722937, 0.48358553],\n",
       "        [0.36217621, 0.70768662, 0.74674622, 0.69109292],\n",
       "        [0.68918041, 0.37360012, 0.6681348 , 0.33984866]]])"
      ]
     },
     "execution_count": 175,
     "metadata": {},
     "output_type": "execute_result"
    }
   ],
   "source": [
    "#Here we are creating a 3 dimensional array and assigning it to x\n",
    "\n",
    "x = np.random.rand(3,4,4)\n",
    "x"
   ]
  },
  {
   "cell_type": "code",
   "execution_count": 176,
   "metadata": {},
   "outputs": [
    {
     "data": {
      "text/plain": [
       "array([[[5.90862817, 0.23981882, 5.58854088, 2.59252447],\n",
       "        [4.15101197, 2.83525082, 6.93137918, 4.40453718],\n",
       "        [1.56867738, 5.44649018, 7.80314765, 3.06363532],\n",
       "        [2.21957884, 3.87971258, 9.3638365 , 9.75995422]],\n",
       "\n",
       "       [[6.72383676, 9.02834109, 8.45750871, 3.77994041],\n",
       "        [0.92217009, 6.53410903, 5.57840762, 3.61564763],\n",
       "        [2.25054505, 4.06519916, 4.68940249, 2.69235578],\n",
       "        [2.91792774, 4.57686399, 8.60533913, 5.86252904]],\n",
       "\n",
       "       [[2.83487862, 2.77977507, 4.54622076, 2.05410345],\n",
       "        [2.01378711, 5.1403506 , 0.87229369, 4.83585532],\n",
       "        [3.62176212, 7.07686622, 7.46746223, 6.91092922],\n",
       "        [6.89180414, 3.73600124, 6.68134805, 3.39848664]]])"
      ]
     },
     "execution_count": 176,
     "metadata": {},
     "output_type": "execute_result"
    }
   ],
   "source": [
    "#We can then manipulate this data by interacting with output by its assigned variable, in this case x:\n",
    "x * 10"
   ]
  },
  {
   "cell_type": "code",
   "execution_count": 177,
   "metadata": {},
   "outputs": [
    {
     "data": {
      "text/plain": [
       "array([[-1.82117118,  0.76105365, -0.69755382, -0.08726751],\n",
       "       [ 0.74541324, -1.04882343,  1.30387239,  0.87614261],\n",
       "       [ 2.45835133, -0.63354599, -0.43551628, -0.37657614],\n",
       "       [-1.33226622,  0.22736545,  0.11998489,  0.29868832],\n",
       "       [ 1.82130029,  0.36059912,  0.27626538, -0.15286152],\n",
       "       [ 0.50126587,  0.75126493,  1.22731248, -0.07089016],\n",
       "       [ 0.80222106,  1.22466464,  0.22929105,  0.71013672],\n",
       "       [ 0.81808619, -2.07537215, -0.542605  , -0.5350133 ],\n",
       "       [ 0.88536548,  0.7012087 , -0.87218748,  0.09269035],\n",
       "       [ 0.78788529, -0.02048577, -0.07687956,  1.48344932],\n",
       "       [-1.47850017, -0.23445438,  0.28726673,  0.80413917],\n",
       "       [-0.26049995, -1.08196788,  0.84529098,  1.29044416],\n",
       "       [-1.7735216 , -0.16553826,  0.37179608,  0.12399172],\n",
       "       [-0.74006828, -0.11100907,  0.04999369,  0.56383677],\n",
       "       [-0.33582789,  0.34345702,  0.87308123, -1.08991005],\n",
       "       [-0.29804335,  0.74004134,  1.01229161, -0.87811496],\n",
       "       [ 0.48444183, -0.84971216,  0.49327823,  0.74141899],\n",
       "       [ 1.34580752, -0.83644784, -0.41935506, -0.81206664],\n",
       "       [ 0.99657921, -0.21245916, -1.20479405, -0.54019703],\n",
       "       [ 0.6634043 , -0.52493532, -1.83790984, -0.1510628 ]])"
      ]
     },
     "execution_count": 177,
     "metadata": {},
     "output_type": "execute_result"
    }
   ],
   "source": [
    "#np.random.randn\n",
    "#The np.random.randn function returns samples from a normal distribution(Gaussian) with mean 0 and standard deviation of 1.\n",
    "np.random.randn(20,4)\n",
    "\n",
    "\n",
    "\n"
   ]
  },
  {
   "cell_type": "code",
   "execution_count": 136,
   "metadata": {},
   "outputs": [
    {
     "data": {
      "text/plain": [
       "array([8, 8, 1, 4, 1, 5])"
      ]
     },
     "execution_count": 136,
     "metadata": {},
     "output_type": "execute_result"
    }
   ],
   "source": [
    "#np.random.randint\n",
    "#Let's say we want some integers (generate 6 integers between 0 and 15 (not including 15)). Here we are using the\n",
    "#```randint``` or random interger function to create the ints.\n",
    "np.random.randint(0, 15, 6)\n"
   ]
  },
  {
   "cell_type": "code",
   "execution_count": 137,
   "metadata": {},
   "outputs": [],
   "source": [
    "#np.random.random_integers has been deprecated, the doc recommend using np.random.radint instead\n"
   ]
  },
  {
   "cell_type": "code",
   "execution_count": 138,
   "metadata": {},
   "outputs": [
    {
     "name": "stdout",
     "output_type": "stream",
     "text": [
      "\n",
      " Here we have a 1 Dimensional Array:\n",
      " [0.83100321 0.99692668 0.83336022 0.77906033 0.9591174 ]\n",
      "\n",
      " Here we have a 2 Dimensional Array:\n",
      " [[0.89250705 0.07469914]\n",
      " [0.85378431 0.49031802]\n",
      " [0.8492862  0.98502514]\n",
      " [0.65701066 0.11460798]\n",
      " [0.63378972 0.17721515]]\n",
      "\n",
      " Here we have a 3 Dimensional Array:\n",
      " [[[0.81964979 0.22315995 0.0833814 ]\n",
      "  [0.22484411 0.16707238 0.11224241]]\n",
      "\n",
      " [[0.94024035 0.29737477 0.68458154]\n",
      "  [0.57675597 0.24910542 0.89278257]]\n",
      "\n",
      " [[0.83987629 0.87595603 0.65731005]\n",
      "  [0.45556463 0.47849472 0.6537262 ]]\n",
      "\n",
      " [[0.37271542 0.68470078 0.40457025]\n",
      "  [0.62613496 0.4083639  0.01561289]]\n",
      "\n",
      " [[0.93848396 0.18857199 0.71591606]\n",
      "  [0.87186017 0.90981562 0.40275147]]]\n"
     ]
    }
   ],
   "source": [
    "#np.random.random_sample. The functions returns a array populated with float based on the inputs. We can add more\n",
    "#dimensions by manipulating the function\n",
    "\n",
    "a = np.random.random_sample(5)\n",
    "print(\"\\n\",\"Here we have a 1 Dimensional Array:\\n\",a)\n",
    "\n",
    "b = np.random.random_sample((5,2))\n",
    "print(\"\\n\",\"Here we have a 2 Dimensional Array:\\n\",b)\n",
    "c = np.random.random_sample((5,2,3))\n",
    "print(\"\\n\",\"Here we have a 3 Dimensional Array:\\n\",c)\n"
   ]
  },
  {
   "cell_type": "code",
   "execution_count": 178,
   "metadata": {},
   "outputs": [
    {
     "data": {
      "text/plain": [
       "array([0.83368788, 0.87217951, 0.09213159])"
      ]
     },
     "execution_count": 178,
     "metadata": {},
     "output_type": "execute_result"
    }
   ],
   "source": [
    "#np.random.random\n",
    "#This functions returns a array populated with float based on the inputs. Can be manipulated as above.\n",
    "\n",
    "np.random.random(3)"
   ]
  },
  {
   "cell_type": "code",
   "execution_count": 140,
   "metadata": {},
   "outputs": [],
   "source": [
    "#np.random.ranf\n",
    "#This functions seems to carry the same action as the function before it."
   ]
  },
  {
   "cell_type": "code",
   "execution_count": 141,
   "metadata": {},
   "outputs": [],
   "source": [
    "#np.random.sample\n",
    "#np.random.random_sample\n",
    "#np.random.ranf\n",
    "#np.random.random\n",
    "\n",
    "#These functions all seem to carry out the same action as the function before it, i.e. random sampling. Within the numpy \n",
    "#packages there seems to be a few that are redundant as the exact or real word function can be accomplished by another. "
   ]
  },
  {
   "cell_type": "code",
   "execution_count": 142,
   "metadata": {},
   "outputs": [
    {
     "data": {
      "text/plain": [
       "array([5, 0, 7, 7])"
      ]
     },
     "execution_count": 142,
     "metadata": {},
     "output_type": "execute_result"
    }
   ],
   "source": [
    "#np.random.choice\n",
    "#We can even use the random module to make a choice for us, here it will give us an output of 4 number between 0 and 10.\n",
    "np.random.choice(10,4)"
   ]
  },
  {
   "cell_type": "code",
   "execution_count": 179,
   "metadata": {},
   "outputs": [
    {
     "name": "stdout",
     "output_type": "stream",
     "text": [
      "3\n"
     ]
    }
   ],
   "source": [
    "#np.random.choice\n",
    "#The np.random.choice function returns a random sample from an array (1D array)\n",
    "tom = [1,2,3,4,5]\n",
    "print(np.random.choice(tom))"
   ]
  },
  {
   "cell_type": "code",
   "execution_count": 144,
   "metadata": {},
   "outputs": [
    {
     "data": {
      "text/plain": [
       "array(['Ian'], dtype='<U5')"
      ]
     },
     "execution_count": 144,
     "metadata": {},
     "output_type": "execute_result"
    }
   ],
   "source": [
    "#We can do the same for non numbers, returns a random choice with the datatype a unicode 5 character string\n",
    "gMit = ['Tom', 'Brian', 'Ian']\n",
    "np.random.choice(gMit,1)"
   ]
  },
  {
   "cell_type": "code",
   "execution_count": 180,
   "metadata": {},
   "outputs": [
    {
     "data": {
      "text/plain": [
       "b'+'"
      ]
     },
     "execution_count": 180,
     "metadata": {},
     "output_type": "execute_result"
    }
   ],
   "source": [
    "#We can even use the function to create the random byte\n",
    "np.random.bytes(1)"
   ]
  },
  {
   "cell_type": "markdown",
   "metadata": {},
   "source": [
    "### Permutations\n",
    "_______\n",
    "The permutations functions deals with items that are re-ordered when calling the function. There seems to be two functions, the shuffle function and permutations function.\n",
    "\n",
    "The Permutation function takes an array and returns a copy of the array with the item reordered. The shuffle functions does the reodering in place."
   ]
  },
  {
   "cell_type": "code",
   "execution_count": 181,
   "metadata": {},
   "outputs": [
    {
     "data": {
      "text/plain": [
       "array([3, 1, 0, 4, 2])"
      ]
     },
     "execution_count": 181,
     "metadata": {},
     "output_type": "execute_result"
    }
   ],
   "source": [
    "#Permutation\n",
    "np.random.permutation(5)\n"
   ]
  },
  {
   "cell_type": "code",
   "execution_count": 186,
   "metadata": {},
   "outputs": [
    {
     "data": {
      "text/plain": [
       "array([0, 1, 4, 3, 2])"
      ]
     },
     "execution_count": 186,
     "metadata": {},
     "output_type": "execute_result"
    }
   ],
   "source": [
    "#Shuffle\n",
    "arr = np.arange(5)\n",
    "np.random.shuffle(arr)\n",
    "arr\n"
   ]
  },
  {
   "cell_type": "markdown",
   "metadata": {},
   "source": [
    "### Section 3 Explain the use and purpose of at least five <strong>\"Distributions\"</strong> functions\n",
    "_______"
   ]
  },
  {
   "cell_type": "markdown",
   "metadata": {},
   "source": [
    "Having conducted research on the most common distributions used in data science, I decided to select 8 distributions. What a distribution tells us spread of data over a given interval. With categorical data we can tell how frequetly data falls into a certain group. With numerical data, we can see the variation and spread of the values. The 8 distributions I have selected are:\n",
    "\n",
    "* Bernoulli - ```df = bernoulli.rvs(size=1000,p=0.5)```\n",
    "* Uniform\n",
    "* Normal(Gaussian)\n",
    "* Student-t\n",
    "* Binomial\n",
    "* Poisson\n",
    "* Exponential\n",
    "* Pareto"
   ]
  },
  {
   "cell_type": "markdown",
   "metadata": {},
   "source": [
    "### Bernoulli Distribution\n",
    "\n",
    "While not a specific distribution called from the random package ( it seems related to the geometric distribution), I think the distribution should be here as sometimes\n",
    "we will be dealing with observations that only have two outcomes, i.e. heads or tails, pass or fail or in the case of\n",
    "HR (my principal area of of interest) if some will leave or stay within a certain date."
   ]
  },
  {
   "cell_type": "code",
   "execution_count": 148,
   "metadata": {},
   "outputs": [
    {
     "data": {
      "text/plain": [
       "[Text(0, 0.5, 'Frequency'),\n",
       " Text(0.5, 0, 'Bernoulli - Only two possible outcomes such as heads or tails')]"
      ]
     },
     "execution_count": 148,
     "metadata": {},
     "output_type": "execute_result"
    },
    {
     "data": {
      "image/png": "[encoded data removed]",
      "text/plain": [
       "<Figure size 432x288 with 1 Axes>"
      ]
     },
     "metadata": {
      "needs_background": "light"
     },
     "output_type": "display_data"
    }
   ],
   "source": [
    "#Here we are using the distribution applied to coin tosses. Calling ```df = bernoulli.rvs(size=1000,p=0.5)``` where \n",
    "#size is the number of observations or experienents and p is the bias, i.e. so here we have an unbiased coin.\n",
    "from scipy.stats import bernoulli\n",
    "df = bernoulli.rvs(size=1000,p=0.5)\n",
    "ax = sns.distplot(df,\n",
    "                  kde=True,\n",
    "                  color='black',\n",
    "                  hist_kws={\"linewidth\": 15,'alpha':0.1})\n",
    "ax.set(xlabel='Bernoulli - Only two possible outcomes such as heads or tails', ylabel='Frequency')"
   ]
  },
  {
   "cell_type": "markdown",
   "metadata": {},
   "source": [
    "### Uniform Distribution\n",
    "Continuing our tour on distributions for dummies, we will graduate from coin tosses to rolls of the dice. In the Bernoulli distribution we only have two outcomes possible, in the uniform distirbution we have a possibly unlimited number of outcomes (in our case 8) because we are using a 8 sided dice .\n",
    "\n",
    "\n",
    "\n",
    "The probability density function of the uniform distribution is\n",
    "\n",
    "                                            p(x) = \\frac{1}{b - a}\n",
    "\n",
    "anywhere within the interval [a, b), and zero elsewhere.\n",
    "\n",
    "When high == low, values of low will be returned. If high < low, the results are officially undefined and may eventually raise an error, i.e. do not rely on this function to behave when passed arguments satisfying that inequality condition. Taken from <emp>https://docs.scipy.org/doc/numpy-1.15.1/reference/generated/numpy.random.uniform.html#numpy.random.uniform</emp>"
   ]
  },
  {
   "cell_type": "code",
   "execution_count": 149,
   "metadata": {},
   "outputs": [],
   "source": [
    "#Let's draw some examples from a uniform distribution and plot them.\n",
    "t = np.random.uniform(-1,0,1000)"
   ]
  },
  {
   "cell_type": "code",
   "execution_count": 150,
   "metadata": {},
   "outputs": [
    {
     "data": {
      "text/plain": [
       "True"
      ]
     },
     "execution_count": 150,
     "metadata": {},
     "output_type": "execute_result"
    }
   ],
   "source": [
    "#This is a test to check all values are within our range\n",
    "np.all(t>=-1)"
   ]
  },
  {
   "cell_type": "code",
   "execution_count": 151,
   "metadata": {},
   "outputs": [
    {
     "data": {
      "text/plain": [
       "True"
      ]
     },
     "execution_count": 151,
     "metadata": {},
     "output_type": "execute_result"
    }
   ],
   "source": [
    "np.all(t < 0 )"
   ]
  },
  {
   "cell_type": "code",
   "execution_count": 152,
   "metadata": {},
   "outputs": [
    {
     "data": {
      "image/png": "[encoded data removed]",
      "text/plain": [
       "<Figure size 432x288 with 1 Axes>"
      ]
     },
     "metadata": {
      "needs_background": "light"
     },
     "output_type": "display_data"
    }
   ],
   "source": [
    "count, bins, ignored = plt.hist(t, 15, density=True)\n",
    "plt.plot(bins, np.ones_like(bins), linewidth=4, color='g')\n",
    "plt.show()"
   ]
  },
  {
   "cell_type": "markdown",
   "metadata": {},
   "source": [
    "Below we show the Uniform distribution applied to the outcome of a 8 sided dice being tossed."
   ]
  },
  {
   "cell_type": "code",
   "execution_count": 187,
   "metadata": {},
   "outputs": [
    {
     "data": {
      "text/plain": [
       "(0, 1)"
      ]
     },
     "execution_count": 187,
     "metadata": {},
     "output_type": "execute_result"
    },
    {
     "data": {
      "image/png": "[encoded data removed]",
      "text/plain": [
       "<Figure size 432x288 with 1 Axes>"
      ]
     },
     "metadata": {
      "needs_background": "light"
     },
     "output_type": "display_data"
    }
   ],
   "source": [
    "prob = np.full((8), 1/8)\n",
    "face = [1,2,3,4,5,6,7,8]\n",
    "plt.bar(face, prob)\n",
    "plt.ylabel('Probability', fontsize=24)\n",
    "plt.xlabel('8 sided Dice Roll Outcome', fontsize=24)\n",
    "plt.title('Fair 8 sided Dice Uniform Distribution', fontsize=24)\n",
    "axes = plt.gca()\n",
    "axes.set_ylim([0,1])"
   ]
  },
  {
   "cell_type": "markdown",
   "metadata": {},
   "source": [
    "### Normal Distribution\n",
    "\n",
    "The normal distribution is the classic bell shaped curve, it is also known as the gaussian distribution. It is the most well known distribution and has been used to describe the distribution of incomes in an economy, weight in poulations, perfromance review scores. \n",
    "\n",
    "The normal distribution has a few fundamental characteristics. We can recognise a normal distribution due to its shape. The curve is <strong>symmetrical</strong>, the mode, median and mean are all the same value, clustering the values symetrically around the mean.\n",
    "\n",
    "It is also <strong>unimodal</strong>, it is highest in the middle and curves downwards. \n",
    "\n",
    "It is also decribed as <strong>asymptoptic</strong> , meaning the upper and lower tails of the distribution never meets the \n",
    "baseline/x-axis.\n",
    "\n",
    "The central limit theorem says (approximately) that a random variable definied as the average of a large number of independant and identically distributed random variables is itself normally distributed.\n",
    "\n",
    "If we know the values of the mean and the standard deviation in a normally distributed popultion we can predict the probability of exact values by looking at the distribution. If we look at below, we can see that 99.7% of values fall with 3 standard deviations of the mean, 95% ish fall with 2 standard deviations and 68% fall with one standard deviation."
   ]
  },
  {
   "cell_type": "markdown",
   "metadata": {},
   "source": [
    "![title](bell-shaped.png)"
   ]
  },
  {
   "cell_type": "code",
   "execution_count": 154,
   "metadata": {},
   "outputs": [
    {
     "data": {
      "image/png": "[encoded data removed]",
      "text/plain": [
       "<Figure size 432x288 with 1 Axes>"
      ]
     },
     "metadata": {
      "needs_background": "light"
     },
     "output_type": "display_data"
    }
   ],
   "source": [
    "mu, sigma = 0, 0.1 # mean and standard deviation\n",
    "s = np.random.normal(mu, sigma, 1000)\n",
    "count, bins, ignored = plt.hist(s, 30, density=True)\n",
    "plt.plot(bins, 1/(sigma * np.sqrt(2 * np.pi)) *\n",
    "               np.exp( - (bins - mu)**2 / (2 * sigma**2) ),\n",
    "         linewidth=2, color='black')\n",
    "plt.show()"
   ]
  },
  {
   "cell_type": "code",
   "execution_count": 155,
   "metadata": {},
   "outputs": [
    {
     "data": {
      "text/plain": [
       "Text(0.5, 1.0, 'Normal Distribution')"
      ]
     },
     "execution_count": 155,
     "metadata": {},
     "output_type": "execute_result"
    },
    {
     "data": {
      "image/png": "[encoded data removed]",
      "text/plain": [
       "<Figure size 432x288 with 1 Axes>"
      ]
     },
     "metadata": {
      "needs_background": "light"
     },
     "output_type": "display_data"
    }
   ],
   "source": [
    "#Here we have the more traditional plot of the bell shaped curve.\n",
    "n = np.arange(-1000, 1000)\n",
    "mean = 0\n",
    "normal = stats.norm.pdf(n, mean, 300)\n",
    "plt.plot(n, normal)\n",
    "plt.xlabel('Distribution', fontsize=12)\n",
    "plt.ylabel('Probability', fontsize=12)\n",
    "plt.title(\"Normal Distribution\")"
   ]
  },
  {
   "cell_type": "markdown",
   "metadata": {},
   "source": [
    "### Student-t Distribution"
   ]
  },
  {
   "cell_type": "markdown",
   "metadata": {},
   "source": [
    "The student-t distribution can be any of many probability distributions that arise from estimating the mean of a normally/gaussian distributed population in scenarios where the sample size (degree of freedom refers to the number of independant obvs in a data set)is low and the population's standard deviation (how spread out the values are) is unknown."
   ]
  },
  {
   "cell_type": "markdown",
   "metadata": {},
   "source": [
    "Below we are showing the example used at https://docs.scipy.org/doc/numpy-1.15.1/reference/generated/numpy.random.standard_t.html?highlight=student . This example is showing how much does the energy intake for 11 women diviate from 95% of the recommeded calorific intake."
   ]
  },
  {
   "cell_type": "code",
   "execution_count": 156,
   "metadata": {},
   "outputs": [],
   "source": [
    "intake = np.array([5260., 5470, 5640, 6180, 6390, 6515, 6805, 7515, \\\n",
    "                   7515, 8230, 8770])"
   ]
  },
  {
   "cell_type": "code",
   "execution_count": 157,
   "metadata": {},
   "outputs": [
    {
     "data": {
      "text/plain": [
       "1142.1232221373727"
      ]
     },
     "execution_count": 157,
     "metadata": {},
     "output_type": "execute_result"
    }
   ],
   "source": [
    "s = np.random.standard_t(10, size=100000)\n",
    "np.mean(intake)\n",
    "\n",
    "intake.std(ddof=1)"
   ]
  },
  {
   "cell_type": "code",
   "execution_count": 158,
   "metadata": {},
   "outputs": [
    {
     "data": {
      "image/png": "[encoded data removed]",
      "text/plain": [
       "<Figure size 432x288 with 1 Axes>"
      ]
     },
     "metadata": {
      "needs_background": "light"
     },
     "output_type": "display_data"
    }
   ],
   "source": [
    "t = (np.mean(intake)-7725)/(intake.std(ddof=1)/np.sqrt(len(intake)))\n",
    "import matplotlib.pyplot as plt\n",
    "h = plt.hist(s, bins=100, density=True)"
   ]
  },
  {
   "cell_type": "code",
   "execution_count": 159,
   "metadata": {},
   "outputs": [
    {
     "data": {
      "text/plain": [
       "0.00902"
      ]
     },
     "execution_count": 159,
     "metadata": {},
     "output_type": "execute_result"
    }
   ],
   "source": [
    "#p value is equal to .009\n",
    "np.sum(s<t) / float(len(s))"
   ]
  },
  {
   "cell_type": "markdown",
   "metadata": {},
   "source": [
    "### Binomial Distribution\n",
    "The binomial distribution shows the distribution of possible outcomes for two outcomes in a series of experiments. Taking our coin toss as an example let's say we want to understand what is the outcome for a number of events say how many time heads will show up in 1000 experiement where we flip the coin 20 times. The chances of a heads or tails is even. The binomial distribution assumes that each trial or event is independant of each other and there can only be two outcomes.\n"
   ]
  },
  {
   "cell_type": "code",
   "execution_count": 160,
   "metadata": {},
   "outputs": [
    {
     "data": {
      "text/plain": [
       "[Text(0, 0.5, 'Frequency'), Text(0.5, 0, 'Binomial distribtuion')]"
      ]
     },
     "execution_count": 160,
     "metadata": {},
     "output_type": "execute_result"
    },
    {
     "data": {
      "image/png": "[encoded data removed]",
      "text/plain": [
       "<Figure size 432x288 with 1 Axes>"
      ]
     },
     "metadata": {
      "needs_background": "light"
     },
     "output_type": "display_data"
    }
   ],
   "source": [
    "#Here we are generating one thousand data pionts in which flip the coin twenty times with an unbiased coin. \n",
    "df1 = stats.binom.rvs(n=20,p=0.5,loc=0,size=1000)\n",
    "ax = sns.distplot(df1,\n",
    "                  kde=True,\n",
    "                  color='green',\n",
    "                  hist_kws={\"linewidth\": 30,'alpha':0.3})\n",
    "ax.set(xlabel='Binomial distribtuion', ylabel='Frequency')\n",
    "\n"
   ]
  },
  {
   "cell_type": "code",
   "execution_count": 161,
   "metadata": {},
   "outputs": [
    {
     "data": {
      "text/plain": [
       "0.6230468749999999"
      ]
     },
     "execution_count": 161,
     "metadata": {},
     "output_type": "execute_result"
    }
   ],
   "source": [
    "#Thought this was a nice bit of code (cdf = culmulative distribution function) that complements the distribution. \n",
    "#Here we are seeing what is the probability of seeing 5(k) heads in 10(n) trials and using an unbiased coin (p=.5).\n",
    "stats.binom.cdf(k=5,        \n",
    "                n=10,       \n",
    "                p=0.5)"
   ]
  },
  {
   "cell_type": "markdown",
   "metadata": {},
   "source": [
    "### Poisson \n",
    "The poisson is a useful distribution for understanding the occurence of event when we dont know how often it occurs. Good examples for poisson distributions are mechanical fault on an assembly line or call centre activity. \n",
    "\n",
    "The below image shows the formula for deriving the Poisson distribution.\n",
    "\n",
    "λ is the greek letter L and here it refers to the average rate of an event happening. "
   ]
  },
  {
   "cell_type": "markdown",
   "metadata": {},
   "source": [
    "![title](poisson.png)"
   ]
  },
  {
   "cell_type": "code",
   "execution_count": 162,
   "metadata": {},
   "outputs": [],
   "source": [
    "s = np.random.poisson(5, 100000)"
   ]
  },
  {
   "cell_type": "code",
   "execution_count": 163,
   "metadata": {},
   "outputs": [
    {
     "data": {
      "image/png": "[encoded data removed]",
      "text/plain": [
       "<Figure size 432x288 with 1 Axes>"
      ]
     },
     "metadata": {
      "needs_background": "light"
     },
     "output_type": "display_data"
    }
   ],
   "source": [
    "counts, bins, ignored = plt.hist(s, 14, density=True)\n",
    "plt.show()"
   ]
  },
  {
   "cell_type": "code",
   "execution_count": 164,
   "metadata": {},
   "outputs": [
    {
     "data": {
      "text/plain": [
       "array([[111, 491],\n",
       "       [ 83, 549],\n",
       "       [ 86, 486],\n",
       "       [ 98, 501],\n",
       "       [111, 508],\n",
       "       [ 77, 488],\n",
       "       [ 75, 494],\n",
       "       [115, 464],\n",
       "       [104, 522],\n",
       "       [ 80, 522],\n",
       "       [106, 471],\n",
       "       [ 88, 496],\n",
       "       [117, 494],\n",
       "       [107, 502],\n",
       "       [ 96, 501],\n",
       "       [ 96, 506],\n",
       "       [ 93, 508],\n",
       "       [111, 508],\n",
       "       [ 92, 493],\n",
       "       [ 92, 534],\n",
       "       [ 91, 500],\n",
       "       [105, 493],\n",
       "       [101, 500],\n",
       "       [109, 514],\n",
       "       [ 98, 505],\n",
       "       [ 99, 462],\n",
       "       [113, 519],\n",
       "       [107, 497],\n",
       "       [103, 512],\n",
       "       [112, 508],\n",
       "       [109, 486],\n",
       "       [ 97, 510],\n",
       "       [111, 451],\n",
       "       [100, 496],\n",
       "       [133, 473],\n",
       "       [105, 473],\n",
       "       [ 97, 481],\n",
       "       [ 98, 497],\n",
       "       [ 97, 538],\n",
       "       [ 99, 486],\n",
       "       [102, 510],\n",
       "       [ 76, 465],\n",
       "       [104, 515],\n",
       "       [112, 523],\n",
       "       [ 95, 508],\n",
       "       [101, 472],\n",
       "       [109, 544],\n",
       "       [ 97, 487],\n",
       "       [103, 483],\n",
       "       [106, 503]])"
      ]
     },
     "execution_count": 164,
     "metadata": {},
     "output_type": "execute_result"
    }
   ],
   "source": [
    "#How to draw 50 values for lambda 100 and 500\n",
    "z = np.random.poisson(lam=(100., 500.), size=(50, 2))\n",
    "z"
   ]
  },
  {
   "cell_type": "markdown",
   "metadata": {},
   "source": [
    "### Exponential Distribution\n",
    "The exponential distribution is used to model the time taken between the occurance of different events in a poisson process i.e. events occur independantly and at a constant average rate.  Again, in HR we can use the exponential curve to model the survival curve of employees or how long someone spend on a website. (https://towardsdatascience.com/what-is-exponential-distribution-7bdd08590e2a)\n",
    "\n",
    "The model uses lambda λ to declare the rate between events in the same way as the poisson distribution."
   ]
  },
  {
   "cell_type": "code",
   "execution_count": 165,
   "metadata": {},
   "outputs": [
    {
     "data": {
      "text/plain": [
       "array([0.32792688, 0.45136518, 0.15048798])"
      ]
     },
     "execution_count": 165,
     "metadata": {},
     "output_type": "execute_result"
    }
   ],
   "source": [
    "np.random.exponential(1,3)"
   ]
  },
  {
   "cell_type": "code",
   "execution_count": 166,
   "metadata": {},
   "outputs": [],
   "source": [
    "#Let's say the below graphs show failure rate of a piece of equipment, we can vary the lambda value to see how the \n",
    "#equipment perfroms with out failure. The green line with a lambda of .7 \n",
    "df = np.random.exponential(5, size=1000)"
   ]
  },
  {
   "cell_type": "code",
   "execution_count": 167,
   "metadata": {},
   "outputs": [
    {
     "name": "stdout",
     "output_type": "stream",
     "text": [
      "[4.75831792]\n"
     ]
    },
    {
     "data": {
      "image/png": "[encoded data removed]",
      "text/plain": [
       "<Figure size 432x288 with 1 Axes>"
      ]
     },
     "metadata": {
      "needs_background": "light"
     },
     "output_type": "display_data"
    }
   ],
   "source": [
    "#Taken from https://stackoverflow.com/questions/47319277/generate-random-numbers-from-exponential-\n",
    "#distribution-and-model-using-python\n",
    "import numpy as np\n",
    "import matplotlib.pyplot as plt\n",
    "from scipy.optimize import curve_fit\n",
    "\n",
    "df = np.random.exponential(5, size=1000)\n",
    "\n",
    "hist,edges = np.histogram(df,bins=\"auto\",density=True )\n",
    "\n",
    "x = edges[:-1]+np.diff(edges)/2.\n",
    "plt.scatter(x,hist)\n",
    "\n",
    "func = lambda x,beta: 1./beta*np.exp(-x/beta)\n",
    "\n",
    "popt, pcov = curve_fit(f=func, xdata=x, ydata=hist) \n",
    "\n",
    "print(popt)\n",
    "\n",
    "xx = np.linspace(0, x.max(), 101)\n",
    "plt.plot(xx, func(xx,*popt), ls=\"--\", color=\"k\", \n",
    "         label=\"fit, $beta = ${}\".format(popt))\n",
    "plt.legend()\n",
    "plt.show()"
   ]
  },
  {
   "cell_type": "code",
   "execution_count": 168,
   "metadata": {},
   "outputs": [
    {
     "data": {
      "text/plain": [
       "[Text(0, 0.5, 'Failure'), Text(0.5, 0, 'Time')]"
      ]
     },
     "execution_count": 168,
     "metadata": {},
     "output_type": "execute_result"
    },
    {
     "data": {
      "image/png": "[encoded data removed]",
      "text/plain": [
       "<Figure size 432x288 with 1 Axes>"
      ]
     },
     "metadata": {
      "needs_background": "light"
     },
     "output_type": "display_data"
    }
   ],
   "source": [
    "#Adapted from https://www.datacamp.com/community/tutorials/probability-distributions-python\n",
    "\n",
    "from scipy.stats import expon\n",
    "df = expon.rvs(scale=1,loc=0,size=1000)\n",
    "\n",
    "ax = sns.distplot(df,\n",
    "                  kde=True,\n",
    "                  bins=100,\n",
    "                  color='green',\n",
    "                  hist_kws={\"linewidth\": 20,'alpha':.5})\n",
    "ax.set(xlabel='Time', ylabel='Failure')"
   ]
  },
  {
   "cell_type": "markdown",
   "metadata": {},
   "source": [
    "### Pareto distribution"
   ]
  },
  {
   "cell_type": "markdown",
   "metadata": {},
   "source": [
    "The pareto distribution is another interesting distribution. It is sometimes called the 80/20 rule. The distribution was made popular by Valfredo Pareto, an Italian economist noticed that 80% of Italy's wealth was possessed by 20% of the population. "
   ]
  },
  {
   "cell_type": "code",
   "execution_count": 206,
   "metadata": {},
   "outputs": [],
   "source": [
    "#We set our parameters and plot the shape.\n",
    "a, m =5., 2. # shape and mode\n",
    "s = (np.random.pareto(a, 1000) + 1) * m"
   ]
  },
  {
   "cell_type": "code",
   "execution_count": 207,
   "metadata": {},
   "outputs": [
    {
     "data": {
      "image/png": "[encoded data removed]",
      "text/plain": [
       "<Figure size 432x288 with 1 Axes>"
      ]
     },
     "metadata": {
      "needs_background": "light"
     },
     "output_type": "display_data"
    }
   ],
   "source": [
    "#Plot the distribution, the term power tail is also applied to the pareto distribution. In HR, it could be that 80% of\n",
    "#your revenue comes from 20% of sales-people. \n",
    "count, bins, _ = plt.hist(s, 100, density=True)\n",
    "fit = a**m**a / bins**(a-1)\n",
    "plt.plot(bins, max(count)*fit/max(fit), linewidth=2, color='r')\n",
    "plt.ylabel('Lets say revenue', fontsize=12)\n",
    "plt.xlabel('Staff', fontsize=12)\n",
    "plt.show()\n",
    "\n"
   ]
  },
  {
   "cell_type": "markdown",
   "metadata": {},
   "source": [
    "### Section 4 Explain the use of seeds in generating pseudorandom numbers\n",
    "_________"
   ]
  },
  {
   "cell_type": "markdown",
   "metadata": {},
   "source": [
    "While the value of having random vaules generated is important, we must be able to reproduce the same set of values sometimes to ensure reproducibiliity. Numpy provides for this facilty by giving us the ```np.random.seed()``` function.\n",
    "\n",
    "The value of the seed number denotes the position in the calulation of pi that serves as the seed value. \n",
    "\n",
    "The term pseudo random refers to the concept that while the output is random by setting the seed we ensure predictable repeatable results."
   ]
  },
  {
   "cell_type": "code",
   "execution_count": 171,
   "metadata": {},
   "outputs": [
    {
     "data": {
      "text/plain": [
       "array([0.5507979 , 0.70814782, 0.29090474])"
      ]
     },
     "execution_count": 171,
     "metadata": {},
     "output_type": "execute_result"
    }
   ],
   "source": [
    "# Call the np.random.seed() function and then the np.random.random function to demonstrate that \n",
    "#will result in the same outputput in athe random process called.\n",
    "np.random.seed(3)\n",
    "np.random.random(3)"
   ]
  },
  {
   "cell_type": "markdown",
   "metadata": {},
   "source": [
    "# References\n",
    "https://towardsdatascience.com/probability-distributions-in-data-science-cce6e64873a7\n",
    "\n",
    "https://docs.scipy.org/doc/numpy-1.15.0/reference/routines.random.html\n",
    "\n",
    "Kinney, W., Python for Data Analysis\n",
    "\n",
    "Grus, J.,Data Science From Scratch, First Principles with Python\n",
    "\n",
    "Albon, C,. Machine Learning with Python Cookbook\n",
    "\n",
    "Hastie, T. Tibshirani, R. Friedman,J .The Elements of Statistical Learning:Data Mining, Inference, and Prediction\n",
    "\n",
    "James, J.,  Witten, D., Hastie, T., Tibshirani R., An Introduction to Statistical Learning"
   ]
  },
  {
   "cell_type": "code",
   "execution_count": null,
   "metadata": {},
   "outputs": [],
   "source": []
  }
 ],
 "metadata": {
  "kernelspec": {
   "display_name": "Python 3",
   "language": "python",
   "name": "python3"
  },
  "language_info": {
   "codemirror_mode": {
    "name": "ipython",
    "version": 3
   },
   "file_extension": ".py",
   "mimetype": "text/x-python",
   "name": "python",
   "nbconvert_exporter": "python",
   "pygments_lexer": "ipython3",
   "version": "3.7.1"
  }
 },
 "nbformat": 4,
 "nbformat_minor": 2
}
