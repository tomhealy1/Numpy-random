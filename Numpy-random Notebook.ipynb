{
 "cells": [
  {
   "cell_type": "markdown",
   "metadata": {},
   "source": [
    "# The numpy-random Package\n",
    "-------"
   ]
  },
  {
   "cell_type": "markdown",
   "metadata": {},
   "source": [
    "![title](images/numpya.png)"
   ]
  },
  {
   "cell_type": "markdown",
   "metadata": {},
   "source": [
    "The purpose of this assignment is to explore and investigate the numpy.random package and its use in Python Data Analysis. The assignment is broken down into 4 separate tasks in the notebook. They are:\n",
    "\n",
    "* Explain the overall purpose of the package\n",
    "* Explain the use of the \"Simple random data\" and \"Permutations\" functions\n",
    "* Explain the use and purpose of at least five \" Distributions\" functions\n",
    "* Explain the use of seeds in generating pseudorandom numbers\n"
   ]
  },
  {
   "cell_type": "markdown",
   "metadata": {},
   "source": [
    "### Section 1 Explain the overall purpose of the package\n",
    "______"
   ]
  },
  {
   "cell_type": "markdown",
   "metadata": {},
   "source": [
    "**Numpy** is a library for conducting numerical computing in Python. Numpy is a portmanteau formed from **Num**-eric and **py**-thon. The library contains numerous features that are of great utility in data analysis/science. It has replace what would have traditioanlly done in C++, FORTRAN and Matlab. It provides a high performance numeric programming extension for the Python language. It provides \n",
    "\n",
    "* a powerful N-dimensional array object - such as array, these function almost like Python's list \n",
    "\n",
    "* sophisticated (broadcasting) functions\n",
    "\n",
    "* tools for integrating C/C++ and Fortran code\n",
    "\n",
    "* useful linear algebra, Fourier transform, and random number capabilities\n",
    "\n",
    "Many other computational packages use Numpy's array objects as the foundational reference or <i>lingua franca</i> for the data science ecosystem.(Kinney, W., Python for Data Analysis). When dealing with arrays in Numpy, we can declare the **<i>attributes</i>** of arrays such as size, shape, memory consumption and data type. We can carry out **<i>Indexing</i> and <i> slicing</i>** operations on the array also such as setting the value of individual array elements and getting smaller subarrays within a larger array. We also **<i>reshape<i> and <i>join</i>/ <i>split</i>** arrays.\n",
    "    \n",
    "The **numpy.random module** allows us to generate many quantities(from a few integers to massive amounts of random items) and types such as floats, integers, booleans and complex numbers. As computers and program utilizes rule to operate, in the real world achieve truly random is impossible. Numpy uses a pseudo random number generator to generate our random values. It uses the Mersenne-Twister(MT) algorithm designed by Matsumoto and Nishimura. When conducting data science/analysis, we may need to generate a large number of values so we can plug a single random value in to a plot or generate an entire dataset of values and the numpy.random sub package allows us to do this.\n",
    "\n",
    "\n",
    "\n"
   ]
  },
  {
   "cell_type": "markdown",
   "metadata": {},
   "source": [
    "### Section 2 Explain the use of the \"Simple random data\" and \"Permutations\" functions\n",
    "________"
   ]
  },
  {
   "cell_type": "markdown",
   "metadata": {},
   "source": [
    "First we will import the packages we will need for the assignment. Once Numpy is imported we will run through simple randon data genereation using the commands outlined in the Numpy documentation found at https://docs.scipy.org/doc/numpy-1.14.0/reference/routines.random.html . We will begin with the random package which is called by using ```np.random.rand()``` command. Simple random data can be thought as drawing a number of values from a group in a way that all subsets are likely. (https://bids.berkeley.edu/news/simple-random-sampling-not-so-simple)"
   ]
  },
  {
   "cell_type": "code",
   "execution_count": 6,
   "metadata": {},
   "outputs": [],
   "source": [
    "#Import the packages we will need to explain and explore the package.\n",
    "import pandas as pd\n",
    "import numpy as np\n",
    "import matplotlib.pyplot as plt\n",
    "import scipy.stats as stats\n",
    "import seaborn as sns\n",
    "from scipy.stats import norm\n",
    "#Set the background for contrast\n",
    "sns.set_style('darkgrid')\n",
    "#Displays the plots in line\n",
    "%matplotlib inline"
   ]
  },
  {
   "cell_type": "code",
   "execution_count": 201,
   "metadata": {},
   "outputs": [
    {
     "data": {
      "text/plain": [
       "array([0.30788815, 0.41771198, 0.34375673, 0.46780796])"
      ]
     },
     "execution_count": 201,
     "metadata": {},
     "output_type": "execute_result"
    }
   ],
   "source": [
    "#The np.random.rand returns random values in a given shape.\n",
    "#We can generate a simple array (1 dimensional array) with random numbers with 4 items by calling:\n",
    "np.random.rand(4)"
   ]
  },
  {
   "cell_type": "code",
   "execution_count": 202,
   "metadata": {},
   "outputs": [
    {
     "data": {
      "text/plain": [
       "<matplotlib.axes._subplots.AxesSubplot at 0x2aadf1b7320>"
      ]
     },
     "execution_count": 202,
     "metadata": {},
     "output_type": "execute_result"
    },
    {
     "data": {
      "image/png": "[encoded data removed]",
      "text/plain": [
       "<Figure size 432x288 with 1 Axes>"
      ]
     },
     "metadata": {
      "needs_background": "light"
     },
     "output_type": "display_data"
    }
   ],
   "source": [
    "#We can illustrate the distribution of the number using a plot:\n",
    "y = np.random.rand(300)\n",
    "sns.distplot(y, color='red')"
   ]
  },
  {
   "cell_type": "code",
   "execution_count": 203,
   "metadata": {},
   "outputs": [
    {
     "name": "stdout",
     "output_type": "stream",
     "text": [
      "[[0.15192168 0.70918225 0.80891032 0.09540337]\n",
      " [0.48744167 0.42807555 0.58969369 0.34933275]]\n"
     ]
    }
   ],
   "source": [
    "#We can then generate more complex (2 dimensional array) arrays with random numbers. Here are creating 2 x 2 shaped dataset.\n",
    "x = np.random.rand(2,4)\n",
    "print(x)\n"
   ]
  },
  {
   "cell_type": "code",
   "execution_count": 204,
   "metadata": {},
   "outputs": [
    {
     "data": {
      "text/plain": [
       "array([[[0.79808905, 0.73960154, 0.34136282, 0.56530324],\n",
       "        [0.67614022, 0.39151547, 0.07902107, 0.26339926],\n",
       "        [0.68055714, 0.24256124, 0.014887  , 0.27547045],\n",
       "        [0.26695342, 0.97116481, 0.35583045, 0.45428841]],\n",
       "\n",
       "       [[0.09170287, 0.70646296, 0.3057286 , 0.65022166],\n",
       "        [0.5339545 , 0.02575453, 0.93392938, 0.44178433],\n",
       "        [0.65141559, 0.93821139, 0.79465777, 0.26702198],\n",
       "        [0.11110751, 0.35307543, 0.77919329, 0.86457022]],\n",
       "\n",
       "       [[0.91671301, 0.33431174, 0.26918978, 0.33860049],\n",
       "        [0.00204859, 0.88890767, 0.92556252, 0.0279325 ],\n",
       "        [0.55383831, 0.34714837, 0.2498923 , 0.73225631],\n",
       "        [0.06244005, 0.31163831, 0.19312028, 0.47844443]]])"
      ]
     },
     "execution_count": 204,
     "metadata": {},
     "output_type": "execute_result"
    }
   ],
   "source": [
    "#Here we are creating a 3 dimensional array and assigning it to x\n",
    "\n",
    "x = np.random.rand(3,4,4)\n",
    "x"
   ]
  },
  {
   "cell_type": "code",
   "execution_count": 205,
   "metadata": {},
   "outputs": [
    {
     "data": {
      "text/plain": [
       "array([[[7.98089047, 7.39601536, 3.41362822, 5.65303242],\n",
       "        [6.76140221, 3.91515474, 0.79021074, 2.63399256],\n",
       "        [6.80557139, 2.42561235, 0.14887002, 2.75470455],\n",
       "        [2.6695342 , 9.71164812, 3.55830451, 4.54288407]],\n",
       "\n",
       "       [[0.91702867, 7.06462965, 3.05728596, 6.50221662],\n",
       "        [5.33954505, 0.25754533, 9.33929384, 4.41784325],\n",
       "        [6.51415592, 9.38211387, 7.94657767, 2.67021978],\n",
       "        [1.11107506, 3.53075428, 7.7919329 , 8.64570218]],\n",
       "\n",
       "       [[9.16713006, 3.34311738, 2.69189777, 3.38600493],\n",
       "        [0.02048594, 8.88907674, 9.25562517, 0.27932504],\n",
       "        [5.53838312, 3.47148374, 2.49892305, 7.32256313],\n",
       "        [0.62440049, 3.11638309, 1.93120277, 4.78444433]]])"
      ]
     },
     "execution_count": 205,
     "metadata": {},
     "output_type": "execute_result"
    }
   ],
   "source": [
    "#We can then manipulate this data by interacting with output by its assigned variable, in this case x:\n",
    "x * 10"
   ]
  },
  {
   "cell_type": "code",
   "execution_count": 206,
   "metadata": {},
   "outputs": [
    {
     "data": {
      "text/plain": [
       "array([[ 1.2252727 ,  0.39454357, -0.38527227,  0.61028573],\n",
       "       [-0.31859411,  1.32605426, -0.06992948, -1.11824488],\n",
       "       [-1.23988587, -0.08420128, -0.13619531,  0.01048441],\n",
       "       [ 0.20420231, -1.80033709, -0.44029723, -0.39958308],\n",
       "       [ 0.02623209, -0.20223192, -0.32962538,  1.22217509],\n",
       "       [-0.69385059,  1.67457263,  0.33473178,  1.22946445],\n",
       "       [-0.45055938, -0.73493974, -0.09025737,  0.58797403],\n",
       "       [-1.20811818,  0.6568466 , -2.43101102,  0.56511723],\n",
       "       [ 0.14011111, -0.54476282,  0.46161042,  0.9796473 ],\n",
       "       [ 0.146009  ,  0.50303641,  3.24011391, -0.90057737],\n",
       "       [-0.49794997,  1.50873209, -1.18946588, -2.86864414],\n",
       "       [-0.05140659, -0.64730295,  0.95396954,  1.68152808],\n",
       "       [ 1.17731302, -1.8558365 , -0.53155385, -0.26134418],\n",
       "       [-0.93277715, -0.28366541,  0.46142738,  0.79545836],\n",
       "       [-1.47017793,  1.19304967, -0.02746898, -0.8564933 ],\n",
       "       [ 2.05589045,  0.24031043, -0.7271316 ,  0.04264307],\n",
       "       [ 1.16222897,  0.29884833, -1.25927143,  0.38978346],\n",
       "       [ 1.50244187,  0.49243607,  1.36726225, -0.56052471],\n",
       "       [ 0.72808043, -0.42389636, -0.74910678, -1.07679946],\n",
       "       [ 0.82084462, -0.9331762 , -0.87157142, -0.25878727]])"
      ]
     },
     "execution_count": 206,
     "metadata": {},
     "output_type": "execute_result"
    }
   ],
   "source": [
    "#np.random.randn\n",
    "#The np.random.randn function returns samples from a normal distribution(Gaussian) with mean 0 and \n",
    "#standard deviation of 1.\n",
    "np.random.randn(20,4)"
   ]
  },
  {
   "cell_type": "code",
   "execution_count": 207,
   "metadata": {},
   "outputs": [
    {
     "data": {
      "text/plain": [
       "array([ 3,  9, 14, 12, 10,  6])"
      ]
     },
     "execution_count": 207,
     "metadata": {},
     "output_type": "execute_result"
    }
   ],
   "source": [
    "#np.random.randint\n",
    "#Let's say we want some integers (generate 6 integers between 0 and 15 (not including 15)). Here we are using the\n",
    "#```randint``` or random interger function to create the integers.\n",
    "np.random.randint(0, 15, 6)\n"
   ]
  },
  {
   "cell_type": "code",
   "execution_count": 208,
   "metadata": {},
   "outputs": [],
   "source": [
    "#np.random.random_integers has been deprecated, the doc recommend using np.random.radint instead\n"
   ]
  },
  {
   "cell_type": "code",
   "execution_count": 209,
   "metadata": {},
   "outputs": [
    {
     "name": "stdout",
     "output_type": "stream",
     "text": [
      "\n",
      " Here we have a 1 Dimensional Array:\n",
      " [0.65087868 0.43533273 0.49955757 0.81104767 0.90220542]\n",
      "\n",
      " Here we have a 2 Dimensional Array:\n",
      " [[0.8076913  0.49593054]\n",
      " [0.33149235 0.50136149]\n",
      " [0.83185945 0.96556738]\n",
      " [0.49214905 0.52135459]\n",
      " [0.22306974 0.00300076]]\n",
      "\n",
      " Here we have a 3 Dimensional Array:\n",
      " [[[0.13828915 0.18077943 0.66238016]\n",
      "  [0.9213823  0.70402672 0.00742794]]\n",
      "\n",
      " [[0.54757156 0.39484303 0.30860366]\n",
      "  [0.48529345 0.36971629 0.38150375]]\n",
      "\n",
      " [[0.88302363 0.85229157 0.79377994]\n",
      "  [0.64757899 0.92157583 0.49045584]]\n",
      "\n",
      " [[0.35785239 0.64206974 0.82336667]\n",
      "  [0.57608059 0.0722748  0.97653597]]\n",
      "\n",
      " [[0.83753841 0.08612701 0.81346278]\n",
      "  [0.36535921 0.35134136 0.76763825]]]\n"
     ]
    }
   ],
   "source": [
    "#np.random.random_sample. The functions returns an array populated with floats based on the inputs in a normal distribution.\n",
    "#We can add more dimensions by manipulating the function\n",
    "\n",
    "a = np.random.random_sample(5)\n",
    "print(\"\\n\",\"Here we have a 1 Dimensional Array:\\n\",a)\n",
    "\n",
    "b = np.random.random_sample((5,2))\n",
    "print(\"\\n\",\"Here we have a 2 Dimensional Array:\\n\",b)\n",
    "c = np.random.random_sample((5,2,3))\n",
    "print(\"\\n\",\"Here we have a 3 Dimensional Array:\\n\",c)\n"
   ]
  },
  {
   "cell_type": "code",
   "execution_count": 210,
   "metadata": {},
   "outputs": [
    {
     "data": {
      "text/plain": [
       "array([0.66281945, 0.80250401, 0.51405738])"
      ]
     },
     "execution_count": 210,
     "metadata": {},
     "output_type": "execute_result"
    }
   ],
   "source": [
    "#np.random.random\n",
    "#This functions returns a array populated with float based on the inputs again in the “continuous uniform” distribution. Can be manipulated as above.\n",
    "\n",
    "np.random.random(3)"
   ]
  },
  {
   "cell_type": "code",
   "execution_count": 211,
   "metadata": {},
   "outputs": [],
   "source": [
    "#np.random.ranf\n",
    "#This functions seems to carry the same action as the function before it. Uses the “continuous uniform” distribution."
   ]
  },
  {
   "cell_type": "code",
   "execution_count": 212,
   "metadata": {},
   "outputs": [],
   "source": [
    "#np.random.sample\n",
    "#np.random.random_sample\n",
    "#np.random.ranf\n",
    "#np.random.random\n",
    "\n",
    "#These functions all seem to carry out the same action as the function before it, i.e. random sampling over the\n",
    "#“continuous uniform” distribution. Within the numpy packages there seems to be a few that are redundant as the \n",
    "#exact or real word function can be accomplished by another. "
   ]
  },
  {
   "cell_type": "code",
   "execution_count": 213,
   "metadata": {},
   "outputs": [
    {
     "data": {
      "text/plain": [
       "array([9, 4, 1, 5])"
      ]
     },
     "execution_count": 213,
     "metadata": {},
     "output_type": "execute_result"
    }
   ],
   "source": [
    "#np.random.choice\n",
    "#We can use the random module to make a choice for us, here it will give us an output of 4 number between 0 and 10.\n",
    "np.random.choice(10,4)"
   ]
  },
  {
   "cell_type": "code",
   "execution_count": 214,
   "metadata": {},
   "outputs": [
    {
     "name": "stdout",
     "output_type": "stream",
     "text": [
      "3\n"
     ]
    }
   ],
   "source": [
    "#np.random.choice\n",
    "#The np.random.choice function returns a random sample from an array (1D array)\n",
    "tom = [1,2,3,4,5]\n",
    "print(np.random.choice(tom))"
   ]
  },
  {
   "cell_type": "code",
   "execution_count": 215,
   "metadata": {},
   "outputs": [
    {
     "data": {
      "text/plain": [
       "array(['Brian'], dtype='<U5')"
      ]
     },
     "execution_count": 215,
     "metadata": {},
     "output_type": "execute_result"
    }
   ],
   "source": [
    "#We can do the same for non numbers, returns a random choice with the datatype a unicode 5 character string. This could used\n",
    "#for selected a categoy or label at random.\n",
    "gMit = ['Tom', 'Brian', 'Ian']\n",
    "np.random.choice(gMit,1)"
   ]
  },
  {
   "cell_type": "code",
   "execution_count": 216,
   "metadata": {},
   "outputs": [
    {
     "data": {
      "text/plain": [
       "b'v\\xcb'"
      ]
     },
     "execution_count": 216,
     "metadata": {},
     "output_type": "execute_result"
    }
   ],
   "source": [
    "#We can even use the function to create the random bytes\n",
    "np.random.bytes(2)"
   ]
  },
  {
   "cell_type": "markdown",
   "metadata": {},
   "source": [
    "### Permutations\n",
    "_______\n",
    "The permutations functions deals with items that are re-ordered when calling the function. There seems to be two functions, the shuffle function and permutations function.\n",
    "\n",
    "The Permutation function ```np.random.permutation(x)``` takes an array and returns a copy of the array with the item reordered. If x is a multi-dimensional array, it is only shuffled along its first index. If x is an integer, randomly permute np.arange(x). If x is an array, make a copy and shuffle the elements randomly.\n",
    "\n",
    "The shuffle functions does the reodering in place.the shuffl function shuffles the array along the first axis of a multi-dimensional array. The order of sub-arrays is changed but their contents remains the same."
   ]
  },
  {
   "cell_type": "code",
   "execution_count": 217,
   "metadata": {},
   "outputs": [
    {
     "data": {
      "text/plain": [
       "array([4, 8, 7, 3, 2, 9, 1, 5, 6, 0])"
      ]
     },
     "execution_count": 217,
     "metadata": {},
     "output_type": "execute_result"
    }
   ],
   "source": [
    "#Permutation\n",
    "np.random.permutation(10)"
   ]
  },
  {
   "cell_type": "code",
   "execution_count": 218,
   "metadata": {},
   "outputs": [
    {
     "data": {
      "text/plain": [
       "array([ 5,  3, 25, 19, 10])"
      ]
     },
     "execution_count": 218,
     "metadata": {},
     "output_type": "execute_result"
    }
   ],
   "source": [
    "np.random.permutation([3, 5, 10, 19, 25])"
   ]
  },
  {
   "cell_type": "code",
   "execution_count": 219,
   "metadata": {},
   "outputs": [
    {
     "data": {
      "text/plain": [
       "array([[ 0,  1,  2,  3],\n",
       "       [ 4,  5,  6,  7],\n",
       "       [ 8,  9, 10, 11]])"
      ]
     },
     "execution_count": 219,
     "metadata": {},
     "output_type": "execute_result"
    }
   ],
   "source": [
    "arr = np.arange(12).reshape((3, 4))\n",
    "np.random.permutation(arr)"
   ]
  },
  {
   "cell_type": "code",
   "execution_count": 220,
   "metadata": {},
   "outputs": [
    {
     "data": {
      "text/plain": [
       "array([    3, 10000,   200,  1000,     3,     2,     6,     4,     5,\n",
       "           6,     7,     3,     4,     7])"
      ]
     },
     "execution_count": 220,
     "metadata": {},
     "output_type": "execute_result"
    }
   ],
   "source": [
    "#Shuffling of 1d array\n",
    "x = np.array([3,4,6,6,3,3,4,7,7,5,200,1000,2,10000])\n",
    "np.random.shuffle(x)\n",
    "x"
   ]
  },
  {
   "cell_type": "markdown",
   "metadata": {},
   "source": [
    "### Section 3 Explain the use and purpose of at least five <strong>\"Distributions\"</strong> functions\n",
    "_______"
   ]
  },
  {
   "cell_type": "markdown",
   "metadata": {},
   "source": [
    "Having conducted research on the most common distributions used in data science, I decided to select 8 distributions. What a distribution tells us is the spread of data over a given interval. With categorical data we can tell how frequently data falls into a certain group. With numerical data, we can see the variation and spread of the values. The 8 distributions I have selected are:\n",
    "\n",
    "\n",
    "* Bernoulli         ---  ```df = bernoulli.rvs(size=1000,p=0.5)```\n",
    "* Uniform           - ```df = np.random.uniform(low=0.0, high=1.0, size=None)```\n",
    "* Normal(Gaussian)  - ```df = np.random.normal(loc=0.0, scale=1.0, size=None)```\n",
    "* Student-t         - ```s = np.random.standard_t(10, size=100000)```\n",
    "* Binomial          - ```np.random.binomial(n, p, size=None)``` where n = number of trials and p = probability\n",
    "* Poisson           -```np.random.poisson(lam=1.0, size=None)```\n",
    "* Exponential       -```np.random.pareto(a, size=None)```\n",
    "* Pareto            -```np.random.pareto(a, size=None)```"
   ]
  },
  {
   "cell_type": "markdown",
   "metadata": {},
   "source": [
    "### Bernoulli Distribution\n",
    "\n",
    "While not a specific distribution called from the random package ( it seems related to the geometric distribution), I think the distribution should be here as sometimes\n",
    "we will be dealing with observations that only have two outcomes, i.e. heads or tails, pass or fail or in the case of\n",
    "HR (my principal area of of interest) if someone will leave or stay. The probability density function is:\n",
    "\n",
    "![title](images/bernoulli.png)"
   ]
  },
  {
   "cell_type": "code",
   "execution_count": 221,
   "metadata": {},
   "outputs": [
    {
     "data": {
      "text/plain": [
       "[Text(0, 0.5, 'Frequency'),\n",
       " Text(0.5, 0, 'Bernoulli - Only two possible outcomes such as heads or tails')]"
      ]
     },
     "execution_count": 221,
     "metadata": {},
     "output_type": "execute_result"
    },
    {
     "data": {
      "image/png": "[encoded data removed]",
      "text/plain": [
       "<Figure size 432x288 with 1 Axes>"
      ]
     },
     "metadata": {
      "needs_background": "light"
     },
     "output_type": "display_data"
    }
   ],
   "source": [
    "#Here we are using the distribution applied to coin tosses. Calling ```df = bernoulli.rvs(size=1000,p=0.5)``` where \n",
    "#the size is the number of observations or experienents and p is the bias, i.e. so here we have an unbiased coin.\n",
    "from scipy.stats import bernoulli\n",
    "df = bernoulli.rvs(size=1000,p=0.5)\n",
    "ax = sns.distplot(df,\n",
    "                  kde=True,\n",
    "                  color='black',\n",
    "                  hist_kws={\"linewidth\": 15,'alpha':0.1})\n",
    "ax.set(xlabel='Bernoulli - Only two possible outcomes such as heads or tails', ylabel='Frequency')"
   ]
  },
  {
   "cell_type": "markdown",
   "metadata": {},
   "source": [
    "### Uniform Distribution\n",
    "Continuing our tour on distributions for dummies, we will graduate from coin tosses to rolls of the dice. In the Bernoulli distribution we only have two outcomes possible, in the uniform distirbution we have a possibly unlimited number of outcomes (in our case 8) because we are using a 8 sided dice .\n",
    "\n",
    "\n",
    "\n",
    "The probability density function of the uniform distribution is\n",
    "\n",
    "![title](images/uniform.png)\n",
    "\n",
    "                                          \n",
    "\n",
    "anywhere within the interval [a, b), and zero elsewhere.\n",
    "\n",
    "When high == low, values of low will be returned. If high < low, the results are officially undefined and may eventually raise an error, i.e. do not rely on this function to behave when passed arguments satisfying that inequality condition. Taken from <emp>https://docs.scipy.org/doc/numpy-1.15.1/reference/generated/numpy.random.uniform.html#numpy.random.uniform</emp>"
   ]
  },
  {
   "cell_type": "code",
   "execution_count": 222,
   "metadata": {},
   "outputs": [],
   "source": [
    "#Let's draw some examples from a uniform distribution and plot them.\n",
    "t = np.random.uniform(-1,0,1000)"
   ]
  },
  {
   "cell_type": "code",
   "execution_count": 223,
   "metadata": {},
   "outputs": [
    {
     "data": {
      "text/plain": [
       "True"
      ]
     },
     "execution_count": 223,
     "metadata": {},
     "output_type": "execute_result"
    }
   ],
   "source": [
    "#This is a test to check all values are within our range\n",
    "np.all(t>=-1)"
   ]
  },
  {
   "cell_type": "code",
   "execution_count": 224,
   "metadata": {},
   "outputs": [
    {
     "data": {
      "text/plain": [
       "True"
      ]
     },
     "execution_count": 224,
     "metadata": {},
     "output_type": "execute_result"
    }
   ],
   "source": [
    "np.all(t < 0 )"
   ]
  },
  {
   "cell_type": "code",
   "execution_count": 225,
   "metadata": {},
   "outputs": [
    {
     "data": {
      "text/plain": [
       "<matplotlib.axes._subplots.AxesSubplot at 0x2aadece3780>"
      ]
     },
     "execution_count": 225,
     "metadata": {},
     "output_type": "execute_result"
    },
    {
     "data": {
      "image/png": "[encoded data removed]",
      "text/plain": [
       "<Figure size 432x288 with 1 Axes>"
      ]
     },
     "metadata": {
      "needs_background": "light"
     },
     "output_type": "display_data"
    }
   ],
   "source": [
    "sns.distplot(t, color='red')"
   ]
  },
  {
   "cell_type": "markdown",
   "metadata": {},
   "source": [
    "Below we show the Uniform distribution applied to the outcome of a 8 sided dice being tossed."
   ]
  },
  {
   "cell_type": "code",
   "execution_count": 226,
   "metadata": {},
   "outputs": [
    {
     "data": {
      "text/plain": [
       "(0, 1)"
      ]
     },
     "execution_count": 226,
     "metadata": {},
     "output_type": "execute_result"
    },
    {
     "data": {
      "image/png": "[encoded data removed]",
      "text/plain": [
       "<Figure size 432x288 with 1 Axes>"
      ]
     },
     "metadata": {
      "needs_background": "light"
     },
     "output_type": "display_data"
    }
   ],
   "source": [
    "prob = np.full((8), 1/8)\n",
    "face = [1,2,3,4,5,6,7,8]\n",
    "plt.bar(face, prob)\n",
    "plt.ylabel('Probability', fontsize=24)\n",
    "plt.xlabel('8 sided Dice Roll Outcome', fontsize=24)\n",
    "plt.title('Fair 8 sided Dice Uniform Distribution', fontsize=24)\n",
    "axes = plt.gca()\n",
    "axes.set_ylim([0,1])"
   ]
  },
  {
   "cell_type": "markdown",
   "metadata": {},
   "source": [
    "### Normal Distribution\n",
    "\n",
    "The normal distribution is the classic bell shaped curve, it is also known as the gaussian distribution. It is the most well known distribution and has been used to describe the distribution of incomes in an economy, weight in poulations, perfromance review scores. \n",
    "\n",
    "The normal distribution has a few fundamental characteristics. We can recognise a normal distribution due to its shape. The curve is <strong>symmetrical</strong>, the mode, median and mean are all the same value, clustering the values symetrically around the mean.\n",
    "\n",
    "It is also <strong>unimodal</strong>, it is highest in the middle and curves downwards. \n",
    "\n",
    "It is also decribed as <strong>asymptoptic</strong> , meaning the upper and lower tails of the distribution never meets the \n",
    "baseline/x-axis.\n",
    "\n",
    "The central limit theorem says (approximately) that a random variable definied as the average of a large number of independant and identically distributed random variables is itself normally distributed. The probability density function is:\n",
    "\n",
    "![title](images/normal.png)\n",
    "\n",
    "If we know the values of the mean and the standard deviation in a normally distributed popultion we can predict the probability of exact values by looking at the distribution. If we look at below, we can see that 99.7% of values fall with 3 standard deviations of the mean, 95% ish fall with 2 standard deviations and 68% fall with one standard deviation."
   ]
  },
  {
   "cell_type": "markdown",
   "metadata": {},
   "source": [
    "![title](images/bell-shaped.png)"
   ]
  },
  {
   "cell_type": "code",
   "execution_count": 227,
   "metadata": {},
   "outputs": [],
   "source": [
    "#Here we will plot a normally distributed plot using 0 as our mean, 0.1 as our\n",
    "#standard deviation(how spread out data is from the mean) and 1000 values.\n",
    "mu, sigma = 0, 1.0 # mean and standard deviation\n",
    "s = np.random.normal(mu, sigma, 1000)"
   ]
  },
  {
   "cell_type": "code",
   "execution_count": 228,
   "metadata": {},
   "outputs": [
    {
     "data": {
      "text/plain": [
       "<matplotlib.axes._subplots.AxesSubplot at 0x2aad6c0cbe0>"
      ]
     },
     "execution_count": 228,
     "metadata": {},
     "output_type": "execute_result"
    },
    {
     "data": {
      "image/png": "[encoded data removed]",
      "text/plain": [
       "<Figure size 432x288 with 1 Axes>"
      ]
     },
     "metadata": {
      "needs_background": "light"
     },
     "output_type": "display_data"
    }
   ],
   "source": [
    "sns.distplot(s, color=\"blue\")"
   ]
  },
  {
   "cell_type": "code",
   "execution_count": 229,
   "metadata": {},
   "outputs": [
    {
     "data": {
      "text/plain": [
       "Text(0.5, 1.0, 'Normal Distribution')"
      ]
     },
     "execution_count": 229,
     "metadata": {},
     "output_type": "execute_result"
    },
    {
     "data": {
      "image/png": "[encoded data removed]",
      "text/plain": [
       "<Figure size 432x288 with 1 Axes>"
      ]
     },
     "metadata": {
      "needs_background": "light"
     },
     "output_type": "display_data"
    }
   ],
   "source": [
    "#Here we have the more traditional plot of the bell shaped curve.\n",
    "n = np.arange(-1000, 1000)\n",
    "mean = 0\n",
    "normal = stats.norm.pdf(n, mean, 300)\n",
    "plt.plot(n, normal)\n",
    "plt.xlabel('Distribution', fontsize=12)\n",
    "plt.ylabel('Probability', fontsize=12)\n",
    "plt.title(\"Normal Distribution\")"
   ]
  },
  {
   "cell_type": "markdown",
   "metadata": {},
   "source": [
    "### Student-t Distribution"
   ]
  },
  {
   "cell_type": "markdown",
   "metadata": {},
   "source": [
    "The student-t distribution can be any of many probability distributions that arise from estimating the mean of a normally/gaussian distributed population in scenarios where the sample size (degree of freedom refers to the number of independant obvs in a data set)is low and the population's standard deviation (how spread out the values are) is unknown. The probability density finction is:\n",
    "\n",
    "![title](images/student_t.png)\n",
    "\n"
   ]
  },
  {
   "cell_type": "markdown",
   "metadata": {},
   "source": [
    "Below we are showing the example used at https://docs.scipy.org/doc/numpy-1.15.1/reference/generated/numpy.random.standard_t.html?highlight=student . This example is showing how much does the energy intake for 11 women diviate from 95% of the recommeded calorific intake."
   ]
  },
  {
   "cell_type": "code",
   "execution_count": 230,
   "metadata": {},
   "outputs": [],
   "source": [
    "intake = np.array([5260., 5470, 5640, 6180, 6390, 6515, 6805, 7515, \\\n",
    "                   7515, 8230, 8770])"
   ]
  },
  {
   "cell_type": "code",
   "execution_count": 231,
   "metadata": {},
   "outputs": [
    {
     "data": {
      "text/plain": [
       "1142.1232221373727"
      ]
     },
     "execution_count": 231,
     "metadata": {},
     "output_type": "execute_result"
    }
   ],
   "source": [
    "s = np.random.standard_t(10, size=100000)\n",
    "np.mean(intake)\n",
    "\n",
    "intake.std(ddof=1)"
   ]
  },
  {
   "cell_type": "code",
   "execution_count": 232,
   "metadata": {},
   "outputs": [
    {
     "data": {
      "image/png": "[encoded data removed]",
      "text/plain": [
       "<Figure size 432x288 with 1 Axes>"
      ]
     },
     "metadata": {
      "needs_background": "light"
     },
     "output_type": "display_data"
    }
   ],
   "source": [
    "t = (np.mean(intake)-7725)/(intake.std(ddof=1)/np.sqrt(len(intake)))\n",
    "import matplotlib.pyplot as plt\n",
    "h = plt.hist(s, bins=100, density=True)"
   ]
  },
  {
   "cell_type": "code",
   "execution_count": 233,
   "metadata": {},
   "outputs": [
    {
     "data": {
      "text/plain": [
       "0.00892"
      ]
     },
     "execution_count": 233,
     "metadata": {},
     "output_type": "execute_result"
    }
   ],
   "source": [
    "#p value is equal to .009\n",
    "np.sum(s<t) / float(len(s))"
   ]
  },
  {
   "cell_type": "markdown",
   "metadata": {},
   "source": [
    "### Binomial Distribution\n",
    "The binomial distribution shows the distribution of possible outcomes for two outcomes in a series of experiments. Taking our coin toss as an example let's say we want to understand what is the outcome for a number of events say how many time heads will show up in 1000 experiements where we flip the coin 20 times. The chances of a heads or tails is even. The binomial distribution assumes that each trial or event is independant of each other and there can only be two outcomes. The probability density function is :\n",
    "\n",
    "![title](images/binomial.png)\n"
   ]
  },
  {
   "cell_type": "code",
   "execution_count": 234,
   "metadata": {},
   "outputs": [
    {
     "data": {
      "text/plain": [
       "[Text(0, 0.5, 'Frequency'), Text(0.5, 0, 'Binomial distribtuion')]"
      ]
     },
     "execution_count": 234,
     "metadata": {},
     "output_type": "execute_result"
    },
    {
     "data": {
      "image/png": "[encoded data removed]",
      "text/plain": [
       "<Figure size 432x288 with 1 Axes>"
      ]
     },
     "metadata": {
      "needs_background": "light"
     },
     "output_type": "display_data"
    }
   ],
   "source": [
    "#Here we are generating one thousand data points in which flip the coin twenty times with an unbiased coin. \n",
    "df1 = stats.binom.rvs(n=20,p=0.5,loc=0,size=1000)\n",
    "ax = sns.distplot(df1,\n",
    "                  kde=True,\n",
    "                  color='green',\n",
    "                  hist_kws={\"linewidth\": 30,'alpha':0.2})\n",
    "ax.set(xlabel='Binomial distribtuion', ylabel='Frequency')\n",
    "\n"
   ]
  },
  {
   "cell_type": "code",
   "execution_count": 235,
   "metadata": {},
   "outputs": [
    {
     "data": {
      "text/plain": [
       "0.6230468749999999"
      ]
     },
     "execution_count": 235,
     "metadata": {},
     "output_type": "execute_result"
    }
   ],
   "source": [
    "#Thought this was a nice bit of code (cdf = culmulative distribution function) that complements the distribution. \n",
    "#Here we are seeing what is the probability of seeing 5(k) heads in 10(n) trials and using an unbiased coin (p=.5).\n",
    "stats.binom.cdf(k=5,        \n",
    "                n=10,       \n",
    "                p=0.5)"
   ]
  },
  {
   "cell_type": "markdown",
   "metadata": {},
   "source": [
    "### Poisson \n",
    "The poisson is a useful distribution for understanding the occurence of event when we dont know how often it occurs. Good examples for poisson distributions are mechanical fault on an assembly line or call centre activity. \n",
    "\n",
    "The below image shows the formula for deriving the Poisson distribution.\n",
    "\n",
    "λ is the greek letter L and here it refers to the average rate of an event happening. "
   ]
  },
  {
   "cell_type": "markdown",
   "metadata": {},
   "source": [
    "![title](images/poisson.png)"
   ]
  },
  {
   "cell_type": "code",
   "execution_count": 236,
   "metadata": {},
   "outputs": [],
   "source": [
    "#Let's plot the Poisson distibution using a lambda(interval of 5) and size of 100000\n",
    "s = np.random.poisson(5, 100000)"
   ]
  },
  {
   "cell_type": "code",
   "execution_count": 237,
   "metadata": {},
   "outputs": [
    {
     "data": {
      "text/plain": [
       "<matplotlib.axes._subplots.AxesSubplot at 0x2aadeae0588>"
      ]
     },
     "execution_count": 237,
     "metadata": {},
     "output_type": "execute_result"
    },
    {
     "data": {
      "image/png": "[encoded data removed]",
      "text/plain": [
       "<Figure size 432x288 with 1 Axes>"
      ]
     },
     "metadata": {
      "needs_background": "light"
     },
     "output_type": "display_data"
    }
   ],
   "source": [
    "#Let's plot what it looks like.\n",
    "sns.distplot(s, 14, color=\"green\", kde=True,fit=norm)"
   ]
  },
  {
   "cell_type": "code",
   "execution_count": 238,
   "metadata": {},
   "outputs": [
    {
     "data": {
      "image/png": "[encoded data removed]",
      "text/plain": [
       "<Figure size 432x288 with 1 Axes>"
      ]
     },
     "metadata": {
      "needs_background": "light"
     },
     "output_type": "display_data"
    }
   ],
   "source": [
    "#Use matplotlib to show  the same.\n",
    "counts, bins, ignored = plt.hist(s, 14, density=True)\n",
    "plt.show()"
   ]
  },
  {
   "cell_type": "code",
   "execution_count": 239,
   "metadata": {},
   "outputs": [
    {
     "data": {
      "text/plain": [
       "array([[105, 511],\n",
       "       [121, 493],\n",
       "       [ 95, 532],\n",
       "       [108, 493],\n",
       "       [116, 475],\n",
       "       [ 90, 493],\n",
       "       [ 89, 492],\n",
       "       [ 96, 516],\n",
       "       [104, 463],\n",
       "       [ 98, 491],\n",
       "       [118, 514],\n",
       "       [103, 509],\n",
       "       [ 91, 461],\n",
       "       [ 94, 537],\n",
       "       [ 87, 521],\n",
       "       [ 99, 520],\n",
       "       [ 91, 498],\n",
       "       [126, 473],\n",
       "       [105, 499],\n",
       "       [ 87, 535],\n",
       "       [127, 485],\n",
       "       [ 93, 528],\n",
       "       [ 96, 514],\n",
       "       [ 90, 483],\n",
       "       [112, 506],\n",
       "       [ 99, 514],\n",
       "       [104, 517],\n",
       "       [104, 468],\n",
       "       [115, 499],\n",
       "       [ 94, 520],\n",
       "       [ 94, 529],\n",
       "       [107, 489],\n",
       "       [111, 498],\n",
       "       [110, 478],\n",
       "       [ 99, 536],\n",
       "       [107, 505],\n",
       "       [ 88, 508],\n",
       "       [107, 479],\n",
       "       [103, 514],\n",
       "       [114, 488],\n",
       "       [103, 520],\n",
       "       [ 96, 518],\n",
       "       [106, 461],\n",
       "       [120, 497],\n",
       "       [107, 505],\n",
       "       [ 99, 495],\n",
       "       [ 88, 538],\n",
       "       [105, 477],\n",
       "       [ 98, 471],\n",
       "       [100, 493]])"
      ]
     },
     "execution_count": 239,
     "metadata": {},
     "output_type": "execute_result"
    }
   ],
   "source": [
    "#How to draw 50 values for lambda 100 and 500, taken from the docs of numpy\n",
    "z = np.random.poisson(lam=(100., 500.), size=(50, 2))\n",
    "z"
   ]
  },
  {
   "cell_type": "markdown",
   "metadata": {},
   "source": [
    "### Exponential Distribution\n",
    "The exponential distribution is used to model the time taken between the occurance of different events in a poisson process i.e. events occur independantly and at a constant average rate.  Again, in HR we can use the exponential curve to model the survival curve of employees or in Marketing we can use to model how long someone will spend on a website. (https://towardsdatascience.com/what-is-exponential-distribution-7bdd08590e2a) , The probability density function is:\n",
    "\n",
    "![title](images/expo.png)\n",
    "\n",
    "The model uses lambda λ to declare the rate between events in the same way as the poisson distribution."
   ]
  },
  {
   "cell_type": "code",
   "execution_count": 240,
   "metadata": {},
   "outputs": [
    {
     "data": {
      "text/plain": [
       "array([0.46564985, 1.11329901, 0.15224194])"
      ]
     },
     "execution_count": 240,
     "metadata": {},
     "output_type": "execute_result"
    }
   ],
   "source": [
    "np.random.exponential(1,3)"
   ]
  },
  {
   "cell_type": "code",
   "execution_count": 242,
   "metadata": {},
   "outputs": [],
   "source": [
    "#Let's run and plot what that looks like\n",
    "df = np.random.exponential(5, size=10000)\n"
   ]
  },
  {
   "cell_type": "code",
   "execution_count": 243,
   "metadata": {},
   "outputs": [
    {
     "data": {
      "text/plain": [
       "<matplotlib.axes._subplots.AxesSubplot at 0x2aadef7c400>"
      ]
     },
     "execution_count": 243,
     "metadata": {},
     "output_type": "execute_result"
    },
    {
     "data": {
      "image/png": "[encoded data removed]",
      "text/plain": [
       "<Figure size 432x288 with 1 Axes>"
      ]
     },
     "metadata": {
      "needs_background": "light"
     },
     "output_type": "display_data"
    }
   ],
   "source": [
    "sns.distplot(df, 100, color=\"green\")"
   ]
  },
  {
   "cell_type": "code",
   "execution_count": 246,
   "metadata": {},
   "outputs": [
    {
     "name": "stdout",
     "output_type": "stream",
     "text": [
      "[5.08125251]\n"
     ]
    },
    {
     "data": {
      "image/png": "[encoded data removed]",
      "text/plain": [
       "<Figure size 432x288 with 1 Axes>"
      ]
     },
     "metadata": {
      "needs_background": "light"
     },
     "output_type": "display_data"
    }
   ],
   "source": [
    "#Let's say the below graphs show the failure rate of a piece of equipment, we can vary the lambda value to see how the \n",
    "#equipment performs without failure. The green line with a lambda of .7 \n",
    "#Taken from https://stackoverflow.com/questions/47319277/generate-random-numbers-from-exponential-\n",
    "#distribution-and-model-using-python\n",
    "\n",
    "from scipy.optimize import curve_fit\n",
    "\n",
    "df1 = np.random.exponential(5, size=1000)\n",
    "\n",
    "hist,edges = np.histogram(df1,bins=\"auto\",density=True )\n",
    "\n",
    "x = edges[:-1]+np.diff(edges)/2.\n",
    "plt.scatter(x,hist)\n",
    "\n",
    "func = lambda x,beta: 1./beta*np.exp(-x/beta)\n",
    "\n",
    "popt, pcov = curve_fit(f=func, xdata=x, ydata=hist) \n",
    "\n",
    "print(popt)\n",
    "\n",
    "xx = np.linspace(0, x.max(), 101)\n",
    "plt.plot(xx, func(xx,*popt), ls=\"--\", color=\"g\", \n",
    "         label=\"fit, $beta = ${}\".format(popt))\n",
    "plt.legend()\n",
    "plt.show()"
   ]
  },
  {
   "cell_type": "code",
   "execution_count": 252,
   "metadata": {},
   "outputs": [
    {
     "data": {
      "text/plain": [
       "[Text(0, 0.5, 'Failure'), Text(0.5, 0, 'Time')]"
      ]
     },
     "execution_count": 252,
     "metadata": {},
     "output_type": "execute_result"
    },
    {
     "data": {
      "image/png": "[encoded data removed]",
      "text/plain": [
       "<Figure size 432x288 with 1 Axes>"
      ]
     },
     "metadata": {
      "needs_background": "light"
     },
     "output_type": "display_data"
    }
   ],
   "source": [
    "#Adapted from https://www.datacamp.com/community/tutorials/probability-distributions-python\n",
    "\n",
    "from scipy.stats import expon\n",
    "df = expon.rvs(scale=1,loc=0,size=1000)\n",
    "\n",
    "ax = sns.distplot(df,\n",
    "                  kde=True,\n",
    "                  bins=100,\n",
    "                  color='blue',\n",
    "                  hist_kws={\"linewidth\": 20,'alpha':.1})\n",
    "ax.set(xlabel='Time', ylabel='Failure')"
   ]
  },
  {
   "cell_type": "markdown",
   "metadata": {},
   "source": [
    "### Pareto distribution"
   ]
  },
  {
   "cell_type": "markdown",
   "metadata": {},
   "source": [
    "The pareto distribution is another interesting distribution. It is sometimes called the 80/20 rule. The distribution was made popular by Valfredo Pareto, an Italian economist noticed that 80% of Italy's wealth was possessed by 20% of the population. The probability density function: \n",
    "\n",
    "![title](images/pareto.png)"
   ]
  },
  {
   "cell_type": "code",
   "execution_count": 255,
   "metadata": {},
   "outputs": [],
   "source": [
    "#We set our parameters and plot the shape.\n",
    "a, m =4., 3. # shape and mode\n",
    "s = (np.random.pareto(a, 1000) + 1) * m"
   ]
  },
  {
   "cell_type": "code",
   "execution_count": 261,
   "metadata": {},
   "outputs": [
    {
     "data": {
      "text/plain": [
       "<matplotlib.axes._subplots.AxesSubplot at 0x2aae05e38d0>"
      ]
     },
     "execution_count": 261,
     "metadata": {},
     "output_type": "execute_result"
    },
    {
     "data": {
      "image/png": "[encoded data removed]",
      "text/plain": [
       "<Figure size 432x288 with 1 Axes>"
      ]
     },
     "metadata": {
      "needs_background": "light"
     },
     "output_type": "display_data"
    }
   ],
   "source": [
    "sns.distplot(s, 100, color=\"green\")"
   ]
  },
  {
   "cell_type": "code",
   "execution_count": 262,
   "metadata": {},
   "outputs": [
    {
     "data": {
      "image/png": "[encoded data removed]",
      "text/plain": [
       "<Figure size 432x288 with 1 Axes>"
      ]
     },
     "metadata": {
      "needs_background": "light"
     },
     "output_type": "display_data"
    }
   ],
   "source": [
    "#Plot the same using matplot\n",
    "#Plot the distribution, the term power tail is also applied to the pareto distribution. In HR, it could be that 80% of\n",
    "#your revenue comes from 20% of sales-people. \n",
    "count, bins, _ = plt.hist(s, 100, density=True)\n",
    "fit = a**m**a / bins**(a+1)\n",
    "plt.plot(bins, max(count)*fit/max(fit), linewidth=2, color='r')\n",
    "plt.ylabel('Lets say revenue', fontsize=12)\n",
    "plt.xlabel('Staff', fontsize=12)\n",
    "plt.show()\n",
    "\n"
   ]
  },
  {
   "cell_type": "code",
   "execution_count": 268,
   "metadata": {},
   "outputs": [
    {
     "data": {
      "text/plain": [
       "3.978461031691899"
      ]
     },
     "execution_count": 268,
     "metadata": {},
     "output_type": "execute_result"
    }
   ],
   "source": [
    "#State the mean\n",
    "np.mean(s)"
   ]
  },
  {
   "cell_type": "code",
   "execution_count": 269,
   "metadata": {},
   "outputs": [
    {
     "data": {
      "text/plain": [
       "3978.4610316918993"
      ]
     },
     "execution_count": 269,
     "metadata": {},
     "output_type": "execute_result"
    }
   ],
   "source": [
    "#State the sum of values\n",
    "np.sum(s)"
   ]
  },
  {
   "cell_type": "code",
   "execution_count": 270,
   "metadata": {},
   "outputs": [
    {
     "data": {
      "text/plain": [
       "1.6686954777905785"
      ]
     },
     "execution_count": 270,
     "metadata": {},
     "output_type": "execute_result"
    }
   ],
   "source": [
    "#State the standard deviation\n",
    "np.std(s)"
   ]
  },
  {
   "cell_type": "markdown",
   "metadata": {},
   "source": [
    "### Section 4 Explain the use of seeds in generating pseudorandom numbers\n",
    "________________"
   ]
  },
  {
   "cell_type": "markdown",
   "metadata": {},
   "source": [
    "As already stated the numpy.random package uses the Mersenne Twister algorithm to generate numbers. All computers operate according to certain restrictions and architectural constraints and so the term *pseudo-random* is more apt for describe the values generated by the numpy.random package.\n",
    "\n",
    "While the value of having random vaules generated is important, we must be able to reproduce the same set of values repeatedly. Numpy provides for this facilty by giving us the ```np.random.seed()``` function.\n",
    "\n",
    "The value of the seed number denotes the position in the calulation of pi that serves as the seed value. \n",
    "\n",
    "The term pseudo random refers to the concept that while the output is random by setting the seed we ensure predictable repeatable results."
   ]
  },
  {
   "cell_type": "code",
   "execution_count": 276,
   "metadata": {},
   "outputs": [
    {
     "data": {
      "text/plain": [
       "array([0.51082761, 0.89294695, 0.89629309])"
      ]
     },
     "execution_count": 276,
     "metadata": {},
     "output_type": "execute_result"
    }
   ],
   "source": [
    "#Call the np.random.seed() function and then the np.random.random function to demonstrate that \n",
    "#will result in the same output as the random process called.\n",
    "np.random.random(3)"
   ]
  },
  {
   "cell_type": "code",
   "execution_count": 277,
   "metadata": {},
   "outputs": [
    {
     "data": {
      "text/plain": [
       "array([0.12558531, 0.20724288, 0.0514672 ])"
      ]
     },
     "execution_count": 277,
     "metadata": {},
     "output_type": "execute_result"
    }
   ],
   "source": [
    "#The two arrays contain (except for an amazing conincidence) different values.\n",
    "np.random.random(3)"
   ]
  },
  {
   "cell_type": "code",
   "execution_count": 280,
   "metadata": {},
   "outputs": [
    {
     "data": {
      "text/plain": [
       "array([0.45805495, 0.30834961, 0.23148705])"
      ]
     },
     "execution_count": 280,
     "metadata": {},
     "output_type": "execute_result"
    }
   ],
   "source": [
    "#Now we will set the seed and re-run and then again to verify\n",
    "np.random.seed(35)\n",
    "np.random.random(3)\n"
   ]
  },
  {
   "cell_type": "code",
   "execution_count": 281,
   "metadata": {},
   "outputs": [
    {
     "data": {
      "text/plain": [
       "array([0.45805495, 0.30834961, 0.23148705])"
      ]
     },
     "execution_count": 281,
     "metadata": {},
     "output_type": "execute_result"
    }
   ],
   "source": [
    "np.random.seed(35)\n",
    "np.random.random(3)"
   ]
  },
  {
   "cell_type": "markdown",
   "metadata": {},
   "source": [
    "# References\n",
    "\n",
    "Albon, C,. __Machine Learning with Python Cookbook__\n",
    "\n",
    "Hastie, T. Tibshirani, R. Friedman,J . __The Elements of Statistical Learning:Data Mining, Inference, and Prediction__\n",
    "\n",
    "Grus, J.,__Data Science From Scratch, First Principles with Python__\n",
    "\n",
    "Kinney, W., __Python for Data Analysis__\n",
    "\n",
    "James, J.,  Witten, D., Hastie, T., Tibshirani R., __An Introduction to Statistical Learning__\n",
    "\n",
    "Dell EMC Education Services, __Data Science and Big Data Analytics: Discovering, Analyzing, Visualizing and Presenting Data__\n",
    "\n",
    "\n",
    "\n",
    "\n",
    "\n",
    "## Websites\n",
    "\n",
    "https://towardsdatascience.com/probability-distributions-in-data-science-cce6e64873a7\n",
    "\n",
    "https://docs.scipy.org/doc/numpy-1.15.0/reference/routines.random.html\n",
    "\n",
    "https://docs.scipy.org/doc/numpy-1.15.1/reference/generated/numpy.random.standard_t.html?highlight=student \n",
    "\n",
    "https://bids.berkeley.edu/news/simple-random-sampling-not-so-simple\n",
    "\n",
    "https://github.com/susanli2016\n",
    "\n",
    "https://github.com/chrisalbon\n",
    "\n",
    "\n",
    "\n",
    "\n"
   ]
  },
  {
   "cell_type": "markdown",
   "metadata": {},
   "source": [
    "# END"
   ]
  },
  {
   "cell_type": "code",
   "execution_count": null,
   "metadata": {},
   "outputs": [],
   "source": []
  }
 ],
 "metadata": {
  "kernelspec": {
   "display_name": "Python 3",
   "language": "python",
   "name": "python3"
  },
  "language_info": {
   "codemirror_mode": {
    "name": "ipython",
    "version": 3
   },
   "file_extension": ".py",
   "mimetype": "text/x-python",
   "name": "python",
   "nbconvert_exporter": "python",
   "pygments_lexer": "ipython3",
   "version": "3.7.1"
  }
 },
 "nbformat": 4,
 "nbformat_minor": 2
}
