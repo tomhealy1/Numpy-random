{
 "cells": [
  {
   "cell_type": "markdown",
   "metadata": {},
   "source": [
    "# The numpy-random Package"
   ]
  },
  {
   "cell_type": "markdown",
   "metadata": {},
   "source": [
    "The purpose of this assignment is to explore and investigate the numpy.random package and its use in Python Data Analysis. The assignment is broken down into 4 separate tasks in the notebook. They are:\n",
    "\n",
    "* Explain the overall purpose of the package\n",
    "* Explain the use of the \"Simple random data\" and \"Permutations\" functions\n",
    "* Explain the use and purpose of at least five \" Distributions\" functions\n",
    "* Explain the use of seeds in generatinf pseudorandom numbers"
   ]
  },
  {
   "cell_type": "markdown",
   "metadata": {},
   "source": [
    "### Section 1 Explain the overall purpose of the package"
   ]
  },
  {
   "cell_type": "markdown",
   "metadata": {},
   "source": [
    "**Numpy** is a library for conducting numerical computing in Python. Numpy is a portmanteau formed from **Num**-eric and **py**-thon. The library contains numerous features that are of great utility in data analysis/science. Examples of these are:\n",
    "\n",
    "* Data structures\n",
    "* Algorithms\n",
    "* Ability to carry out task such as indexing, slicing and iterating \n",
    "\n",
    "Numpy and pandas are the two most important packages we interact with when working with datasets.\n",
    "\n",
    "The numpy.random module allows us to generate many quantities(a few integers to massive amounts of random items) and types such as floats, integers and even strings.\n",
    "\n",
    "We can use the generated objects to validate ML models, \n",
    "\n"
   ]
  },
  {
   "cell_type": "markdown",
   "metadata": {},
   "source": [
    "### Section 2 Explain the use of the \"Simple random data\" and \"Permutations\" functions"
   ]
  },
  {
   "cell_type": "markdown",
   "metadata": {},
   "source": [
    "We start numpy by importing it as np. We will generate some simple random data. We will explore random arrays, calling different random functions and the different items that can be contained within an arrray in the random package. The random package is called by using ```np.random.rand()``` command"
   ]
  },
  {
   "cell_type": "code",
   "execution_count": 15,
   "metadata": {},
   "outputs": [
    {
     "data": {
      "text/plain": [
       "array([0.07852397, 0.68408153, 0.63839786, 0.49912646])"
      ]
     },
     "execution_count": 15,
     "metadata": {},
     "output_type": "execute_result"
    }
   ],
   "source": [
    "import numpy as np\n",
    "np.random.rand(4)"
   ]
  },
  {
   "cell_type": "code",
   "execution_count": 20,
   "metadata": {},
   "outputs": [
    {
     "data": {
      "text/plain": [
       "array([[0.0515464 , 0.85481067, 0.91528064, 0.86311129],\n",
       "       [0.3313748 , 0.89200419, 0.34739065, 0.27564913],\n",
       "       [0.99183479, 0.54923049, 0.55215905, 0.94536101],\n",
       "       [0.52477843, 0.02299857, 0.76492848, 0.4858573 ]])"
      ]
     },
     "execution_count": 20,
     "metadata": {},
     "output_type": "execute_result"
    }
   ],
   "source": [
    "#We can shape the data in the random array also, here it will  return a 4 x4 array\n",
    "\n",
    "x = np.random.rand(4,4)\n",
    "x"
   ]
  },
  {
   "cell_type": "code",
   "execution_count": 21,
   "metadata": {},
   "outputs": [
    {
     "data": {
      "text/plain": [
       "array([[0.51546395, 8.54810669, 9.15280644, 8.63111285],\n",
       "       [3.31374799, 8.92004192, 3.47390646, 2.75649129],\n",
       "       [9.91834794, 5.49230489, 5.52159047, 9.45361006],\n",
       "       [5.24778426, 0.22998568, 7.64928481, 4.85857297]])"
      ]
     },
     "execution_count": 21,
     "metadata": {},
     "output_type": "execute_result"
    }
   ],
   "source": [
    "#We can then manipulate this data:\n",
    "x * 10"
   ]
  },
  {
   "cell_type": "code",
   "execution_count": 43,
   "metadata": {},
   "outputs": [
    {
     "data": {
      "text/plain": [
       "array([11, 14,  3,  3,  2, 10])"
      ]
     },
     "execution_count": 43,
     "metadata": {},
     "output_type": "execute_result"
    }
   ],
   "source": [
    "#Let's say we want some intergers (generate 6 ints between 0 and 15 (not including 15))\n",
    "y = np.random.randint(0, 15, 6)\n",
    "y"
   ]
  },
  {
   "cell_type": "code",
   "execution_count": 44,
   "metadata": {},
   "outputs": [
    {
     "data": {
      "text/plain": [
       "array([2, 4, 2, 6])"
      ]
     },
     "execution_count": 44,
     "metadata": {},
     "output_type": "execute_result"
    }
   ],
   "source": [
    "#We can even use the random module to make a choice for us\n",
    "np.random.choice(10,4)\n",
    "\n"
   ]
  },
  {
   "cell_type": "code",
   "execution_count": 61,
   "metadata": {},
   "outputs": [
    {
     "data": {
      "text/plain": [
       "array(['Brian'], dtype='<U5')"
      ]
     },
     "execution_count": 61,
     "metadata": {},
     "output_type": "execute_result"
    }
   ],
   "source": [
    "#We can do the same for non numbers, returns a random choice with the datatype a unicode 5 character string\n",
    "gMit = ['Tom', 'Brian', 'Ian']\n",
    "np.random.choice(gMit,1)"
   ]
  },
  {
   "cell_type": "markdown",
   "metadata": {},
   "source": [
    "### Section 3 Explain the use and purpose of at least five <strong>\"Distributions\"</strong> functions"
   ]
  },
  {
   "cell_type": "markdown",
   "metadata": {},
   "source": [
    "### Section 4 Explain the use of seeds in generating pseudorandom numbers"
   ]
  },
  {
   "cell_type": "code",
   "execution_count": null,
   "metadata": {},
   "outputs": [],
   "source": []
  }
 ],
 "metadata": {
  "kernelspec": {
   "display_name": "Python 3",
   "language": "python",
   "name": "python3"
  },
  "language_info": {
   "codemirror_mode": {
    "name": "ipython",
    "version": 3
   },
   "file_extension": ".py",
   "mimetype": "text/x-python",
   "name": "python",
   "nbconvert_exporter": "python",
   "pygments_lexer": "ipython3",
   "version": "3.7.1"
  }
 },
 "nbformat": 4,
 "nbformat_minor": 2
}
