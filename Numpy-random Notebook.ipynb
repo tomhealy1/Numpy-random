{
 "cells": [
  {
   "cell_type": "markdown",
   "metadata": {},
   "source": [
    "# The numpy-random Package\n",
    "-------"
   ]
  },
  {
   "cell_type": "markdown",
   "metadata": {},
   "source": [
    "![title](images/numpya.png)"
   ]
  },
  {
   "cell_type": "markdown",
   "metadata": {},
   "source": [
    "The purpose of this assignment is to explore and investigate the numpy.random package and its use in Python Data Analysis. The assignment is broken down into 4 separate tasks in the notebook. They are:\n",
    "\n",
    "* Explain the overall purpose of the package\n",
    "* Explain the use of the \"Simple random data\" and \"Permutations\" functions\n",
    "* Explain the use and purpose of at least five \" Distributions\" functions\n",
    "* Explain the use of seeds in generating pseudorandom numbers\n"
   ]
  },
  {
   "cell_type": "markdown",
   "metadata": {},
   "source": [
    "### Section 1 Explain the overall purpose of the package\n",
    "______"
   ]
  },
  {
   "cell_type": "markdown",
   "metadata": {},
   "source": [
    "**Numpy** is a library for conducting numerical computing in Python. Numpy is a portmanteau formed from **Num**-eric and **py**-thon. The library contains numerous features that are of great utility in data analysis/science. It has replace what would have traditioanlly done in C++, FORTRAN and Matlab. It allows high performance numeric programming extension for the Python language. It provides \n",
    "\n",
    "* a powerful N-dimensional array object - such as array, these function almost like Python's list \n",
    "\n",
    "* sophisticated (broadcasting) functions\n",
    "\n",
    "* tools for integrating C/C++ and Fortran code\n",
    "\n",
    "* useful linear algebra, Fourier transform, and random number capabilities\n",
    "\n",
    "Many other computational packages use Numpy's array objects as the foundational reference or <i>lingua franca</i> for the data science ecosystem.(Kinney, W., Python for Data Analysis). When dealing with arrays in Numpy, we can declare the **<i>attributes</i>** of arrays such as size, shape, memory consumption and data type. We can carry out **<i>Indexing</i> and <i> slicing</i>** operations on the array also such as setting the value of individual array elements and getting smaller subarrays within a larger array. We also **<i>reshape<i> and <i>join</i>/ <i>split</i>** arrays.\n",
    "    \n",
    "The **numpy.random module** allows us to generate many quantities(from a few integers to massive amounts of random items) and types such as floats, integers, booleans and complex numbers. As computers and program utilizes rule to operate, in the real world achieve truly random is impossible. Numpy uses a pseudo random number generator to generate our random values. It uses the Mersenne-Twister(MT) algorithm designed by Matsumoto and Nishimura. When conducting data science/analysis, we may need to generate a large number of values so we can plug a single random value in to a plot or generate an entire dataset of values and the numpy.random sub package allows us to do this.\n",
    "\n",
    "\n",
    "\n"
   ]
  },
  {
   "cell_type": "markdown",
   "metadata": {},
   "source": [
    "### Section 2 Explain the use of the \"Simple random data\" and \"Permutations\" functions\n",
    "________"
   ]
  },
  {
   "cell_type": "markdown",
   "metadata": {},
   "source": [
    "First we will import the packages we will need for the assignment. Once Numpy is imported we will run through simple randon data genereation using the commands outlined in the Numpy documentation found at https://docs.scipy.org/doc/numpy-1.14.0/reference/routines.random.html . We will begin with the random package which is called by using ```np.random.rand()``` command. Simple random data can be thought as drawing a number of values from a group in a way that all subsets are likely. (https://bids.berkeley.edu/news/simple-random-sampling-not-so-simple)"
   ]
  },
  {
   "cell_type": "code",
   "execution_count": 1,
   "metadata": {},
   "outputs": [],
   "source": [
    "#Import the packages we will need to explain and explore the package.\n",
    "import pandas as pd\n",
    "import numpy as np\n",
    "import matplotlib.pyplot as plt\n",
    "import scipy.stats as stats\n",
    "import seaborn as sns\n",
    "%matplotlib inline\n"
   ]
  },
  {
   "cell_type": "code",
   "execution_count": 2,
   "metadata": {},
   "outputs": [
    {
     "data": {
      "text/plain": [
       "array([0.31947949, 0.06658535, 0.4736985 , 0.95812095])"
      ]
     },
     "execution_count": 2,
     "metadata": {},
     "output_type": "execute_result"
    }
   ],
   "source": [
    "#The np.random.rand returns random values in a given shape.\n",
    "#We can generate a simple array (1 dimensional array) with random numbers with 4 items by calling:\n",
    "np.random.rand(4)"
   ]
  },
  {
   "cell_type": "code",
   "execution_count": 3,
   "metadata": {},
   "outputs": [
    {
     "data": {
      "text/plain": [
       "array([[0.75943068, 0.55168228, 0.78364261, 0.01894051],\n",
       "       [0.95067483, 0.80693609, 0.89235549, 0.16022257]])"
      ]
     },
     "execution_count": 3,
     "metadata": {},
     "output_type": "execute_result"
    }
   ],
   "source": [
    "#We can then generate more complex (2 dimensional array) arrays with random numbers. Here are creating 2 x 2 shaped dataset.\n",
    "np.random.rand(2,4)"
   ]
  },
  {
   "cell_type": "code",
   "execution_count": 4,
   "metadata": {},
   "outputs": [
    {
     "data": {
      "text/plain": [
       "array([[[0.84825484, 0.57722164, 0.67688256, 0.48081496],\n",
       "        [0.95285243, 0.00276938, 0.62140629, 0.08131923],\n",
       "        [0.28796299, 0.77976554, 0.3028444 , 0.62021914],\n",
       "        [0.20942691, 0.30425292, 0.07035473, 0.85922919]],\n",
       "\n",
       "       [[0.28344589, 0.64349334, 0.80754051, 0.8677484 ],\n",
       "        [0.07972797, 0.74673209, 0.84896977, 0.62170565],\n",
       "        [0.23297701, 0.16209302, 0.50722557, 0.64613893],\n",
       "        [0.91279841, 0.26347143, 0.3115708 , 0.58825559]],\n",
       "\n",
       "       [[0.00702628, 0.22570956, 0.99719862, 0.99762592],\n",
       "        [0.94595976, 0.38768158, 0.25071302, 0.27475624],\n",
       "        [0.19234485, 0.24583608, 0.90374876, 0.77838157],\n",
       "        [0.95967241, 0.39628404, 0.53849536, 0.08271781]]])"
      ]
     },
     "execution_count": 4,
     "metadata": {},
     "output_type": "execute_result"
    }
   ],
   "source": [
    "#Here we are creating a 3 dimensional array and assigning it to x\n",
    "\n",
    "x = np.random.rand(3,4,4)\n",
    "x"
   ]
  },
  {
   "cell_type": "code",
   "execution_count": 5,
   "metadata": {},
   "outputs": [
    {
     "data": {
      "text/plain": [
       "array([[[8.48254843, 5.77221641, 6.76882562, 4.80814962],\n",
       "        [9.52852431, 0.02769382, 6.21406286, 0.81319228],\n",
       "        [2.87962986, 7.79765542, 3.02844404, 6.20219143],\n",
       "        [2.09426912, 3.04252924, 0.70354725, 8.59229186]],\n",
       "\n",
       "       [[2.83445894, 6.43493341, 8.0754051 , 8.67748399],\n",
       "        [0.79727968, 7.46732086, 8.4896977 , 6.21705645],\n",
       "        [2.32977006, 1.62093025, 5.07225573, 6.46138928],\n",
       "        [9.12798414, 2.63471427, 3.11570801, 5.88255594]],\n",
       "\n",
       "       [[0.07026279, 2.25709558, 9.9719862 , 9.97625916],\n",
       "        [9.45959759, 3.87681584, 2.50713021, 2.74756237],\n",
       "        [1.92344847, 2.45836077, 9.03748759, 7.78381572],\n",
       "        [9.59672415, 3.96284038, 5.38495357, 0.82717811]]])"
      ]
     },
     "execution_count": 5,
     "metadata": {},
     "output_type": "execute_result"
    }
   ],
   "source": [
    "#We can then manipulate this data by interacting with output by its assigned variable, in this case x:\n",
    "x * 10"
   ]
  },
  {
   "cell_type": "code",
   "execution_count": 6,
   "metadata": {},
   "outputs": [
    {
     "data": {
      "text/plain": [
       "array([[-1.58081284,  0.57271306, -0.46101227, -0.11546658],\n",
       "       [ 0.4958501 , -0.69540249,  1.73388456,  0.10919851],\n",
       "       [ 1.36792139, -2.75993254,  0.15985925, -0.23806851],\n",
       "       [-1.33084489, -2.01160259,  1.20598742, -0.82355718],\n",
       "       [ 0.88239982, -0.03558201, -0.08535958, -0.12486357],\n",
       "       [ 1.84742476,  1.41749164, -0.95580365, -0.10377097],\n",
       "       [ 1.81910148, -1.05329176, -0.91256317, -0.55649458],\n",
       "       [-1.57912824,  0.17882653,  2.25763406,  1.16630345],\n",
       "       [ 1.11979285, -0.21735665, -2.59672485, -1.32439679],\n",
       "       [ 0.60978573,  0.27321869, -0.73634526,  0.63604844],\n",
       "       [ 1.57120827, -1.09984824,  0.581877  ,  0.36419626],\n",
       "       [-0.13123028,  0.76675765,  0.6761114 ,  0.48065222],\n",
       "       [ 0.92849792,  0.03262919, -0.56553844,  0.72661557],\n",
       "       [-1.04992509,  0.34868131,  0.38536087, -0.25602717],\n",
       "       [ 1.67875173, -1.12093272,  0.71149536,  0.88725166],\n",
       "       [ 0.24315586, -0.65759459,  0.60152064, -0.24791047],\n",
       "       [-1.00831984,  2.71954734, -0.58367688, -1.66955715],\n",
       "       [ 0.67121391,  0.75991877,  1.21505365, -0.36800135],\n",
       "       [-0.77022508,  0.85260718, -2.09242452, -0.16109601],\n",
       "       [-0.11989514, -1.11411688, -0.01933054, -1.63469078]])"
      ]
     },
     "execution_count": 6,
     "metadata": {},
     "output_type": "execute_result"
    }
   ],
   "source": [
    "#np.random.randn\n",
    "#The np.random.randn function returns samples from a normal distribution(Gaussian) with mean 0 and \n",
    "#standard deviation of 1.\n",
    "np.random.randn(20,4)"
   ]
  },
  {
   "cell_type": "code",
   "execution_count": 7,
   "metadata": {},
   "outputs": [
    {
     "data": {
      "text/plain": [
       "array([ 1, 14,  0, 11, 14,  0])"
      ]
     },
     "execution_count": 7,
     "metadata": {},
     "output_type": "execute_result"
    }
   ],
   "source": [
    "#np.random.randint\n",
    "#Let's say we want some integers (generate 6 integers between 0 and 15 (not including 15)). Here we are using the\n",
    "#```randint``` or random interger function to create the integers.\n",
    "np.random.randint(0, 15, 6)\n"
   ]
  },
  {
   "cell_type": "code",
   "execution_count": 8,
   "metadata": {},
   "outputs": [],
   "source": [
    "#np.random.random_integers has been deprecated, the doc recommend using np.random.radint instead\n"
   ]
  },
  {
   "cell_type": "code",
   "execution_count": 9,
   "metadata": {},
   "outputs": [
    {
     "name": "stdout",
     "output_type": "stream",
     "text": [
      "\n",
      " Here we have a 1 Dimensional Array:\n",
      " [0.41829594 0.36633422 0.51300743 0.95222514 0.12831461]\n",
      "\n",
      " Here we have a 2 Dimensional Array:\n",
      " [[0.37764329 0.84214973]\n",
      " [0.91209565 0.5913008 ]\n",
      " [0.37625234 0.77241545]\n",
      " [0.16478361 0.34049134]\n",
      " [0.90771074 0.51647337]]\n",
      "\n",
      " Here we have a 3 Dimensional Array:\n",
      " [[[0.8171192  0.54514436 0.81017272]\n",
      "  [0.59009073 0.48795597 0.90304417]]\n",
      "\n",
      " [[0.40251688 0.76235614 0.69256525]\n",
      "  [0.17267326 0.95122826 0.1393404 ]]\n",
      "\n",
      " [[0.46063748 0.18222477 0.72366117]\n",
      "  [0.5061871  0.02664267 0.48969504]]\n",
      "\n",
      " [[0.40420795 0.38002118 0.90128476]\n",
      "  [0.65828465 0.4167459  0.90560239]]\n",
      "\n",
      " [[0.31674437 0.85588589 0.31114058]\n",
      "  [0.56018911 0.91096558 0.28244355]]]\n"
     ]
    }
   ],
   "source": [
    "#np.random.random_sample. The functions returns an array populated with floats based on the inputs in a normal distribution.\n",
    "#We can add more dimensions by manipulating the function\n",
    "\n",
    "a = np.random.random_sample(5)\n",
    "print(\"\\n\",\"Here we have a 1 Dimensional Array:\\n\",a)\n",
    "\n",
    "b = np.random.random_sample((5,2))\n",
    "print(\"\\n\",\"Here we have a 2 Dimensional Array:\\n\",b)\n",
    "c = np.random.random_sample((5,2,3))\n",
    "print(\"\\n\",\"Here we have a 3 Dimensional Array:\\n\",c)\n"
   ]
  },
  {
   "cell_type": "code",
   "execution_count": 10,
   "metadata": {},
   "outputs": [
    {
     "data": {
      "text/plain": [
       "array([0.57331043, 0.01209067, 0.81106849])"
      ]
     },
     "execution_count": 10,
     "metadata": {},
     "output_type": "execute_result"
    }
   ],
   "source": [
    "#np.random.random\n",
    "#This functions returns a array populated with float based on the inputs again in the “continuous uniform” distribution. Can be manipulated as above.\n",
    "\n",
    "np.random.random(3)"
   ]
  },
  {
   "cell_type": "code",
   "execution_count": 11,
   "metadata": {},
   "outputs": [],
   "source": [
    "#np.random.ranf\n",
    "#This functions seems to carry the same action as the function before it. Uses the “continuous uniform” distribution."
   ]
  },
  {
   "cell_type": "code",
   "execution_count": 12,
   "metadata": {},
   "outputs": [],
   "source": [
    "#np.random.sample\n",
    "#np.random.random_sample\n",
    "#np.random.ranf\n",
    "#np.random.random\n",
    "\n",
    "#These functions all seem to carry out the same action as the function before it, i.e. random sampling over the\n",
    "#“continuous uniform” distribution. Within the numpy packages there seems to be a few that are redundant as the \n",
    "#exact or real word function can be accomplished by another. "
   ]
  },
  {
   "cell_type": "code",
   "execution_count": 13,
   "metadata": {},
   "outputs": [
    {
     "data": {
      "text/plain": [
       "array([5, 1, 8, 2])"
      ]
     },
     "execution_count": 13,
     "metadata": {},
     "output_type": "execute_result"
    }
   ],
   "source": [
    "#np.random.choice\n",
    "#We can use the random module to make a choice for us, here it will give us an output of 4 number between 0 and 10.\n",
    "np.random.choice(10,4)"
   ]
  },
  {
   "cell_type": "code",
   "execution_count": 14,
   "metadata": {},
   "outputs": [
    {
     "name": "stdout",
     "output_type": "stream",
     "text": [
      "3\n"
     ]
    }
   ],
   "source": [
    "#np.random.choice\n",
    "#The np.random.choice function returns a random sample from an array (1D array)\n",
    "tom = [1,2,3,4,5]\n",
    "print(np.random.choice(tom))"
   ]
  },
  {
   "cell_type": "code",
   "execution_count": 15,
   "metadata": {},
   "outputs": [
    {
     "data": {
      "text/plain": [
       "array(['Brian'], dtype='<U5')"
      ]
     },
     "execution_count": 15,
     "metadata": {},
     "output_type": "execute_result"
    }
   ],
   "source": [
    "#We can do the same for non numbers, returns a random choice with the datatype a unicode 5 character string. This could used\n",
    "#for selected a categoy or label at random.\n",
    "gMit = ['Tom', 'Brian', 'Ian']\n",
    "np.random.choice(gMit,1)"
   ]
  },
  {
   "cell_type": "code",
   "execution_count": 16,
   "metadata": {},
   "outputs": [
    {
     "data": {
      "text/plain": [
       "b'\\xc4\\xf3'"
      ]
     },
     "execution_count": 16,
     "metadata": {},
     "output_type": "execute_result"
    }
   ],
   "source": [
    "#We can even use the function to create the random bytes\n",
    "np.random.bytes(2)"
   ]
  },
  {
   "cell_type": "markdown",
   "metadata": {},
   "source": [
    "### Permutations\n",
    "_______\n",
    "The permutations functions deals with items that are re-ordered when calling the function. There seems to be two functions, the shuffle function and permutations function.\n",
    "\n",
    "The Permutation function ```np.random.permutation(x)``` takes an array and returns a copy of the array with the item reordered. If x is a multi-dimensional array, it is only shuffled along its first index. If x is an integer, randomly permute np.arange(x). If x is an array, make a copy and shuffle the elements randomly.\n",
    "\n",
    "The shuffle functions does the reodering in place.the shuffl function shuffles the array along the first axis of a multi-dimensional array. The order of sub-arrays is changed but their contents remains the same."
   ]
  },
  {
   "cell_type": "code",
   "execution_count": 17,
   "metadata": {},
   "outputs": [
    {
     "data": {
      "text/plain": [
       "array([8, 3, 2, 9, 6, 0, 7, 5, 1, 4])"
      ]
     },
     "execution_count": 17,
     "metadata": {},
     "output_type": "execute_result"
    }
   ],
   "source": [
    "#Permutation\n",
    "np.random.permutation(10)"
   ]
  },
  {
   "cell_type": "code",
   "execution_count": 18,
   "metadata": {},
   "outputs": [
    {
     "data": {
      "text/plain": [
       "array([25,  5, 19,  3, 10])"
      ]
     },
     "execution_count": 18,
     "metadata": {},
     "output_type": "execute_result"
    }
   ],
   "source": [
    "np.random.permutation([3, 5, 10, 19, 25])"
   ]
  },
  {
   "cell_type": "code",
   "execution_count": 19,
   "metadata": {},
   "outputs": [
    {
     "data": {
      "text/plain": [
       "array([[ 8,  9, 10, 11],\n",
       "       [ 4,  5,  6,  7],\n",
       "       [ 0,  1,  2,  3]])"
      ]
     },
     "execution_count": 19,
     "metadata": {},
     "output_type": "execute_result"
    }
   ],
   "source": [
    "arr = np.arange(12).reshape((3, 4))\n",
    "np.random.permutation(arr)"
   ]
  },
  {
   "cell_type": "code",
   "execution_count": 20,
   "metadata": {},
   "outputs": [
    {
     "data": {
      "text/plain": [
       "array([    5,     6,   200,     3,     3,     2,     6,  1000, 10000,\n",
       "           4,     7,     7,     4,     3])"
      ]
     },
     "execution_count": 20,
     "metadata": {},
     "output_type": "execute_result"
    }
   ],
   "source": [
    "#Shuffling of 1d array\n",
    "x = np.array([3,4,6,6,3,3,4,7,7,5,200,1000,2,10000])\n",
    "np.random.shuffle(x)\n",
    "x"
   ]
  },
  {
   "cell_type": "markdown",
   "metadata": {},
   "source": [
    "### Section 3 Explain the use and purpose of at least five <strong>\"Distributions\"</strong> functions\n",
    "_______"
   ]
  },
  {
   "cell_type": "markdown",
   "metadata": {},
   "source": [
    "Having conducted research on the most common distributions used in data science, I decided to select 8 distributions. What a distribution tells us is the spread of data over a given interval. With categorical data we can tell how frequently data falls into a certain group. With numerical data, we can see the variation and spread of the values. The 8 distributions I have selected are:\n",
    "\n",
    "\n",
    "* Bernoulli         ---  ```df = bernoulli.rvs(size=1000,p=0.5)```\n",
    "* Uniform           - ```df = np.random.uniform(low=0.0, high=1.0, size=None)```\n",
    "* Normal(Gaussian)  - ```df = np.random.normal(loc=0.0, scale=1.0, size=None)```\n",
    "* Student-t         - ```s = np.random.standard_t(10, size=100000)```\n",
    "* Binomial          - ```np.random.binomial(n, p, size=None)``` where n = number of trials and p = probability\n",
    "* Poisson           -```np.random.poisson(lam=1.0, size=None)```\n",
    "* Exponential       -```np.random.pareto(a, size=None)```\n",
    "* Pareto            -```np.random.pareto(a, size=None)```"
   ]
  },
  {
   "cell_type": "markdown",
   "metadata": {},
   "source": [
    "### Bernoulli Distribution\n",
    "\n",
    "While not a specific distribution called from the random package ( it seems related to the geometric distribution), I think the distribution should be here as sometimes\n",
    "we will be dealing with observations that only have two outcomes, i.e. heads or tails, pass or fail or in the case of\n",
    "HR (my principal area of of interest) if someone will leave or stay. The probability density function is:\n",
    "\n",
    "![title](images/bernoulli.png)"
   ]
  },
  {
   "cell_type": "code",
   "execution_count": 21,
   "metadata": {},
   "outputs": [
    {
     "name": "stderr",
     "output_type": "stream",
     "text": [
      "C:\\Users\\Teamwork\\Anaconda3\\lib\\site-packages\\scipy\\stats\\stats.py:1713: FutureWarning: Using a non-tuple sequence for multidimensional indexing is deprecated; use `arr[tuple(seq)]` instead of `arr[seq]`. In the future this will be interpreted as an array index, `arr[np.array(seq)]`, which will result either in an error or a different result.\n",
      "  return np.add.reduce(sorted[indexer] * weights, axis=axis) / sumval\n"
     ]
    },
    {
     "data": {
      "text/plain": [
       "[Text(0, 0.5, 'Frequency'),\n",
       " Text(0.5, 0, 'Bernoulli - Only two possible outcomes such as heads or tails')]"
      ]
     },
     "execution_count": 21,
     "metadata": {},
     "output_type": "execute_result"
    },
    {
     "data": {
      "image/png": "[encoded data removed]",
      "text/plain": [
       "<Figure size 432x288 with 1 Axes>"
      ]
     },
     "metadata": {
      "needs_background": "light"
     },
     "output_type": "display_data"
    }
   ],
   "source": [
    "#Here we are using the distribution applied to coin tosses. Calling ```df = bernoulli.rvs(size=1000,p=0.5)``` where \n",
    "#the size is the number of observations or experienents and p is the bias, i.e. so here we have an unbiased coin.\n",
    "from scipy.stats import bernoulli\n",
    "df = bernoulli.rvs(size=1000,p=0.5)\n",
    "ax = sns.distplot(df,\n",
    "                  kde=True,\n",
    "                  color='black',\n",
    "                  hist_kws={\"linewidth\": 15,'alpha':0.1})\n",
    "ax.set(xlabel='Bernoulli - Only two possible outcomes such as heads or tails', ylabel='Frequency')"
   ]
  },
  {
   "cell_type": "markdown",
   "metadata": {},
   "source": [
    "### Uniform Distribution\n",
    "Continuing our tour on distributions for dummies, we will graduate from coin tosses to rolls of the dice. In the Bernoulli distribution we only have two outcomes possible, in the uniform distirbution we have a possibly unlimited number of outcomes (in our case 8) because we are using a 8 sided dice .\n",
    "\n",
    "\n",
    "\n",
    "The probability density function of the uniform distribution is\n",
    "\n",
    "![title](images/uniform.png)\n",
    "\n",
    "                                          \n",
    "\n",
    "anywhere within the interval [a, b), and zero elsewhere.\n",
    "\n",
    "When high == low, values of low will be returned. If high < low, the results are officially undefined and may eventually raise an error, i.e. do not rely on this function to behave when passed arguments satisfying that inequality condition. Taken from <emp>https://docs.scipy.org/doc/numpy-1.15.1/reference/generated/numpy.random.uniform.html#numpy.random.uniform</emp>"
   ]
  },
  {
   "cell_type": "code",
   "execution_count": 22,
   "metadata": {},
   "outputs": [],
   "source": [
    "#Let's draw some examples from a uniform distribution and plot them.\n",
    "t = np.random.uniform(-1,0,1000)"
   ]
  },
  {
   "cell_type": "code",
   "execution_count": 23,
   "metadata": {},
   "outputs": [
    {
     "data": {
      "text/plain": [
       "True"
      ]
     },
     "execution_count": 23,
     "metadata": {},
     "output_type": "execute_result"
    }
   ],
   "source": [
    "#This is a test to check all values are within our range\n",
    "np.all(t>=-1)"
   ]
  },
  {
   "cell_type": "code",
   "execution_count": 24,
   "metadata": {},
   "outputs": [
    {
     "data": {
      "text/plain": [
       "True"
      ]
     },
     "execution_count": 24,
     "metadata": {},
     "output_type": "execute_result"
    }
   ],
   "source": [
    "np.all(t < 0 )"
   ]
  },
  {
   "cell_type": "code",
   "execution_count": 25,
   "metadata": {},
   "outputs": [
    {
     "data": {
      "image/png": "[encoded data removed]",
      "text/plain": [
       "<Figure size 432x288 with 1 Axes>"
      ]
     },
     "metadata": {
      "needs_background": "light"
     },
     "output_type": "display_data"
    }
   ],
   "source": [
    "count, bins, ignored = plt.hist(t, 15, density=True)\n",
    "plt.plot(bins, np.ones_like(bins), linewidth=4, color='g')\n",
    "plt.show()"
   ]
  },
  {
   "cell_type": "markdown",
   "metadata": {},
   "source": [
    "Below we show the Uniform distribution applied to the outcome of a 8 sided dice being tossed."
   ]
  },
  {
   "cell_type": "code",
   "execution_count": 26,
   "metadata": {},
   "outputs": [
    {
     "data": {
      "text/plain": [
       "(0, 1)"
      ]
     },
     "execution_count": 26,
     "metadata": {},
     "output_type": "execute_result"
    },
    {
     "data": {
      "image/png": "[encoded data removed]",
      "text/plain": [
       "<Figure size 432x288 with 1 Axes>"
      ]
     },
     "metadata": {
      "needs_background": "light"
     },
     "output_type": "display_data"
    }
   ],
   "source": [
    "prob = np.full((8), 1/8)\n",
    "face = [1,2,3,4,5,6,7,8]\n",
    "plt.bar(face, prob)\n",
    "plt.ylabel('Probability', fontsize=24)\n",
    "plt.xlabel('8 sided Dice Roll Outcome', fontsize=24)\n",
    "plt.title('Fair 8 sided Dice Uniform Distribution', fontsize=24)\n",
    "axes = plt.gca()\n",
    "axes.set_ylim([0,1])"
   ]
  },
  {
   "cell_type": "markdown",
   "metadata": {},
   "source": [
    "### Normal Distribution\n",
    "\n",
    "The normal distribution is the classic bell shaped curve, it is also known as the gaussian distribution. It is the most well known distribution and has been used to describe the distribution of incomes in an economy, weight in poulations, perfromance review scores. \n",
    "\n",
    "The normal distribution has a few fundamental characteristics. We can recognise a normal distribution due to its shape. The curve is <strong>symmetrical</strong>, the mode, median and mean are all the same value, clustering the values symetrically around the mean.\n",
    "\n",
    "It is also <strong>unimodal</strong>, it is highest in the middle and curves downwards. \n",
    "\n",
    "It is also decribed as <strong>asymptoptic</strong> , meaning the upper and lower tails of the distribution never meets the \n",
    "baseline/x-axis.\n",
    "\n",
    "The central limit theorem says (approximately) that a random variable definied as the average of a large number of independant and identically distributed random variables is itself normally distributed. The probability density function is:\n",
    "\n",
    "![title](images/normal.png)\n",
    "\n",
    "If we know the values of the mean and the standard deviation in a normally distributed popultion we can predict the probability of exact values by looking at the distribution. If we look at below, we can see that 99.7% of values fall with 3 standard deviations of the mean, 95% ish fall with 2 standard deviations and 68% fall with one standard deviation."
   ]
  },
  {
   "cell_type": "markdown",
   "metadata": {},
   "source": [
    "![title](images/bell-shaped.png)"
   ]
  },
  {
   "cell_type": "code",
   "execution_count": 27,
   "metadata": {},
   "outputs": [
    {
     "data": {
      "image/png": "[encoded data removed]",
      "text/plain": [
       "<Figure size 432x288 with 1 Axes>"
      ]
     },
     "metadata": {
      "needs_background": "light"
     },
     "output_type": "display_data"
    }
   ],
   "source": [
    "mu, sigma = 0, 0.1 # mean and standard deviation\n",
    "s = np.random.normal(mu, sigma, 1000)\n",
    "count, bins, ignored = plt.hist(s, 30, density=True)\n",
    "plt.plot(bins, 1/(sigma * np.sqrt(2 * np.pi)) *\n",
    "               np.exp( - (bins - mu)**2 / (2 * sigma**2) ),\n",
    "         linewidth=2, color='black')\n",
    "plt.show()"
   ]
  },
  {
   "cell_type": "code",
   "execution_count": 28,
   "metadata": {},
   "outputs": [
    {
     "data": {
      "text/plain": [
       "Text(0.5, 1.0, 'Normal Distribution')"
      ]
     },
     "execution_count": 28,
     "metadata": {},
     "output_type": "execute_result"
    },
    {
     "data": {
      "image/png": "[encoded data removed]",
      "text/plain": [
       "<Figure size 432x288 with 1 Axes>"
      ]
     },
     "metadata": {
      "needs_background": "light"
     },
     "output_type": "display_data"
    }
   ],
   "source": [
    "#Here we have the more traditional plot of the bell shaped curve.\n",
    "n = np.arange(-1000, 1000)\n",
    "mean = 0\n",
    "normal = stats.norm.pdf(n, mean, 300)\n",
    "plt.plot(n, normal)\n",
    "plt.xlabel('Distribution', fontsize=12)\n",
    "plt.ylabel('Probability', fontsize=12)\n",
    "plt.title(\"Normal Distribution\")"
   ]
  },
  {
   "cell_type": "markdown",
   "metadata": {},
   "source": [
    "### Student-t Distribution"
   ]
  },
  {
   "cell_type": "markdown",
   "metadata": {},
   "source": [
    "The student-t distribution can be any of many probability distributions that arise from estimating the mean of a normally/gaussian distributed population in scenarios where the sample size (degree of freedom refers to the number of independant obvs in a data set)is low and the population's standard deviation (how spread out the values are) is unknown. The probability density finction is:\n",
    "\n",
    "![title](images/student_t.png)\n",
    "\n"
   ]
  },
  {
   "cell_type": "markdown",
   "metadata": {},
   "source": [
    "Below we are showing the example used at https://docs.scipy.org/doc/numpy-1.15.1/reference/generated/numpy.random.standard_t.html?highlight=student . This example is showing how much does the energy intake for 11 women diviate from 95% of the recommeded calorific intake."
   ]
  },
  {
   "cell_type": "code",
   "execution_count": 29,
   "metadata": {},
   "outputs": [],
   "source": [
    "intake = np.array([5260., 5470, 5640, 6180, 6390, 6515, 6805, 7515, \\\n",
    "                   7515, 8230, 8770])"
   ]
  },
  {
   "cell_type": "code",
   "execution_count": 30,
   "metadata": {},
   "outputs": [
    {
     "data": {
      "text/plain": [
       "1142.1232221373727"
      ]
     },
     "execution_count": 30,
     "metadata": {},
     "output_type": "execute_result"
    }
   ],
   "source": [
    "s = np.random.standard_t(10, size=100000)\n",
    "np.mean(intake)\n",
    "\n",
    "intake.std(ddof=1)"
   ]
  },
  {
   "cell_type": "code",
   "execution_count": 31,
   "metadata": {},
   "outputs": [
    {
     "data": {
      "image/png": "[encoded data removed]",
      "text/plain": [
       "<Figure size 432x288 with 1 Axes>"
      ]
     },
     "metadata": {
      "needs_background": "light"
     },
     "output_type": "display_data"
    }
   ],
   "source": [
    "t = (np.mean(intake)-7725)/(intake.std(ddof=1)/np.sqrt(len(intake)))\n",
    "import matplotlib.pyplot as plt\n",
    "h = plt.hist(s, bins=100, density=True)"
   ]
  },
  {
   "cell_type": "code",
   "execution_count": 32,
   "metadata": {},
   "outputs": [
    {
     "data": {
      "text/plain": [
       "0.0087"
      ]
     },
     "execution_count": 32,
     "metadata": {},
     "output_type": "execute_result"
    }
   ],
   "source": [
    "#p value is equal to .009\n",
    "np.sum(s<t) / float(len(s))"
   ]
  },
  {
   "cell_type": "markdown",
   "metadata": {},
   "source": [
    "### Binomial Distribution\n",
    "The binomial distribution shows the distribution of possible outcomes for two outcomes in a series of experiments. Taking our coin toss as an example let's say we want to understand what is the outcome for a number of events say how many time heads will show up in 1000 experiement where we flip the coin 20 times. The chances of a heads or tails is even. The binomial distribution assumes that each trial or event is independant of each other and there can only be two outcomes. The probability density function is :\n",
    "\n",
    "![title](images/binomial.png)\n"
   ]
  },
  {
   "cell_type": "code",
   "execution_count": 33,
   "metadata": {},
   "outputs": [
    {
     "data": {
      "text/plain": [
       "[Text(0, 0.5, 'Frequency'), Text(0.5, 0, 'Binomial distribtuion')]"
      ]
     },
     "execution_count": 33,
     "metadata": {},
     "output_type": "execute_result"
    },
    {
     "data": {
      "image/png": "[encoded data removed]",
      "text/plain": [
       "<Figure size 432x288 with 1 Axes>"
      ]
     },
     "metadata": {
      "needs_background": "light"
     },
     "output_type": "display_data"
    }
   ],
   "source": [
    "#Here we are generating one thousand data points in which flip the coin twenty times with an unbiased coin. \n",
    "df1 = stats.binom.rvs(n=20,p=0.5,loc=0,size=1000)\n",
    "ax = sns.distplot(df1,\n",
    "                  kde=True,\n",
    "                  color='green',\n",
    "                  hist_kws={\"linewidth\": 30,'alpha':0.2})\n",
    "ax.set(xlabel='Binomial distribtuion', ylabel='Frequency')\n",
    "\n"
   ]
  },
  {
   "cell_type": "code",
   "execution_count": 34,
   "metadata": {},
   "outputs": [
    {
     "data": {
      "text/plain": [
       "0.6230468749999999"
      ]
     },
     "execution_count": 34,
     "metadata": {},
     "output_type": "execute_result"
    }
   ],
   "source": [
    "#Thought this was a nice bit of code (cdf = culmulative distribution function) that complements the distribution. \n",
    "#Here we are seeing what is the probability of seeing 5(k) heads in 10(n) trials and using an unbiased coin (p=.5).\n",
    "stats.binom.cdf(k=5,        \n",
    "                n=10,       \n",
    "                p=0.5)"
   ]
  },
  {
   "cell_type": "markdown",
   "metadata": {},
   "source": [
    "### Poisson \n",
    "The poisson is a useful distribution for understanding the occurence of event when we dont know how often it occurs. Good examples for poisson distributions are mechanical fault on an assembly line or call centre activity. \n",
    "\n",
    "The below image shows the formula for deriving the Poisson distribution.\n",
    "\n",
    "λ is the greek letter L and here it refers to the average rate of an event happening. "
   ]
  },
  {
   "cell_type": "markdown",
   "metadata": {},
   "source": [
    "![title](images/poisson.png)"
   ]
  },
  {
   "cell_type": "code",
   "execution_count": 35,
   "metadata": {},
   "outputs": [],
   "source": [
    "s = np.random.poisson(5, 100000)"
   ]
  },
  {
   "cell_type": "code",
   "execution_count": 36,
   "metadata": {},
   "outputs": [
    {
     "data": {
      "image/png": "[encoded data removed]",
      "text/plain": [
       "<Figure size 432x288 with 1 Axes>"
      ]
     },
     "metadata": {
      "needs_background": "light"
     },
     "output_type": "display_data"
    }
   ],
   "source": [
    "counts, bins, ignored = plt.hist(s, 14, density=True)\n",
    "plt.show()"
   ]
  },
  {
   "cell_type": "code",
   "execution_count": 37,
   "metadata": {},
   "outputs": [
    {
     "data": {
      "text/plain": [
       "array([[ 94, 544],\n",
       "       [ 98, 517],\n",
       "       [119, 495],\n",
       "       [116, 509],\n",
       "       [ 92, 518],\n",
       "       [111, 514],\n",
       "       [101, 519],\n",
       "       [122, 524],\n",
       "       [ 89, 499],\n",
       "       [114, 495],\n",
       "       [112, 523],\n",
       "       [110, 504],\n",
       "       [ 89, 496],\n",
       "       [101, 500],\n",
       "       [ 90, 454],\n",
       "       [123, 474],\n",
       "       [ 99, 515],\n",
       "       [111, 489],\n",
       "       [105, 485],\n",
       "       [ 82, 519],\n",
       "       [ 98, 490],\n",
       "       [ 85, 501],\n",
       "       [ 97, 518],\n",
       "       [119, 501],\n",
       "       [ 78, 508],\n",
       "       [ 85, 493],\n",
       "       [ 92, 504],\n",
       "       [122, 503],\n",
       "       [109, 462],\n",
       "       [106, 471],\n",
       "       [ 77, 460],\n",
       "       [100, 506],\n",
       "       [ 97, 517],\n",
       "       [105, 493],\n",
       "       [104, 460],\n",
       "       [101, 472],\n",
       "       [119, 477],\n",
       "       [100, 476],\n",
       "       [ 87, 488],\n",
       "       [ 98, 467],\n",
       "       [ 97, 506],\n",
       "       [ 84, 497],\n",
       "       [ 92, 516],\n",
       "       [ 92, 511],\n",
       "       [ 94, 523],\n",
       "       [115, 532],\n",
       "       [ 84, 514],\n",
       "       [101, 501],\n",
       "       [ 84, 500],\n",
       "       [106, 504]])"
      ]
     },
     "execution_count": 37,
     "metadata": {},
     "output_type": "execute_result"
    }
   ],
   "source": [
    "#How to draw 50 values for lambda 100 and 500\n",
    "z = np.random.poisson(lam=(100., 500.), size=(50, 2))\n",
    "z"
   ]
  },
  {
   "cell_type": "markdown",
   "metadata": {},
   "source": [
    "### Exponential Distribution\n",
    "The exponential distribution is used to model the time taken between the occurance of different events in a poisson process i.e. events occur independantly and at a constant average rate.  Again, in HR we can use the exponential curve to model the survival curve of employees or how long someone spend on a website. (https://towardsdatascience.com/what-is-exponential-distribution-7bdd08590e2a) , The probability density function is:\n",
    "\n",
    "![title](images/expo.png)\n",
    "\n",
    "The model uses lambda λ to declare the rate between events in the same way as the poisson distribution."
   ]
  },
  {
   "cell_type": "code",
   "execution_count": 38,
   "metadata": {},
   "outputs": [
    {
     "data": {
      "text/plain": [
       "array([1.44973696, 0.19363356, 0.73421686])"
      ]
     },
     "execution_count": 38,
     "metadata": {},
     "output_type": "execute_result"
    }
   ],
   "source": [
    "np.random.exponential(1,3)"
   ]
  },
  {
   "cell_type": "code",
   "execution_count": 39,
   "metadata": {},
   "outputs": [],
   "source": [
    "#Let's say the below graphs show failure rate of a piece of equipment, we can vary the lambda value to see how the \n",
    "#equipment performs without failure. The green line with a lambda of .7 \n",
    "df = np.random.exponential(5, size=1000)"
   ]
  },
  {
   "cell_type": "code",
   "execution_count": 40,
   "metadata": {},
   "outputs": [
    {
     "name": "stdout",
     "output_type": "stream",
     "text": [
      "[4.88814325]\n"
     ]
    },
    {
     "data": {
      "image/png": "[encoded data removed]",
      "text/plain": [
       "<Figure size 432x288 with 1 Axes>"
      ]
     },
     "metadata": {
      "needs_background": "light"
     },
     "output_type": "display_data"
    }
   ],
   "source": [
    "#Taken from https://stackoverflow.com/questions/47319277/generate-random-numbers-from-exponential-\n",
    "#distribution-and-model-using-python\n",
    "import numpy as np\n",
    "import matplotlib.pyplot as plt\n",
    "from scipy.optimize import curve_fit\n",
    "\n",
    "df = np.random.exponential(5, size=1000)\n",
    "\n",
    "hist,edges = np.histogram(df,bins=\"auto\",density=True )\n",
    "\n",
    "x = edges[:-1]+np.diff(edges)/2.\n",
    "plt.scatter(x,hist)\n",
    "\n",
    "func = lambda x,beta: 1./beta*np.exp(-x/beta)\n",
    "\n",
    "popt, pcov = curve_fit(f=func, xdata=x, ydata=hist) \n",
    "\n",
    "print(popt)\n",
    "\n",
    "xx = np.linspace(0, x.max(), 101)\n",
    "plt.plot(xx, func(xx,*popt), ls=\"--\", color=\"k\", \n",
    "         label=\"fit, $beta = ${}\".format(popt))\n",
    "plt.legend()\n",
    "plt.show()"
   ]
  },
  {
   "cell_type": "code",
   "execution_count": 41,
   "metadata": {},
   "outputs": [
    {
     "data": {
      "text/plain": [
       "[Text(0, 0.5, 'Failure'), Text(0.5, 0, 'Time')]"
      ]
     },
     "execution_count": 41,
     "metadata": {},
     "output_type": "execute_result"
    },
    {
     "data": {
      "image/png": "[encoded data removed]",
      "text/plain": [
       "<Figure size 432x288 with 1 Axes>"
      ]
     },
     "metadata": {
      "needs_background": "light"
     },
     "output_type": "display_data"
    }
   ],
   "source": [
    "#Adapted from https://www.datacamp.com/community/tutorials/probability-distributions-python\n",
    "\n",
    "from scipy.stats import expon\n",
    "df = expon.rvs(scale=1,loc=0,size=1000)\n",
    "\n",
    "ax = sns.distplot(df,\n",
    "                  kde=True,\n",
    "                  bins=100,\n",
    "                  color='green',\n",
    "                  hist_kws={\"linewidth\": 20,'alpha':.5})\n",
    "ax.set(xlabel='Time', ylabel='Failure')"
   ]
  },
  {
   "cell_type": "markdown",
   "metadata": {},
   "source": [
    "### Pareto distribution"
   ]
  },
  {
   "cell_type": "markdown",
   "metadata": {},
   "source": [
    "The pareto distribution is another interesting distribution. It is sometimes called the 80/20 rule. The distribution was made popular by Valfredo Pareto, an Italian economist noticed that 80% of Italy's wealth was possessed by 20% of the population. The probability density function: \n",
    "\n",
    "![title](images/pareto.png)"
   ]
  },
  {
   "cell_type": "code",
   "execution_count": 42,
   "metadata": {},
   "outputs": [],
   "source": [
    "#We set our parameters and plot the shape.\n",
    "a, m =4., 3. # shape and mode\n",
    "s = (np.random.pareto(a, 1000) + 1) * m"
   ]
  },
  {
   "cell_type": "code",
   "execution_count": 43,
   "metadata": {},
   "outputs": [
    {
     "data": {
      "image/png": "[encoded data removed]",
      "text/plain": [
       "<Figure size 432x288 with 1 Axes>"
      ]
     },
     "metadata": {
      "needs_background": "light"
     },
     "output_type": "display_data"
    }
   ],
   "source": [
    "#Plot the distribution, the term power tail is also applied to the pareto distribution. In HR, it could be that 80% of\n",
    "#your revenue comes from 20% of sales-people. \n",
    "count, bins, _ = plt.hist(s, 100, density=True)\n",
    "fit = a**m**a / bins**(a+1)\n",
    "plt.plot(bins, max(count)*fit/max(fit), linewidth=2, color='r')\n",
    "plt.ylabel('Lets say revenue', fontsize=12)\n",
    "plt.xlabel('Staff', fontsize=12)\n",
    "plt.show()\n",
    "\n"
   ]
  },
  {
   "cell_type": "code",
   "execution_count": 44,
   "metadata": {},
   "outputs": [
    {
     "data": {
      "text/plain": [
       "4.028546145570978"
      ]
     },
     "execution_count": 44,
     "metadata": {},
     "output_type": "execute_result"
    }
   ],
   "source": [
    "np.mean(s)"
   ]
  },
  {
   "cell_type": "code",
   "execution_count": 45,
   "metadata": {},
   "outputs": [
    {
     "data": {
      "text/plain": [
       "4028.5461455709783"
      ]
     },
     "execution_count": 45,
     "metadata": {},
     "output_type": "execute_result"
    }
   ],
   "source": [
    "np.sum(s)"
   ]
  },
  {
   "cell_type": "code",
   "execution_count": 46,
   "metadata": {},
   "outputs": [
    {
     "data": {
      "text/plain": [
       "1.443448170353472"
      ]
     },
     "execution_count": 46,
     "metadata": {},
     "output_type": "execute_result"
    }
   ],
   "source": [
    "np.std(s)"
   ]
  },
  {
   "cell_type": "markdown",
   "metadata": {},
   "source": [
    "### Section 4 Explain the use of seeds in generating pseudorandom numbers\n",
    "_________"
   ]
  },
  {
   "cell_type": "markdown",
   "metadata": {},
   "source": [
    "While the value of having random vaules generated is important, we must be able to reproduce the same set of values sometimes to ensure reproducibiliity. Numpy provides for this facilty by giving us the ```np.random.seed()``` function.\n",
    "\n",
    "The value of the seed number denotes the position in the calulation of pi that serves as the seed value. \n",
    "\n",
    "The term pseudo random refers to the concept that while the output is random by setting the seed we ensure predictable repeatable results."
   ]
  },
  {
   "cell_type": "code",
   "execution_count": 47,
   "metadata": {},
   "outputs": [
    {
     "data": {
      "text/plain": [
       "array([0.5507979 , 0.70814782, 0.29090474])"
      ]
     },
     "execution_count": 47,
     "metadata": {},
     "output_type": "execute_result"
    }
   ],
   "source": [
    "# Call the np.random.seed() function and then the np.random.random function to demonstrate that \n",
    "#will result in the same outputput in athe random process called.\n",
    "np.random.seed(3)\n",
    "np.random.random(3)"
   ]
  },
  {
   "cell_type": "markdown",
   "metadata": {},
   "source": [
    "# References\n",
    "https://towardsdatascience.com/probability-distributions-in-data-science-cce6e64873a7\n",
    "\n",
    "https://docs.scipy.org/doc/numpy-1.15.0/reference/routines.random.html\n",
    "\n",
    "Kinney, W., Python for Data Analysis\n",
    "\n",
    "Grus, J.,Data Science From Scratch, First Principles with Python\n",
    "\n",
    "Albon, C,. Machine Learning with Python Cookbook\n",
    "\n",
    "Hastie, T. Tibshirani, R. Friedman,J .The Elements of Statistical Learning:Data Mining, Inference, and Prediction\n",
    "\n",
    "James, J.,  Witten, D., Hastie, T., Tibshirani R., An Introduction to Statistical Learning"
   ]
  },
  {
   "cell_type": "code",
   "execution_count": null,
   "metadata": {},
   "outputs": [],
   "source": []
  }
 ],
 "metadata": {
  "kernelspec": {
   "display_name": "Python 3",
   "language": "python",
   "name": "python3"
  },
  "language_info": {
   "codemirror_mode": {
    "name": "ipython",
    "version": 3
   },
   "file_extension": ".py",
   "mimetype": "text/x-python",
   "name": "python",
   "nbconvert_exporter": "python",
   "pygments_lexer": "ipython3",
   "version": "3.7.1"
  }
 },
 "nbformat": 4,
 "nbformat_minor": 2
}
