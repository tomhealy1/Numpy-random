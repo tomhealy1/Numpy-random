{
 "cells": [
  {
   "cell_type": "markdown",
   "metadata": {},
   "source": [
    "# The numpy-random Package"
   ]
  },
  {
   "cell_type": "markdown",
   "metadata": {},
   "source": [
    "The purpose of this assignment is to explore and investigate the numpy.random package and its use in Python Data Analysis. The assignment is broken down into 4 separate tasks in the notebook. They are:\n",
    "\n",
    "* Explain the overall purpose of the package\n",
    "* Explain the use of the \"Simple random data\" and \"Permutations\" functions\n",
    "* Explain the use and purpose of at least five \" Distributions\" functions\n",
    "* Explain the use of seeds in generatinf pseudorandom numbers"
   ]
  },
  {
   "cell_type": "markdown",
   "metadata": {},
   "source": [
    "### Section 1 Explain the overall purpose of the package"
   ]
  },
  {
   "cell_type": "markdown",
   "metadata": {},
   "source": [
    "**Numpy** is a library for conducting numerical computing in Python. Numpy is a portmanteau formed from **Num**-eric and **py**-thon. The library contains numerous features that are of great utility in data analysis/science. Examples of these are:\n",
    "\n",
    "* Data structures\n",
    "* Algorithms\n",
    "* Ability to carry out task such as indexing, slicing and iterating \n",
    "\n",
    "Numpy and pandas are the two most important packages we interact with when working with datasets.\n",
    "\n",
    "The numpy.random module allows us to generate many quantities(a few integers to massive amounts of random items) and types such as floats, integers and even strings.\n",
    "\n",
    "We can use the generated objects to validate ML models, \n",
    "\n"
   ]
  },
  {
   "cell_type": "markdown",
   "metadata": {},
   "source": [
    "### Section 2 Explain the use of the \"Simple random data\" and \"Permutations\" functions"
   ]
  },
  {
   "cell_type": "markdown",
   "metadata": {},
   "source": [
    "First we will import the packages we will need for the assignment. Once Numpy is imported we will run through simple randon data genereatio using the commanads outlined in the Numpy documentation found at https://docs.scipy.org/doc/numpy-1.14.0/reference/routines.random.html . We will begin with the random package which is called by using ```np.random.rand()``` command."
   ]
  },
  {
   "cell_type": "code",
   "execution_count": 8,
   "metadata": {},
   "outputs": [],
   "source": [
    "import numpy as np\n",
    "import matplotlib.pyplot as plt\n",
    "import seaborn as sns\n",
    "%matplotlib inline\n"
   ]
  },
  {
   "cell_type": "code",
   "execution_count": 2,
   "metadata": {},
   "outputs": [
    {
     "data": {
      "text/plain": [
       "array([0.6018813 , 0.54809677, 0.35957006, 0.76122706])"
      ]
     },
     "execution_count": 2,
     "metadata": {},
     "output_type": "execute_result"
    }
   ],
   "source": [
    "#The np.random.rand returns random values in a given shape.\n",
    "#We can generate a simple array (1 dimensional array) with random numbers with 4 items by calling:\n",
    "np.random.rand(4)"
   ]
  },
  {
   "cell_type": "code",
   "execution_count": 12,
   "metadata": {},
   "outputs": [
    {
     "data": {
      "text/plain": [
       "array([[0.74625982, 0.58523284, 0.04148982, 0.26325975],\n",
       "       [0.19968834, 0.69993143, 0.75806021, 0.7809973 ]])"
      ]
     },
     "execution_count": 12,
     "metadata": {},
     "output_type": "execute_result"
    }
   ],
   "source": [
    "#We can then generate more complex (2 dimensional array) arrays with randon numbers. Here are creating 2 x 2 shaped dataset.\n",
    "np.random.rand(2,4)"
   ]
  },
  {
   "cell_type": "code",
   "execution_count": 5,
   "metadata": {},
   "outputs": [
    {
     "data": {
      "text/plain": [
       "array([[[0.98777394, 0.95651727, 0.90835772, 0.93663804],\n",
       "        [0.82800831, 0.45307545, 0.74980798, 0.22958526],\n",
       "        [0.15878746, 0.71271697, 0.36467905, 0.22753355],\n",
       "        [0.19005653, 0.65480178, 0.19775631, 0.11149824]],\n",
       "\n",
       "       [[0.94254836, 0.06357681, 0.45164607, 0.83272901],\n",
       "        [0.14299887, 0.36195352, 0.56024593, 0.45842834],\n",
       "        [0.83740208, 0.63872563, 0.59496023, 0.08127767],\n",
       "        [0.71133212, 0.37996345, 0.56709035, 0.84986589]],\n",
       "\n",
       "       [[0.18517241, 0.47817179, 0.36307707, 0.65288753],\n",
       "        [0.45315813, 0.01323517, 0.87572253, 0.976071  ],\n",
       "        [0.90223663, 0.11846146, 0.09991249, 0.46269591],\n",
       "        [0.35297887, 0.70514015, 0.07796709, 0.56248185]]])"
      ]
     },
     "execution_count": 5,
     "metadata": {},
     "output_type": "execute_result"
    }
   ],
   "source": [
    "#Here we are creating a 3 dimensional array and assigning it to x\n",
    "\n",
    "x = np.random.rand(3,4,4)\n",
    "x"
   ]
  },
  {
   "cell_type": "code",
   "execution_count": 6,
   "metadata": {},
   "outputs": [
    {
     "data": {
      "text/plain": [
       "array([[[9.87773936, 9.56517275, 9.08357716, 9.36638036],\n",
       "        [8.28008308, 4.53075451, 7.49807981, 2.29585263],\n",
       "        [1.58787458, 7.12716968, 3.64679048, 2.27533552],\n",
       "        [1.90056532, 6.54801781, 1.97756313, 1.11498241]],\n",
       "\n",
       "       [[9.42548358, 0.6357681 , 4.51646069, 8.32729011],\n",
       "        [1.42998867, 3.61953523, 5.60245931, 4.58428343],\n",
       "        [8.37402082, 6.38725634, 5.94960225, 0.81277668],\n",
       "        [7.11332123, 3.79963453, 5.67090348, 8.49865893]],\n",
       "\n",
       "       [[1.85172406, 4.7817179 , 3.63077068, 6.52887531],\n",
       "        [4.53158129, 0.13235169, 8.75722531, 9.76070997],\n",
       "        [9.02236627, 1.18461464, 0.99912486, 4.6269591 ],\n",
       "        [3.52978871, 7.0514015 , 0.77967094, 5.62481854]]])"
      ]
     },
     "execution_count": 6,
     "metadata": {},
     "output_type": "execute_result"
    }
   ],
   "source": [
    "#We can then manipulate this data by interacting with output by its assigned variable, in this case x:\n",
    "x * 10"
   ]
  },
  {
   "cell_type": "code",
   "execution_count": 40,
   "metadata": {},
   "outputs": [
    {
     "data": {
      "text/plain": [
       "array([[ 1.70961971, -2.39281308,  0.42287222, -0.12659453],\n",
       "       [ 1.37492147,  0.87383245, -0.26480304, -1.52972688],\n",
       "       [ 1.75727468,  2.53808701,  0.02309188, -1.40095575],\n",
       "       [-0.82534643, -1.29840612, -0.43087277, -1.98327921],\n",
       "       [-0.22712297, -0.23671861,  0.10016798,  0.44989722],\n",
       "       [ 0.70639133,  0.02262252, -0.99906216, -1.48301182],\n",
       "       [ 0.70681081,  0.51406735, -1.31852635, -1.89862982],\n",
       "       [-0.34413795, -0.34659379, -1.45711097, -1.78739976],\n",
       "       [ 0.33276702,  0.54746371,  0.58683034,  0.55353929],\n",
       "       [ 1.75360148, -1.5608285 ,  1.52827216, -1.22973131],\n",
       "       [ 1.48698732, -1.22848921, -0.00997336, -1.26755956],\n",
       "       [ 2.10767154, -0.26131214, -0.09612314, -1.53559255],\n",
       "       [ 1.59203552, -0.61522405, -0.44943705, -1.59980375],\n",
       "       [ 0.11530653, -0.84702952,  0.84373151,  1.82350223],\n",
       "       [ 0.72369957,  1.81250813, -0.44865568, -1.43141007],\n",
       "       [-0.00629306, -0.19882394, -0.81673342, -0.11024975],\n",
       "       [-0.53421726, -0.96143453, -0.24571053, -0.0657054 ],\n",
       "       [ 0.35027086,  0.32181198, -0.58089363,  1.01466568],\n",
       "       [-0.84068239,  1.12681917, -0.02793159, -0.70295205],\n",
       "       [-1.40204137, -1.96847168, -0.50131765,  0.27814367]])"
      ]
     },
     "execution_count": 40,
     "metadata": {},
     "output_type": "execute_result"
    }
   ],
   "source": [
    "#np.random.randn\n",
    "#The np.random.randn function returns samples from a normal distribution(Gaussian) with mean 0 and standard deviation of 1.\n",
    "np.random.randn(20,4)\n",
    "\n",
    "\n",
    "\n"
   ]
  },
  {
   "cell_type": "code",
   "execution_count": 42,
   "metadata": {},
   "outputs": [
    {
     "data": {
      "text/plain": [
       "array([5, 5, 3, 1, 0, 8])"
      ]
     },
     "execution_count": 42,
     "metadata": {},
     "output_type": "execute_result"
    }
   ],
   "source": [
    "#np.random.randint\n",
    "#Let's say we want some integers (generate 6 integers between 0 and 15 (not including 15)). Here we are using the ```randint``` \n",
    "#or random interger function to create the ints.\n",
    "np.random.randint(0, 15, 6)\n"
   ]
  },
  {
   "cell_type": "code",
   "execution_count": 43,
   "metadata": {},
   "outputs": [],
   "source": [
    "#np.random.random_integers has been deprecated, the doc recommend using np.random.radint instead\n"
   ]
  },
  {
   "cell_type": "code",
   "execution_count": 66,
   "metadata": {},
   "outputs": [
    {
     "name": "stdout",
     "output_type": "stream",
     "text": [
      "\n",
      " Here we have a 1 Dimensional Array:\n",
      " [0.38330545 0.59188207 0.55880006 0.32121761 0.37032535]\n",
      "\n",
      " Here we have a 2 Dimensional Array:\n",
      " [[0.27500218 0.10040302]\n",
      " [0.87918239 0.18969124]\n",
      " [0.23483894 0.6580063 ]\n",
      " [0.58693647 0.61899062]\n",
      " [0.36606294 0.29103536]]\n",
      "\n",
      " Here we have a 3 Dimensional Array:\n",
      " [[[0.09597078 0.39371521 0.50008666]\n",
      "  [0.93729779 0.88936922 0.96053008]]\n",
      "\n",
      " [[0.83750996 0.31295135 0.56639192]\n",
      "  [0.96611575 0.00250144 0.37254776]]\n",
      "\n",
      " [[0.54291188 0.03352767 0.50828756]\n",
      "  [0.31582834 0.778031   0.55065141]]\n",
      "\n",
      " [[0.87156528 0.34269482 0.8300545 ]\n",
      "  [0.93247585 0.66503355 0.33393893]]\n",
      "\n",
      " [[0.04107549 0.57719381 0.45672974]\n",
      "  [0.49902236 0.97563228 0.40144818]]]\n"
     ]
    }
   ],
   "source": [
    "#np.random.random_sample. The functions returns a array populated with float based on the inputs. We can add more\n",
    "#dimensions by manipulating the function\n",
    "\n",
    "a = np.random.random_sample(5)\n",
    "print(\"\\n\",\"Here we have a 1 Dimensional Array:\\n\",a)\n",
    "\n",
    "b = np.random.random_sample((5,2))\n",
    "print(\"\\n\",\"Here we have a 2 Dimensional Array:\\n\",b)\n",
    "c = np.random.random_sample((5,2,3))\n",
    "print(\"\\n\",\"Here we have a 3 Dimensional Array:\\n\",c)\n"
   ]
  },
  {
   "cell_type": "code",
   "execution_count": 69,
   "metadata": {},
   "outputs": [
    {
     "data": {
      "text/plain": [
       "0.5674347791599001"
      ]
     },
     "execution_count": 69,
     "metadata": {},
     "output_type": "execute_result"
    }
   ],
   "source": [
    "#np.random.random\n",
    "#This functions returns a array populated with float based on the inputs. Can be manipulated as above.\n",
    "\n",
    "np.random.random()"
   ]
  },
  {
   "cell_type": "code",
   "execution_count": null,
   "metadata": {},
   "outputs": [],
   "source": [
    "#np.random.ranf\n",
    "#This functions seems to carry the same action as the function before it."
   ]
  },
  {
   "cell_type": "code",
   "execution_count": 77,
   "metadata": {},
   "outputs": [],
   "source": [
    "#np.random.sample\n",
    "#np.random.random_sample\n",
    "#np.random.ranf\n",
    "#np.random.random\n",
    "\n",
    "#These functions all seem to carry out the same action as the function before it, i.e. random sampling. Within the numpy \n",
    "#packages there seems to be a few that are redundant as the exact or real word function can be accomplished by another. "
   ]
  },
  {
   "cell_type": "code",
   "execution_count": 71,
   "metadata": {},
   "outputs": [
    {
     "data": {
      "text/plain": [
       "array([3, 3, 3, 9])"
      ]
     },
     "execution_count": 71,
     "metadata": {},
     "output_type": "execute_result"
    }
   ],
   "source": [
    "#np.random.choice\n",
    "#We can even use the random module to make a choice for us, here it will give us an output of 4 number between 0 and 10.\n",
    "np.random.choice(10,4)"
   ]
  },
  {
   "cell_type": "code",
   "execution_count": 84,
   "metadata": {},
   "outputs": [
    {
     "name": "stdout",
     "output_type": "stream",
     "text": [
      "5\n"
     ]
    }
   ],
   "source": [
    "#np.random.choice\n",
    "#The np.function.choice function returns a random sample from an array (1D array)\n",
    "tom = [1,2,3,4,5]\n",
    "print(np.random.choice(tom))"
   ]
  },
  {
   "cell_type": "code",
   "execution_count": 85,
   "metadata": {},
   "outputs": [
    {
     "data": {
      "text/plain": [
       "array(['Brian'], dtype='<U5')"
      ]
     },
     "execution_count": 85,
     "metadata": {},
     "output_type": "execute_result"
    }
   ],
   "source": [
    "#We can do the same for non numbers, returns a random choice with the datatype a unicode 5 character string\n",
    "gMit = ['Tom', 'Brian', 'Ian']\n",
    "np.random.choice(gMit,1)"
   ]
  },
  {
   "cell_type": "code",
   "execution_count": 96,
   "metadata": {},
   "outputs": [
    {
     "data": {
      "text/plain": [
       "b'\\x834'"
      ]
     },
     "execution_count": 96,
     "metadata": {},
     "output_type": "execute_result"
    }
   ],
   "source": [
    "np.random.bytes(2)"
   ]
  },
  {
   "cell_type": "markdown",
   "metadata": {},
   "source": [
    "### Permutations\n",
    "The permutations functions deals with items that are re-ordered when calling the function. There seems to be two functions, the shuffle function and permutations function.\n",
    "\n",
    "The Permutation function takes an array and returns a copy of the array with the item reordered. The shuffle functions does the reodering in place."
   ]
  },
  {
   "cell_type": "code",
   "execution_count": 98,
   "metadata": {},
   "outputs": [
    {
     "data": {
      "text/plain": [
       "array([2, 0, 4, 1, 3])"
      ]
     },
     "execution_count": 98,
     "metadata": {},
     "output_type": "execute_result"
    }
   ],
   "source": [
    "np.random.permutation(5)\n"
   ]
  },
  {
   "cell_type": "code",
   "execution_count": 97,
   "metadata": {},
   "outputs": [
    {
     "data": {
      "text/plain": [
       "array([3, 0, 2, 4, 1])"
      ]
     },
     "execution_count": 97,
     "metadata": {},
     "output_type": "execute_result"
    }
   ],
   "source": [
    "#Shuffle\n",
    "arr = np.arange(5)\n",
    "np.random.shuffle(arr)\n",
    "arr\n"
   ]
  },
  {
   "cell_type": "markdown",
   "metadata": {},
   "source": [
    "### Section 3 Explain the use and purpose of at least five <strong>\"Distributions\"</strong> functions"
   ]
  },
  {
   "cell_type": "markdown",
   "metadata": {},
   "source": [
    "### Section 4 Explain the use of seeds in generating pseudorandom numbers"
   ]
  },
  {
   "cell_type": "code",
   "execution_count": null,
   "metadata": {},
   "outputs": [],
   "source": []
  }
 ],
 "metadata": {
  "kernelspec": {
   "display_name": "Python 3",
   "language": "python",
   "name": "python3"
  },
  "language_info": {
   "codemirror_mode": {
    "name": "ipython",
    "version": 3
   },
   "file_extension": ".py",
   "mimetype": "text/x-python",
   "name": "python",
   "nbconvert_exporter": "python",
   "pygments_lexer": "ipython3",
   "version": "3.7.1"
  }
 },
 "nbformat": 4,
 "nbformat_minor": 2
}
