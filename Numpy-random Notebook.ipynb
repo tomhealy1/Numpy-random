{
 "cells": [
  {
   "cell_type": "markdown",
   "metadata": {},
   "source": [
    "# The Numpy Random Package\n",
    "-------"
   ]
  },
  {
   "cell_type": "markdown",
   "metadata": {},
   "source": [
    "![title](images/numpya.PNG)"
   ]
  },
  {
   "cell_type": "markdown",
   "metadata": {},
   "source": [
    "The purpose of this assignment is to explore and investigate the numpy.random package and its use in Python Data Analysis. The assignment is broken down into 4 separate tasks in the notebook. They are:\n",
    "\n",
    "* Explain the overall purpose of the package\n",
    "* Explain the use of the \"Simple random data\" and \"Permutations\" functions\n",
    "* Explain the use and purpose of at least five \"Distributions\" functions\n",
    "* Explain the use of seeds in generating pseudorandom numbers\n"
   ]
  },
  {
   "cell_type": "markdown",
   "metadata": {},
   "source": [
    "### Section 1 Explain the overall purpose of the package\n",
    "______"
   ]
  },
  {
   "cell_type": "markdown",
   "metadata": {},
   "source": [
    "**Numpy** is a library for conducting numerical computing in Python. Numpy is a portmanteau formed from **Num**-eric and **py**-thon. The library contains numerous features that are of great utility in data analysis/science. It has replaced what would have traditioanlly done in C++, FORTRAN and Matlab. It provides a high performance numeric programming extension for the Python language. It allows for: \n",
    "\n",
    "* a powerful N-dimensional array object - such as array, these function almost like Python's list \n",
    "\n",
    "* sophisticated (broadcasting) functions\n",
    "\n",
    "* tools for integrating C/C++ and Fortran code\n",
    "\n",
    "* useful linear algebra, Fourier transform, and random number capabilities\n",
    "\n",
    "Many other computational packages use Numpy's array objects as the foundational reference or <i>lingua franca</i> for the data science ecosystem.(Kinney, W., Python for Data Analysis). When dealing with arrays in Numpy, we can declare the **<i>attributes</i>** of arrays such as size, shape, memory consumption and data type. We can carry out **<i>Indexing</i> and <i> slicing</i>** operations on the array also such as setting the value of individual array elements and getting smaller subarrays within a larger array. We also **<i>reshape<i> and <i>join</i>/ <i>split</i>** arrays.\n",
    "    \n",
    "The **numpy.random module** allows us to generate many quantities(from a few integers or floats to massive amounts of random items) and types such as floats, integers, booleans and complex numbers. As computers and program utilizes rules to operate, in the real world achieving truly random output is impossible. Numpy uses a pseudo random number generator to generate our random values. It uses the Mersenne-Twister(MT) algorithm designed by Matsumoto and Nishimura. When conducting data science/analysis, we may need to generate a large number of values so we can plug a single random value in to a plot or generate an entire dataset of values and the numpy.random sub package allows us to do this."
   ]
  },
  {
   "cell_type": "markdown",
   "metadata": {},
   "source": [
    "### Section 2 Explain the use of the \"Simple random data\" and \"Permutations\" functions\n",
    "________"
   ]
  },
  {
   "cell_type": "markdown",
   "metadata": {},
   "source": [
    "First we will import the packages we will need for the assignment. Once Numpy is imported we will run through simple randon data genereation using the commands outlined in the Numpy documentation found at https://docs.scipy.org/doc/numpy-1.14.0/reference/routines.random.html . We will begin with the random package which is called by using ```np.random.rand()``` command. Simple random data can be thought as drawing a number of values from a group in a way that all subsets are likely. (https://bids.berkeley.edu/news/simple-random-sampling-not-so-simple)"
   ]
  },
  {
   "cell_type": "code",
   "execution_count": 64,
   "metadata": {},
   "outputs": [],
   "source": [
    "#Import the packages we will need to explain and explore the package.\n",
    "import pandas as pd\n",
    "import numpy as np\n",
    "import matplotlib.pyplot as plt\n",
    "import scipy.stats as stats\n",
    "import seaborn as sns\n",
    "from scipy.stats import norm\n",
    "#Set the background for contrast\n",
    "sns.set_style('darkgrid')\n",
    "#Displays the plots in line\n",
    "%matplotlib inline"
   ]
  },
  {
   "cell_type": "code",
   "execution_count": 65,
   "metadata": {},
   "outputs": [
    {
     "data": {
      "text/plain": [
       "array([0.9647672 , 0.94200455, 0.5193213 , 0.99722456])"
      ]
     },
     "execution_count": 65,
     "metadata": {},
     "output_type": "execute_result"
    }
   ],
   "source": [
    "#The np.random.rand returns random values in a given shape.\n",
    "#We can generate a simple array (1 dimensional array) with random numbers with 4 items by calling:\n",
    "np.random.rand(4)"
   ]
  },
  {
   "cell_type": "code",
   "execution_count": 66,
   "metadata": {},
   "outputs": [
    {
     "data": {
      "text/plain": [
       "Text(0.5, 1.0, 'Distribution of .rand numbers')"
      ]
     },
     "execution_count": 66,
     "metadata": {},
     "output_type": "execute_result"
    },
    {
     "data": {
      "image/png": "[encoded data removed]",
      "text/plain": [
       "<Figure size 432x288 with 1 Axes>"
      ]
     },
     "metadata": {
      "needs_background": "light"
     },
     "output_type": "display_data"
    }
   ],
   "source": [
    "#We can illustrate the distribution of the number using a plot:\n",
    "y = np.random.rand(300)\n",
    "sns.distplot(y, color='red')\n",
    "plt.title(\"Distribution of .rand numbers\")"
   ]
  },
  {
   "cell_type": "code",
   "execution_count": 67,
   "metadata": {},
   "outputs": [
    {
     "name": "stdout",
     "output_type": "stream",
     "text": [
      "[[0.41531531 0.48992515 0.77262172 0.98647658]\n",
      " [0.67880845 0.05869545 0.87510547 0.52786977]]\n"
     ]
    }
   ],
   "source": [
    "#We can then generate more complex (2 dimensional array) arrays with random numbers. Here are creating 2 x 2 shaped dataset.\n",
    "x = np.random.rand(2,4)\n",
    "print(x)"
   ]
  },
  {
   "cell_type": "code",
   "execution_count": 68,
   "metadata": {},
   "outputs": [
    {
     "data": {
      "text/plain": [
       "array([[[0.53769267, 0.05105471, 0.45221832, 0.7193952 ],\n",
       "        [0.97667144, 0.3946931 , 0.70257889, 0.41390989],\n",
       "        [0.83010572, 0.97933421, 0.36946701, 0.42926618],\n",
       "        [0.4712718 , 0.72130744, 0.76051123, 0.37142223]],\n",
       "\n",
       "       [[0.76147117, 0.76644919, 0.32298092, 0.95766855],\n",
       "        [0.83600675, 0.79944257, 0.42413549, 0.50803569],\n",
       "        [0.29544082, 0.5831963 , 0.0783306 , 0.59331635],\n",
       "        [0.88092025, 0.03506442, 0.31374428, 0.61364738]],\n",
       "\n",
       "       [[0.46372362, 0.83900145, 0.15599781, 0.4131722 ],\n",
       "        [0.25624093, 0.30701647, 0.36411155, 0.4055654 ],\n",
       "        [0.09822293, 0.9260947 , 0.92938179, 0.03015959],\n",
       "        [0.90160717, 0.03518279, 0.21700679, 0.83994709]]])"
      ]
     },
     "execution_count": 68,
     "metadata": {},
     "output_type": "execute_result"
    }
   ],
   "source": [
    "#Here we are creating a 3 dimensional array and assigning it to x\n",
    "x = np.random.rand(3,4,4)\n",
    "x"
   ]
  },
  {
   "cell_type": "code",
   "execution_count": 69,
   "metadata": {},
   "outputs": [
    {
     "data": {
      "text/plain": [
       "array([[[5.37692672, 0.51054709, 4.5221832 , 7.19395201],\n",
       "        [9.7667144 , 3.94693104, 7.02578891, 4.13909895],\n",
       "        [8.30105716, 9.79334207, 3.69467007, 4.29266181],\n",
       "        [4.71271803, 7.21307441, 7.60511234, 3.71422231]],\n",
       "\n",
       "       [[7.61471168, 7.6644919 , 3.22980918, 9.57668546],\n",
       "        [8.36006753, 7.99442573, 4.24135486, 5.08035694],\n",
       "        [2.95440818, 5.83196297, 0.78330605, 5.93316352],\n",
       "        [8.80920247, 0.3506442 , 3.13744277, 6.13647383]],\n",
       "\n",
       "       [[4.6372362 , 8.39001447, 1.55997808, 4.13172204],\n",
       "        [2.56240932, 3.07016471, 3.64111551, 4.05565399],\n",
       "        [0.98222935, 9.26094704, 9.2938179 , 0.30159587],\n",
       "        [9.01607169, 0.35182791, 2.17006789, 8.39947093]]])"
      ]
     },
     "execution_count": 69,
     "metadata": {},
     "output_type": "execute_result"
    }
   ],
   "source": [
    "#We can then manipulate this data by interacting with output by its assigned variable, in this case x:\n",
    "x * 10"
   ]
  },
  {
   "cell_type": "code",
   "execution_count": 70,
   "metadata": {},
   "outputs": [
    {
     "data": {
      "text/plain": [
       "array([[ 1.07255305,  0.61304164, -1.15624441, -1.1039126 ],\n",
       "       [ 0.61660592,  0.55526851,  0.86566274,  0.52531857],\n",
       "       [-0.31250977, -1.88149517, -0.3511852 , -0.30861492],\n",
       "       [-2.68171951, -2.43605108,  0.19247966, -1.22525374],\n",
       "       [ 0.65094615, -0.30207536,  0.23001827,  0.30420334],\n",
       "       [-0.81971691,  0.14702709, -0.17097484,  0.42261908],\n",
       "       [-0.08819494,  0.83994143,  0.68094279,  1.28109336],\n",
       "       [ 0.25992262, -0.39290453, -1.00570467, -0.79867271],\n",
       "       [ 0.27476853, -1.4998422 ,  0.84494924, -0.74940988],\n",
       "       [ 1.36244646, -0.58483574,  0.32470349,  1.6233335 ],\n",
       "       [-1.25878298, -0.93346636,  0.42792324, -0.69602842],\n",
       "       [-0.11685538,  0.40121063,  0.13898042, -0.32220397],\n",
       "       [ 0.03857617, -0.26829841, -1.12218167,  0.86875227],\n",
       "       [-0.64399992,  0.9011846 ,  0.26769618, -0.2785304 ],\n",
       "       [ 1.16578953,  0.29047646,  0.50510846, -0.50072275],\n",
       "       [-0.26340789,  0.04452024, -0.20281348, -0.76263983],\n",
       "       [ 1.96140038, -0.4305602 , -0.70921349,  0.2973848 ],\n",
       "       [ 0.07848277, -0.35979302,  0.69569236,  0.28479936],\n",
       "       [-0.29389764, -0.07496466, -1.51588486,  1.78991387],\n",
       "       [ 0.20381354, -0.80384868,  0.57187969, -1.15073595]])"
      ]
     },
     "execution_count": 70,
     "metadata": {},
     "output_type": "execute_result"
    }
   ],
   "source": [
    "#np.random.randn\n",
    "#The np.random.randn function returns samples from a normal distribution(Gaussian) with mean 0 and \n",
    "#standard deviation of 1.\n",
    "np.random.randn(20,4)"
   ]
  },
  {
   "cell_type": "code",
   "execution_count": 71,
   "metadata": {},
   "outputs": [
    {
     "data": {
      "text/plain": [
       "array([11,  0,  0, 13,  0, 13])"
      ]
     },
     "execution_count": 71,
     "metadata": {},
     "output_type": "execute_result"
    }
   ],
   "source": [
    "#np.random.randint\n",
    "#Let's say we want some integers (generate 6 integers between 0 and 15 (not including 15)). Here we are using the\n",
    "#```randint``` or random interger function to create the integers.\n",
    "np.random.randint(0, 15, 6)\n"
   ]
  },
  {
   "cell_type": "code",
   "execution_count": 93,
   "metadata": {},
   "outputs": [],
   "source": [
    "#np.random.random_integers has been deprecated, the doc recommend using np.random.radint instead"
   ]
  },
  {
   "cell_type": "code",
   "execution_count": 94,
   "metadata": {},
   "outputs": [
    {
     "name": "stdout",
     "output_type": "stream",
     "text": [
      "\n",
      " Here we have a 1 Dimensional Array:\n",
      " [0.24027897 0.01477913 0.93414166 0.65810441 0.3540147 ]\n",
      "\n",
      " Here we have a 2 Dimensional Array:\n",
      " [[0.69263658 0.72115422]\n",
      " [0.31681353 0.91929137]\n",
      " [0.03594499 0.3526322 ]\n",
      " [0.40168195 0.02860089]\n",
      " [0.23684482 0.18300458]]\n",
      "\n",
      " Here we have a 3 Dimensional Array:\n",
      " [[[0.23926565 0.91227774 0.03903349]\n",
      "  [0.12774681 0.87903424 0.45899672]]\n",
      "\n",
      " [[0.52233737 0.60755684 0.27483455]\n",
      "  [0.80942409 0.00550229 0.48293723]]\n",
      "\n",
      " [[0.50718625 0.1701633  0.86294379]\n",
      "  [0.3608973  0.77349514 0.22015886]]\n",
      "\n",
      " [[0.14634667 0.20331586 0.38254258]\n",
      "  [0.4277411  0.60972726 0.59369064]]\n",
      "\n",
      " [[0.86265535 0.55511318 0.07236613]\n",
      "  [0.12167447 0.23775916 0.73039171]]]\n"
     ]
    }
   ],
   "source": [
    "#np.random.random_sample. The functions returns an array populated with floats based on the inputs in a normal distribution.\n",
    "#We can add more dimensions by manipulating the function. I have added some formatting using new lines\n",
    "\n",
    "a = np.random.random_sample(5)\n",
    "print(\"\\n\",\"Here we have a 1 Dimensional Array:\\n\",a)\n",
    "\n",
    "b = np.random.random_sample((5,2))\n",
    "print(\"\\n\",\"Here we have a 2 Dimensional Array:\\n\",b)\n",
    "c = np.random.random_sample((5,2,3))\n",
    "print(\"\\n\",\"Here we have a 3 Dimensional Array:\\n\",c)\n"
   ]
  },
  {
   "cell_type": "code",
   "execution_count": 95,
   "metadata": {},
   "outputs": [
    {
     "data": {
      "text/plain": [
       "array([0.35297999, 0.77164133, 0.36249755])"
      ]
     },
     "execution_count": 95,
     "metadata": {},
     "output_type": "execute_result"
    }
   ],
   "source": [
    "#np.random.random\n",
    "#This functions returns a array populated with float based on the inputs again in the “continuous uniform” distribution. \n",
    "#can be manipulated as above.\n",
    "np.random.random(3)"
   ]
  },
  {
   "cell_type": "code",
   "execution_count": 96,
   "metadata": {},
   "outputs": [],
   "source": [
    "#np.random.ranf\n",
    "#This functions seems to carry the same action as the function before it. Uses the “continuous uniform” distribution."
   ]
  },
  {
   "cell_type": "code",
   "execution_count": 97,
   "metadata": {},
   "outputs": [],
   "source": [
    "#np.random.sample\n",
    "#np.random.random_sample\n",
    "#np.random.ranf\n",
    "#np.random.random\n",
    "\n",
    "#These functions all seem to carry out the same action as the function before it, i.e. random sampling over the\n",
    "#“continuous uniform” distribution. Within the numpy packages there seems to be a few that are redundant as the \n",
    "#exact or real word function can be accomplished by another. "
   ]
  },
  {
   "cell_type": "code",
   "execution_count": 98,
   "metadata": {},
   "outputs": [
    {
     "data": {
      "text/plain": [
       "array([6, 5, 2, 7])"
      ]
     },
     "execution_count": 98,
     "metadata": {},
     "output_type": "execute_result"
    }
   ],
   "source": [
    "#np.random.choice\n",
    "#We can use the random module to make a choice for us, here it will give us an output of 4 number between 0 and 10.\n",
    "np.random.choice(10,4)"
   ]
  },
  {
   "cell_type": "code",
   "execution_count": 99,
   "metadata": {},
   "outputs": [
    {
     "name": "stdout",
     "output_type": "stream",
     "text": [
      "3\n"
     ]
    }
   ],
   "source": [
    "#np.random.choice\n",
    "#The np.random.choice function returns a random sample from an array (1D array)\n",
    "tom = [1,2,3,4,5]\n",
    "print(np.random.choice(tom))"
   ]
  },
  {
   "cell_type": "code",
   "execution_count": 100,
   "metadata": {},
   "outputs": [
    {
     "data": {
      "text/plain": [
       "array(['Brian'], dtype='<U5')"
      ]
     },
     "execution_count": 100,
     "metadata": {},
     "output_type": "execute_result"
    }
   ],
   "source": [
    "#We can do the same for non numbers, returns a random choice with the datatype a unicode 5 character string. This could used\n",
    "#for selected a categoy or label at random.\n",
    "gMit = ['Tom', 'Brian', 'Ian']\n",
    "np.random.choice(gMit,1)"
   ]
  },
  {
   "cell_type": "code",
   "execution_count": 101,
   "metadata": {},
   "outputs": [
    {
     "data": {
      "text/plain": [
       "b'\\xff\\x16'"
      ]
     },
     "execution_count": 101,
     "metadata": {},
     "output_type": "execute_result"
    }
   ],
   "source": [
    "#We can even use the function to create the random bytes\n",
    "np.random.bytes(2)"
   ]
  },
  {
   "cell_type": "markdown",
   "metadata": {},
   "source": [
    "### Permutations\n",
    "_______\n",
    "The permutations functions deals with items that are re-ordered when calling the function. There seems to be two functions, the shuffle function and permutations function.\n",
    "\n",
    "The Permutation function ```np.random.permutation(x)``` takes an array and returns a copy of the array with the item reordered. If x is a multi-dimensional array, it is only shuffled along its first index. If x is an integer, randomly permute np.arange(x). If x is an array, make a copy and shuffle the elements randomly.\n",
    "\n",
    "The shuffle functions does the reodering in place.the shuffl function shuffles the array along the first axis of a multi-dimensional array. The order of sub-arrays is changed but their contents remains the same."
   ]
  },
  {
   "cell_type": "code",
   "execution_count": 102,
   "metadata": {},
   "outputs": [
    {
     "data": {
      "text/plain": [
       "array([4, 5, 1, 3, 8, 6, 0, 7, 9, 2])"
      ]
     },
     "execution_count": 102,
     "metadata": {},
     "output_type": "execute_result"
    }
   ],
   "source": [
    "#Permutation\n",
    "np.random.permutation(10)"
   ]
  },
  {
   "cell_type": "code",
   "execution_count": 103,
   "metadata": {},
   "outputs": [
    {
     "data": {
      "text/plain": [
       "array([ 5, 25,  3, 10, 19])"
      ]
     },
     "execution_count": 103,
     "metadata": {},
     "output_type": "execute_result"
    }
   ],
   "source": [
    "np.random.permutation([3, 5, 10, 19, 25])"
   ]
  },
  {
   "cell_type": "code",
   "execution_count": 104,
   "metadata": {},
   "outputs": [
    {
     "data": {
      "text/plain": [
       "array([[ 8,  9, 10, 11],\n",
       "       [ 4,  5,  6,  7],\n",
       "       [ 0,  1,  2,  3]])"
      ]
     },
     "execution_count": 104,
     "metadata": {},
     "output_type": "execute_result"
    }
   ],
   "source": [
    "arr = np.arange(12).reshape((3, 4))\n",
    "np.random.permutation(arr)"
   ]
  },
  {
   "cell_type": "code",
   "execution_count": 105,
   "metadata": {},
   "outputs": [
    {
     "data": {
      "text/plain": [
       "array([    6,  1000,     7,     5,     7,     3,     3,   200,     4,\n",
       "       10000,     2,     4,     3,     6])"
      ]
     },
     "execution_count": 105,
     "metadata": {},
     "output_type": "execute_result"
    }
   ],
   "source": [
    "#Shuffling of 1d array\n",
    "x = np.array([3,4,6,6,3,3,4,7,7,5,200,1000,2,10000])\n",
    "np.random.shuffle(x)\n",
    "x"
   ]
  },
  {
   "cell_type": "markdown",
   "metadata": {},
   "source": [
    "### Section 3 Explain the use and purpose of at least five <strong>\"Distributions\"</strong> functions\n",
    "_______"
   ]
  },
  {
   "cell_type": "markdown",
   "metadata": {},
   "source": [
    "Having conducted research on the most common distributions used in data science, I decided to select 8 distributions. What a distribution tells us is the shape of data in a sample of data over a given interval. With categorical data we can tell how frequently data falls into a certain group. With numerical data, we can see the variation and spread of the values. The 8 distributions I have selected are:\n",
    "\n",
    "\n",
    "* Bernoulli         ---  ```df = bernoulli.rvs(size=1000,p=0.5)```\n",
    "* Uniform           - ```df = np.random.uniform(low=0.0, high=1.0, size=None)```\n",
    "* Normal(Gaussian)  - ```df = np.random.normal(loc=0.0, scale=1.0, size=None)```\n",
    "* Student-t         - ```s = np.random.standard_t(10, size=100000)```\n",
    "* Binomial          - ```np.random.binomial(n, p, size=None)``` where n = number of trials and p = probability\n",
    "* Poisson           -```np.random.poisson(lam=1.0, size=None)```\n",
    "* Exponential       -```np.random.pareto(a, size=None)```\n",
    "* Pareto            -```np.random.pareto(a, size=None)```"
   ]
  },
  {
   "cell_type": "markdown",
   "metadata": {},
   "source": [
    "### Bernoulli Distribution\n",
    "\n",
    "While not a specific distribution called from the random package ( it seems related to the geometric distribution), I think the distribution should be here as sometimes\n",
    "we will be dealing with observations that only have two outcomes, i.e. heads or tails, pass or fail or in the case of\n",
    "HR (my principal area of of interest) if someone will leave or stay. The probability density function is:\n",
    "\n",
    "![](images/bernoulli.png)"
   ]
  },
  {
   "cell_type": "code",
   "execution_count": 106,
   "metadata": {},
   "outputs": [
    {
     "data": {
      "text/plain": [
       "Text(0.5, 1.0, 'Binomial Distibution')"
      ]
     },
     "execution_count": 106,
     "metadata": {},
     "output_type": "execute_result"
    },
    {
     "data": {
      "image/png": "[encoded data removed]",
      "text/plain": [
       "<Figure size 432x288 with 1 Axes>"
      ]
     },
     "metadata": {
      "needs_background": "light"
     },
     "output_type": "display_data"
    }
   ],
   "source": [
    "#Here we are using the distribution applied to coin tosses. Calling ```df = bernoulli.rvs(size=1000,p=0.5)``` where \n",
    "#the size is the number of observations or experienents and p is the bias, i.e. so here we have an unbiased coin.\n",
    "from scipy.stats import bernoulli\n",
    "df = bernoulli.rvs(size=1000,p=0.5)\n",
    "ax = sns.distplot(df,\n",
    "                  kde=True,\n",
    "                  color='black',\n",
    "                  hist_kws={\"linewidth\": 15,'alpha':0.1})\n",
    "ax.set(xlabel='Bernoulli - Only two possible outcomes such as heads or tails', ylabel='Frequency')\n",
    "plt.title(\"Binomial Distibution\", fontsize=15)"
   ]
  },
  {
   "cell_type": "markdown",
   "metadata": {},
   "source": [
    "### Uniform Distribution\n",
    "Continuing our tour on distributions for dummies, we will graduate from coin tosses to rolls of the dice. In the Bernoulli distribution we only have two outcomes possible, in the uniform distirbution we have a possibly unlimited number of outcomes (in our case 8) because we are using a 8 sided dice .\n",
    "\n",
    "\n",
    "\n",
    "The probability density function of the uniform distribution is\n",
    "\n",
    "![title](images\\uniform.png)\n",
    "\n",
    "                                          \n",
    "\n",
    "anywhere within the interval [a, b), and zero elsewhere.\n",
    "\n",
    "When high == low, values of low will be returned. If high < low, the results are officially undefined and may eventually raise an error, i.e. do not rely on this function to behave when passed arguments satisfying that inequality condition. Taken from <emp>https://docs.scipy.org/doc/numpy-1.15.1/reference/generated/numpy.random.uniform.html#numpy.random.uniform</emp>"
   ]
  },
  {
   "cell_type": "code",
   "execution_count": 107,
   "metadata": {},
   "outputs": [],
   "source": [
    "#Let's draw some examples from a uniform distribution and plot them.\n",
    "t = np.random.uniform(-1,0,1000)"
   ]
  },
  {
   "cell_type": "code",
   "execution_count": 108,
   "metadata": {},
   "outputs": [
    {
     "data": {
      "text/plain": [
       "True"
      ]
     },
     "execution_count": 108,
     "metadata": {},
     "output_type": "execute_result"
    }
   ],
   "source": [
    "#This is a test to check all values are within our range\n",
    "np.all(t>=-1)"
   ]
  },
  {
   "cell_type": "code",
   "execution_count": 109,
   "metadata": {},
   "outputs": [
    {
     "data": {
      "text/plain": [
       "True"
      ]
     },
     "execution_count": 109,
     "metadata": {},
     "output_type": "execute_result"
    }
   ],
   "source": [
    "np.all(t < 0 )"
   ]
  },
  {
   "cell_type": "code",
   "execution_count": 110,
   "metadata": {},
   "outputs": [
    {
     "data": {
      "text/plain": [
       "Text(0.5, 1.0, 'Uniform Distibution')"
      ]
     },
     "execution_count": 110,
     "metadata": {},
     "output_type": "execute_result"
    },
    {
     "data": {
      "image/png": "[encoded data removed]",
      "text/plain": [
       "<Figure size 432x288 with 1 Axes>"
      ]
     },
     "metadata": {
      "needs_background": "light"
     },
     "output_type": "display_data"
    }
   ],
   "source": [
    "sns.distplot(t, color='red')\n",
    "plt.title(\"Uniform Distibution\", fontsize=15)"
   ]
  },
  {
   "cell_type": "markdown",
   "metadata": {},
   "source": [
    "Below we show the Uniform distribution applied to the outcome of a 8 sided dice being tossed."
   ]
  },
  {
   "cell_type": "code",
   "execution_count": 111,
   "metadata": {},
   "outputs": [
    {
     "data": {
      "text/plain": [
       "(0, 1)"
      ]
     },
     "execution_count": 111,
     "metadata": {},
     "output_type": "execute_result"
    },
    {
     "data": {
      "image/png": "[encoded data removed]",
      "text/plain": [
       "<Figure size 432x288 with 1 Axes>"
      ]
     },
     "metadata": {
      "needs_background": "light"
     },
     "output_type": "display_data"
    }
   ],
   "source": [
    "#Let's say we have an 8 sided dice and each side has an equal chance of showing when landed. This is the corresponding plot.\n",
    "\n",
    "prob = np.full((8), 1/8)\n",
    "face = [1,2,3,4,5,6,7,8]\n",
    "plt.bar(face, prob)\n",
    "plt.ylabel('Probability', fontsize=15)\n",
    "plt.xlabel('8 sided Dice Roll Outcome', fontsize=15)\n",
    "plt.title('Fair 8 sided Dice Uniform Distribution', fontsize=15)\n",
    "axes = plt.gca()\n",
    "axes.set_ylim([0,1])"
   ]
  },
  {
   "cell_type": "markdown",
   "metadata": {},
   "source": [
    "### Normal Distribution\n",
    "\n",
    "The normal distribution is the classic bell shaped curve, it is also known as the gaussian distribution. It is the most well known distribution and has been used to describe the distribution of incomes in an economy, weight in poulations, perfromance review scores. \n",
    "\n",
    "The normal distribution has a few fundamental characteristics. We can recognise a normal distribution due to its shape. The curve is <strong>symmetrical</strong>, the mode, median and mean are all the same value, clustering the values symetrically around the mean.\n",
    "\n",
    "It is also <strong>unimodal</strong>, it is highest in the middle and curves downwards. \n",
    "\n",
    "It is also decribed as <strong>asymptoptic</strong> , meaning the upper and lower tails of the distribution never meets the \n",
    "baseline/x-axis.\n",
    "\n",
    "The central limit theorem says (approximately) that a random variable definied as the average of a large number of independant and identically distributed random variables is itself normally distributed. The probability density function is:\n",
    "\n",
    "![title](images\\normal.png)\n",
    "\n",
    "If we know the values of the mean and the standard deviation in a normally distributed popultion we can predict the probability of exact values by looking at the distribution. If we look at below, we can see that 99.7% of values fall with 3 standard deviations of the mean, 95% ish fall with 2 standard deviations and 68% fall with one standard deviation."
   ]
  },
  {
   "cell_type": "markdown",
   "metadata": {},
   "source": [
    "![title](images\\bell-shaped.png)"
   ]
  },
  {
   "cell_type": "code",
   "execution_count": 29,
   "metadata": {},
   "outputs": [],
   "source": [
    "#Here we will plot a normally distributed plot using 0 as our mean, 0.1 as our\n",
    "#standard deviation(how spread out data is from the mean) and 1000 values.\n",
    "mu, sigma = 0, 1.0 # mean and standard deviation\n",
    "s = np.random.normal(mu, sigma, 1000)"
   ]
  },
  {
   "cell_type": "code",
   "execution_count": 30,
   "metadata": {},
   "outputs": [
    {
     "data": {
      "text/plain": [
       "Text(0.5, 1.0, 'Normal Distribution')"
      ]
     },
     "execution_count": 30,
     "metadata": {},
     "output_type": "execute_result"
    },
    {
     "data": {
      "image/png": "[encoded data removed]",
      "text/plain": [
       "<Figure size 432x288 with 1 Axes>"
      ]
     },
     "metadata": {
      "needs_background": "light"
     },
     "output_type": "display_data"
    }
   ],
   "source": [
    "sns.distplot(s, color=\"blue\")\n",
    "plt.title('Normal Distribution', fontsize=15)"
   ]
  },
  {
   "cell_type": "code",
   "execution_count": 113,
   "metadata": {},
   "outputs": [
    {
     "data": {
      "text/plain": [
       "Text(0.5, 1.0, 'Another Normal Distribution')"
      ]
     },
     "execution_count": 113,
     "metadata": {},
     "output_type": "execute_result"
    },
    {
     "data": {
      "image/png": "[encoded data removed]",
      "text/plain": [
       "<Figure size 432x288 with 1 Axes>"
      ]
     },
     "metadata": {
      "needs_background": "light"
     },
     "output_type": "display_data"
    }
   ],
   "source": [
    "#Here we have the more traditional plot of the bell shaped curve. This is the probability density function of \n",
    "#a range of 2000 values and a mean of 0.\n",
    "n = np.arange(-1000, 1000)\n",
    "mean = 0\n",
    "normal = stats.norm.pdf(n, mean, 300)\n",
    "plt.plot(n, normal)\n",
    "plt.xlabel('Distribution', fontsize=12)\n",
    "plt.ylabel('Probability', fontsize=12)\n",
    "plt.title(\"Another Normal Distribution\")"
   ]
  },
  {
   "cell_type": "markdown",
   "metadata": {},
   "source": [
    "### Student-t Distribution"
   ]
  },
  {
   "cell_type": "markdown",
   "metadata": {},
   "source": [
    "The student-t distribution can be any of many probability distributions that arise from estimating the mean of a normally/gaussian distributed population in scenarios where the sample size (degree of freedom refers to the number of independant obvs in a data set)is low and the population's standard deviation (how spread out the values are) is unknown. As the degrees of freedom increase, the students-t resembles the normal distribution more and more. The use of the test shows how significant the difference between a groups means could have happened by chances. This is used alot in hypothesis testing and ANOVA (Analysis of Variance). The probability density finction is:\n",
    "\n",
    "![title](images\\student_t.png)\n",
    "\n"
   ]
  },
  {
   "cell_type": "markdown",
   "metadata": {},
   "source": [
    "Below we are showing the example used at https://docs.scipy.org/doc/numpy-1.15.1/reference/generated/numpy.random.standard_t.html?highlight=student . This example is showing how much does the energy intake for 11 women diviate from 95% of the recommeded calorific intake."
   ]
  },
  {
   "cell_type": "code",
   "execution_count": 126,
   "metadata": {},
   "outputs": [],
   "source": [
    "intake = np.array([5260., 5470, 5640, 6180, 6390, 6515, 6805, 7515, \\\n",
    "                   7515, 8230, 8770])"
   ]
  },
  {
   "cell_type": "code",
   "execution_count": 127,
   "metadata": {},
   "outputs": [
    {
     "data": {
      "text/plain": [
       "1142.1232221373727"
      ]
     },
     "execution_count": 127,
     "metadata": {},
     "output_type": "execute_result"
    }
   ],
   "source": [
    "s = np.random.standard_t(10, size=100000)\n",
    "np.mean(intake)\n",
    "\n",
    "intake.std(ddof=1)"
   ]
  },
  {
   "cell_type": "code",
   "execution_count": 128,
   "metadata": {},
   "outputs": [
    {
     "data": {
      "text/plain": [
       "Text(0.5, 1.0, 'Student-t')"
      ]
     },
     "execution_count": 128,
     "metadata": {},
     "output_type": "execute_result"
    },
    {
     "data": {
      "image/png": "[encoded data removed]",
      "text/plain": [
       "<Figure size 432x288 with 1 Axes>"
      ]
     },
     "metadata": {
      "needs_background": "light"
     },
     "output_type": "display_data"
    }
   ],
   "source": [
    "t = (np.mean(intake)-7725)/(intake.std(ddof=1)/np.sqrt(len(intake)))\n",
    "import matplotlib.pyplot as plt\n",
    "h = plt.hist(s, bins=100, density=True)\n",
    "plt.title('Student-t', fontsize=15)"
   ]
  },
  {
   "cell_type": "code",
   "execution_count": 35,
   "metadata": {},
   "outputs": [
    {
     "data": {
      "text/plain": [
       "0.00871"
      ]
     },
     "execution_count": 35,
     "metadata": {},
     "output_type": "execute_result"
    }
   ],
   "source": [
    "#p value is equal to .009\n",
    "np.sum(s<t) / float(len(s))"
   ]
  },
  {
   "cell_type": "markdown",
   "metadata": {},
   "source": [
    "### Binomial Distribution\n",
    "The binomial distribution shows the distribution of possible outcomes for two outcomes in a series of experiments. Taking our coin toss as an example let's say we want to understand what is the outcome for a number of events say how many time heads will show up in 1000 experiements where we flip the coin 20 times. The chances of a heads or tails is even. The binomial distribution assumes that each trial or event is independant of each other and there can only be two outcomes. The probability density function is :\n",
    "\n",
    "![title](images\\binomial.png)\n"
   ]
  },
  {
   "cell_type": "code",
   "execution_count": 131,
   "metadata": {},
   "outputs": [
    {
     "data": {
      "text/plain": [
       "Text(0.5, 1.0, 'Binomial')"
      ]
     },
     "execution_count": 131,
     "metadata": {},
     "output_type": "execute_result"
    },
    {
     "data": {
      "image/png": "[encoded data removed]",
      "text/plain": [
       "<Figure size 432x288 with 1 Axes>"
      ]
     },
     "metadata": {
      "needs_background": "light"
     },
     "output_type": "display_data"
    }
   ],
   "source": [
    "#Here we are generating one thousand data points in which flip the coin twenty times with an unbiased coin. \n",
    "df1 = stats.binom.rvs(n=20,p=0.5,loc=0,size=1000)\n",
    "ax = sns.distplot(df1,\n",
    "                  kde=True,\n",
    "                  color='green',\n",
    "                  hist_kws={\"linewidth\": 30,'alpha':0.5})\n",
    "ax.set(xlabel='Binomial distribtuion', ylabel='Frequency')\n",
    "plt.title('Binomial', fontsize=15)\n",
    "\n"
   ]
  },
  {
   "cell_type": "code",
   "execution_count": 130,
   "metadata": {},
   "outputs": [
    {
     "data": {
      "text/plain": [
       "0.6230468749999999"
      ]
     },
     "execution_count": 130,
     "metadata": {},
     "output_type": "execute_result"
    }
   ],
   "source": [
    "#Thought this was a nice bit of code (cdf = culmulative distribution function) that complements the distribution. \n",
    "#Here we are seeing what is the probability of seeing 5(k) heads in 10(n) trials and using an unbiased coin (p=.5).\n",
    "stats.binom.cdf(k=5,        \n",
    "                n=10,       \n",
    "                p=0.5)"
   ]
  },
  {
   "cell_type": "markdown",
   "metadata": {},
   "source": [
    "### Poisson \n",
    "The poisson is a useful distribution for understanding the occurence of event when we dont know how often it occurs. Good examples for poisson distributions are mechanical fault on an assembly line or call centre activity. \n",
    "\n",
    "The below image shows the formula for deriving the Poisson distribution.\n",
    "\n",
    "λ is the greek letter L and here it refers to the average rate of an event happening. "
   ]
  },
  {
   "cell_type": "markdown",
   "metadata": {},
   "source": [
    "![title](images\\poisson.png)"
   ]
  },
  {
   "cell_type": "code",
   "execution_count": 132,
   "metadata": {},
   "outputs": [],
   "source": [
    "#Let's plot the Poisson distibution using a lambda(interval of 5) and size of 100000\n",
    "s = np.random.poisson(5, 100000)"
   ]
  },
  {
   "cell_type": "code",
   "execution_count": 133,
   "metadata": {},
   "outputs": [
    {
     "data": {
      "text/plain": [
       "Text(0.5, 1.0, 'Poisson')"
      ]
     },
     "execution_count": 133,
     "metadata": {},
     "output_type": "execute_result"
    },
    {
     "data": {
      "image/png": "[encoded data removed]",
      "text/plain": [
       "<Figure size 432x288 with 1 Axes>"
      ]
     },
     "metadata": {
      "needs_background": "light"
     },
     "output_type": "display_data"
    }
   ],
   "source": [
    "#Let's plot what it looks like.\n",
    "sns.distplot(s, 14, color=\"blue\", kde=True,fit=norm)\n",
    "plt.title('Poisson', fontsize=15)"
   ]
  },
  {
   "cell_type": "code",
   "execution_count": 40,
   "metadata": {},
   "outputs": [
    {
     "data": {
      "image/png": "[encoded data removed]",
      "text/plain": [
       "<Figure size 432x288 with 1 Axes>"
      ]
     },
     "metadata": {
      "needs_background": "light"
     },
     "output_type": "display_data"
    }
   ],
   "source": [
    "#Use matplotlib to show  the same.\n",
    "counts, bins, ignored = plt.hist(s, 14, density=True)\n",
    "plt.show()"
   ]
  },
  {
   "cell_type": "code",
   "execution_count": 41,
   "metadata": {},
   "outputs": [
    {
     "data": {
      "text/plain": [
       "array([[ 96, 517],\n",
       "       [111, 496],\n",
       "       [ 82, 488],\n",
       "       [ 93, 491],\n",
       "       [112, 538],\n",
       "       [111, 495],\n",
       "       [106, 491],\n",
       "       [ 94, 487],\n",
       "       [ 96, 469],\n",
       "       [111, 454],\n",
       "       [ 98, 471],\n",
       "       [ 95, 500],\n",
       "       [114, 481],\n",
       "       [104, 511],\n",
       "       [ 96, 472],\n",
       "       [ 77, 486],\n",
       "       [104, 541],\n",
       "       [105, 521],\n",
       "       [113, 499],\n",
       "       [127, 476],\n",
       "       [ 94, 520],\n",
       "       [105, 505],\n",
       "       [127, 482],\n",
       "       [ 91, 495],\n",
       "       [ 95, 483],\n",
       "       [103, 518],\n",
       "       [107, 516],\n",
       "       [108, 551],\n",
       "       [ 85, 535],\n",
       "       [101, 487],\n",
       "       [ 93, 462],\n",
       "       [ 87, 523],\n",
       "       [ 85, 493],\n",
       "       [ 93, 504],\n",
       "       [110, 498],\n",
       "       [103, 454],\n",
       "       [107, 490],\n",
       "       [ 99, 493],\n",
       "       [105, 507],\n",
       "       [102, 476],\n",
       "       [ 87, 484],\n",
       "       [ 97, 513],\n",
       "       [105, 464],\n",
       "       [109, 512],\n",
       "       [104, 524],\n",
       "       [123, 498],\n",
       "       [ 96, 480],\n",
       "       [114, 506],\n",
       "       [109, 495],\n",
       "       [120, 493]])"
      ]
     },
     "execution_count": 41,
     "metadata": {},
     "output_type": "execute_result"
    }
   ],
   "source": [
    "#How to draw 50 values for lambda 100 and 500, taken from the docs of numpy\n",
    "z = np.random.poisson(lam=(100., 500.), size=(50, 2))\n",
    "z"
   ]
  },
  {
   "cell_type": "markdown",
   "metadata": {},
   "source": [
    "### Exponential Distribution\n",
    "The exponential distribution is used to model the time taken between the occurance of different events in a poisson process i.e. events occur independantly and at a constant average rate.  Again, in HR we can use the exponential curve to model the survival curve of employees or in Marketing we can use it to model how long someone will spend on a website. (https://towardsdatascience.com/what-is-exponential-distribution-7bdd08590e2a) , The probability density function is:\n",
    "\n",
    "![title](images\\expo.png)\n",
    "\n",
    "The model uses lambda λ to declare the rate between events in the same way as the poisson distribution."
   ]
  },
  {
   "cell_type": "code",
   "execution_count": 134,
   "metadata": {},
   "outputs": [
    {
     "data": {
      "text/plain": [
       "array([0.66629267, 0.6041954 , 0.21011822])"
      ]
     },
     "execution_count": 134,
     "metadata": {},
     "output_type": "execute_result"
    }
   ],
   "source": [
    "np.random.exponential(1,3)"
   ]
  },
  {
   "cell_type": "code",
   "execution_count": 135,
   "metadata": {},
   "outputs": [],
   "source": [
    "#Let's run and plot what that looks like\n",
    "df = np.random.exponential(5, size=10000)\n"
   ]
  },
  {
   "cell_type": "code",
   "execution_count": 136,
   "metadata": {},
   "outputs": [
    {
     "data": {
      "text/plain": [
       "Text(0.5, 1.0, 'Exponential')"
      ]
     },
     "execution_count": 136,
     "metadata": {},
     "output_type": "execute_result"
    },
    {
     "data": {
      "image/png": "[encoded data removed]",
      "text/plain": [
       "<Figure size 432x288 with 1 Axes>"
      ]
     },
     "metadata": {
      "needs_background": "light"
     },
     "output_type": "display_data"
    }
   ],
   "source": [
    "sns.distplot(df, 100, color=\"green\")\n",
    "plt.title('Exponential', fontsize=15)"
   ]
  },
  {
   "cell_type": "code",
   "execution_count": 138,
   "metadata": {},
   "outputs": [
    {
     "name": "stdout",
     "output_type": "stream",
     "text": [
      "[4.70537935]\n"
     ]
    },
    {
     "data": {
      "image/png": "[encoded data removed]",
      "text/plain": [
       "<Figure size 432x288 with 1 Axes>"
      ]
     },
     "metadata": {
      "needs_background": "light"
     },
     "output_type": "display_data"
    }
   ],
   "source": [
    "#Let's say the below graphs show the failure rate of a piece of equipment, we can vary the lambda value to see how the \n",
    "#equipment performs without failure. The green line with a lambda of .7 \n",
    "#Taken from https://stackoverflow.com/questions/47319277/generate-random-numbers-from-exponential-\n",
    "#distribution-and-model-using-python\n",
    "\n",
    "from scipy.optimize import curve_fit\n",
    "\n",
    "df1 = np.random.exponential(5, size=1000)\n",
    "\n",
    "hist,edges = np.histogram(df1,bins=\"auto\",density=True )\n",
    "\n",
    "x = edges[:-1]+np.diff(edges)/2.\n",
    "plt.scatter(x,hist)\n",
    "\n",
    "func = lambda x,beta: 1./beta*np.exp(-x/beta)\n",
    "\n",
    "popt, pcov = curve_fit(f=func, xdata=x, ydata=hist) \n",
    "\n",
    "print(popt)\n",
    "\n",
    "xx = np.linspace(0, x.max(), 101)\n",
    "plt.plot(xx, func(xx,*popt), ls=\"--\", color=\"g\", \n",
    "         label=\"fit, $beta = ${}\".format(popt))\n",
    "plt.title('Another exponential distribution', fontsize=15)\n",
    "plt.legend()\n",
    "plt.show()"
   ]
  },
  {
   "cell_type": "code",
   "execution_count": 140,
   "metadata": {},
   "outputs": [
    {
     "data": {
      "text/plain": [
       "Text(0.5, 1.0, 'Yet another exponential distribution curve')"
      ]
     },
     "execution_count": 140,
     "metadata": {},
     "output_type": "execute_result"
    },
    {
     "data": {
      "image/png": "[encoded data removed]",
      "text/plain": [
       "<Figure size 432x288 with 1 Axes>"
      ]
     },
     "metadata": {
      "needs_background": "light"
     },
     "output_type": "display_data"
    }
   ],
   "source": [
    "#Adapted from https://www.datacamp.com/community/tutorials/probability-distributions-python\n",
    "\n",
    "from scipy.stats import expon\n",
    "df = expon.rvs(scale=1,loc=0,size=1000)\n",
    "\n",
    "ax = sns.distplot(df,\n",
    "                  kde=True,\n",
    "                  bins=100,\n",
    "                  color='blue',\n",
    "                  hist_kws={\"linewidth\": 20,'alpha':.2})\n",
    "ax.set(xlabel='Time', ylabel='Failure')\n",
    "plt.title('Yet another exponential distribution curve', fontsize=15)"
   ]
  },
  {
   "cell_type": "markdown",
   "metadata": {},
   "source": [
    "### Pareto distribution"
   ]
  },
  {
   "cell_type": "markdown",
   "metadata": {},
   "source": [
    "The pareto distribution is another interesting distribution. It is sometimes called the 80/20 rule. The distribution was made popular by Valfredo Pareto, an Italian economist noticed that 80% of Italy's wealth was possessed by 20% of the population. The probability density function: \n",
    "\n",
    "![title](images\\pareto.png)"
   ]
  },
  {
   "cell_type": "code",
   "execution_count": 178,
   "metadata": {},
   "outputs": [],
   "source": [
    "#We set our parameters and plot the shape.\n",
    "a, m =4., 3. # shape and mode\n",
    "s = (np.random.pareto(a, 1000) + 1) * m"
   ]
  },
  {
   "cell_type": "code",
   "execution_count": 179,
   "metadata": {},
   "outputs": [
    {
     "data": {
      "text/plain": [
       "Text(0.5, 1.0, 'Pareto distribution')"
      ]
     },
     "execution_count": 179,
     "metadata": {},
     "output_type": "execute_result"
    },
    {
     "data": {
      "image/png": "[encoded data removed]",
      "text/plain": [
       "<Figure size 432x288 with 1 Axes>"
      ]
     },
     "metadata": {
      "needs_background": "light"
     },
     "output_type": "display_data"
    }
   ],
   "source": [
    "sns.distplot(s, 100, color=\"green\")\n",
    "plt.title('Pareto distribution', fontsize=15)"
   ]
  },
  {
   "cell_type": "code",
   "execution_count": 181,
   "metadata": {},
   "outputs": [
    {
     "data": {
      "image/png": "[encoded data removed]",
      "text/plain": [
       "<Figure size 432x288 with 1 Axes>"
      ]
     },
     "metadata": {
      "needs_background": "light"
     },
     "output_type": "display_data"
    }
   ],
   "source": [
    "#Plot the same using matplot\n",
    "#Plot the distribution, the term power tail is also applied to the pareto distribution. In HR, it could be that 80% of\n",
    "#your revenue comes from 20% of sales-people. \n",
    "count, bins, _ = plt.hist(s, 20, density=True)\n",
    "fit = a**m**a / bins**(a+1)\n",
    "plt.plot(bins, max(count)*fit/max(fit), linewidth=2, color='r')\n",
    "plt.ylabel('Lets say revenue', fontsize=12)\n",
    "plt.xlabel('Staff', fontsize=12)\n",
    "plt.title('Pareto Distribution', fontsize=15)\n",
    "plt.show()\n",
    "\n"
   ]
  },
  {
   "cell_type": "markdown",
   "metadata": {},
   "source": [
    "Why I really like this distribution is because we assume a lot of the events follow a normal distribution but this may not always the case. Let's say Acme Ltd sells widgets. They believe their rev per staff follows a normal curve also. However, when we run the figures we can see that the majority of revenue is generated by a small number of staff. This can help us target training and other initiatives to develop and manage the underperforming staff.\n",
    "\n",
    "https://www.linkedin.com/pulse/20140215200145-131079-the-myth-of-the-bell-curve/"
   ]
  },
  {
   "cell_type": "code",
   "execution_count": 147,
   "metadata": {},
   "outputs": [
    {
     "data": {
      "text/plain": [
       "4.093552049982608"
      ]
     },
     "execution_count": 147,
     "metadata": {},
     "output_type": "execute_result"
    }
   ],
   "source": [
    "#State the mean\n",
    "np.mean(s)"
   ]
  },
  {
   "cell_type": "code",
   "execution_count": 51,
   "metadata": {},
   "outputs": [
    {
     "data": {
      "text/plain": [
       "3992.4236498693185"
      ]
     },
     "execution_count": 51,
     "metadata": {},
     "output_type": "execute_result"
    }
   ],
   "source": [
    "#State the sum of values\n",
    "np.sum(s)"
   ]
  },
  {
   "cell_type": "code",
   "execution_count": 52,
   "metadata": {},
   "outputs": [
    {
     "data": {
      "text/plain": [
       "1.2658288978439542"
      ]
     },
     "execution_count": 52,
     "metadata": {},
     "output_type": "execute_result"
    }
   ],
   "source": [
    "#State the standard deviation\n",
    "np.std(s)"
   ]
  },
  {
   "cell_type": "markdown",
   "metadata": {},
   "source": [
    "### Section 4 Explain the use of seeds in generating pseudorandom numbers\n",
    "________________"
   ]
  },
  {
   "cell_type": "markdown",
   "metadata": {},
   "source": [
    "As already stated the numpy.random package uses the Mersenne Twister algorithm to generate numbers. All computers operate according to certain restrictions and architectural constraints and so the term *pseudo-random* is more apt for describe the values generated by the numpy.random package.\n",
    "\n",
    "While the value of having random vaules generated is important, we must be able to reproduce the same set of values repeatedly. Numpy provides for this facilty by giving us the ```np.random.seed()``` function.\n",
    "\n",
    "The value of the seed number denotes the position in the calulation of pi that serves as the seed value. The term pseudo random refers to the concept that while the output is random by setting the seed we ensure predictable repeatable results."
   ]
  },
  {
   "cell_type": "code",
   "execution_count": 182,
   "metadata": {},
   "outputs": [
    {
     "data": {
      "text/plain": [
       "array([0.98919915, 0.64554672, 0.95342525])"
      ]
     },
     "execution_count": 182,
     "metadata": {},
     "output_type": "execute_result"
    }
   ],
   "source": [
    "#Call the np.random.seed() function and then the np.random.random function to demonstrate that \n",
    "#will result in the same output as the random process called.\n",
    "np.random.random(3)"
   ]
  },
  {
   "cell_type": "code",
   "execution_count": 183,
   "metadata": {},
   "outputs": [
    {
     "data": {
      "text/plain": [
       "array([0.66731553, 0.91640486, 0.34321163])"
      ]
     },
     "execution_count": 183,
     "metadata": {},
     "output_type": "execute_result"
    }
   ],
   "source": [
    "#The two arrays contain (except for an amazing conincidence) different values.\n",
    "np.random.random(3)"
   ]
  },
  {
   "cell_type": "code",
   "execution_count": 184,
   "metadata": {},
   "outputs": [
    {
     "data": {
      "text/plain": [
       "array([0.45805495, 0.30834961, 0.23148705])"
      ]
     },
     "execution_count": 184,
     "metadata": {},
     "output_type": "execute_result"
    }
   ],
   "source": [
    "#Now we will set the seed and re-run and then again to verify\n",
    "np.random.seed(35)\n",
    "np.random.random(3)\n"
   ]
  },
  {
   "cell_type": "code",
   "execution_count": 185,
   "metadata": {},
   "outputs": [
    {
     "data": {
      "text/plain": [
       "array([0.45805495, 0.30834961, 0.23148705])"
      ]
     },
     "execution_count": 185,
     "metadata": {},
     "output_type": "execute_result"
    }
   ],
   "source": [
    "np.random.seed(35)\n",
    "np.random.random(3)"
   ]
  },
  {
   "cell_type": "markdown",
   "metadata": {},
   "source": [
    "# References\n",
    "\n",
    "Albon, C., __Machine Learning with Python Cookbook__\n",
    "\n",
    "Burkov, A., __The Hundred-Page Machine Learning Book__\n",
    "\n",
    "Hastie, T. Tibshirani, R. Friedman,J . __The Elements of Statistical Learning:Data Mining, Inference, and Prediction__\n",
    "\n",
    "Grus, J.,__Data Science From Scratch, First Principles with Python__\n",
    "\n",
    "Kinney, W., __Python for Data Analysis__\n",
    "\n",
    "James, J.,  Witten, D., Hastie, T., Tibshirani R., __An Introduction to Statistical Learning__\n",
    "\n",
    "Dell EMC Education Services, __Data Science and Big Data Analytics: Discovering, Analyzing, Visualizing and Presenting Data__\n",
    "\n",
    "\n",
    "\n",
    "\n",
    "\n",
    "## Websites\n",
    "\n",
    "https://towardsdatascience.com/probability-distributions-in-data-science-cce6e64873a7\n",
    "\n",
    "https://docs.scipy.org/doc/numpy-1.15.0/reference/routines.random.html\n",
    "\n",
    "https://docs.scipy.org/doc/numpy-1.15.1/reference/generated/numpy.random.standard_t.html?highlight=student \n",
    "\n",
    "https://bids.berkeley.edu/news/simple-random-sampling-not-so-simple\n",
    "\n",
    "https://github.com/susanli2016\n",
    "\n",
    "https://github.com/chrisalbon\n",
    "\n",
    "https://www.linkedin.com/pulse/20140215200145-131079-the-myth-of-the-bell-curve/\n",
    "\n",
    "\n",
    "\n",
    "\n"
   ]
  },
  {
   "cell_type": "markdown",
   "metadata": {},
   "source": [
    "# END"
   ]
  }
 ],
 "metadata": {
  "kernelspec": {
   "display_name": "Python 3",
   "language": "python",
   "name": "python3"
  },
  "language_info": {
   "codemirror_mode": {
    "name": "ipython",
    "version": 3
   },
   "file_extension": ".py",
   "mimetype": "text/x-python",
   "name": "python",
   "nbconvert_exporter": "python",
   "pygments_lexer": "ipython3",
   "version": "3.7.1"
  }
 },
 "nbformat": 4,
 "nbformat_minor": 2
}
